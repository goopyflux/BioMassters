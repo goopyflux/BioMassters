{
 "cells": [
  {
   "cell_type": "markdown",
   "id": "42b7778d-7541-43b1-8ba4-14e2e357b7fd",
   "metadata": {},
   "source": [
    "# Setup Paperspace Gradient Instance"
   ]
  },
  {
   "cell_type": "markdown",
   "id": "792796b9-9d64-477c-b35a-1549a667ac5f",
   "metadata": {},
   "source": [
    "## AWS CLI"
   ]
  },
  {
   "cell_type": "raw",
   "id": "13b42e6f-c765-4d84-9bd7-8bf163ec8fde",
   "metadata": {
    "jupyter": {
     "outputs_hidden": true
    },
    "tags": []
   },
   "source": [
    "# Dec. 5 2022 - This step is not necessary if mounting a public S3\n",
    "# bucket as a data source in Paperspace Gradient Notebook instance\n",
    "# Setup AWS CLI\n",
    "!unzip ../awscliv2.zip\n",
    "!../aws/install"
   ]
  },
  {
   "cell_type": "raw",
   "id": "58a42e37-05f2-4334-90c6-090c9d8ed88a",
   "metadata": {},
   "source": [
    "# Test AWS CLI installation\n",
    "!aws --version"
   ]
  },
  {
   "cell_type": "markdown",
   "id": "f6d40d32-30cd-45eb-8c77-bc511b954c64",
   "metadata": {},
   "source": [
    "## Python Packages"
   ]
  },
  {
   "cell_type": "code",
   "execution_count": 1,
   "id": "5b5e2fa4-569b-4493-ab8d-98e86c01344f",
   "metadata": {},
   "outputs": [
    {
     "name": "stdout",
     "output_type": "stream",
     "text": [
      "Collecting rasterio\n",
      "  Downloading rasterio-1.3.4-cp39-cp39-manylinux_2_17_x86_64.manylinux2014_x86_64.whl (20.9 MB)\n",
      "\u001b[2K     \u001b[90m━━━━━━━━━━━━━━━━━━━━━━━━━━━━━━━━━━━━━━━━\u001b[0m \u001b[32m20.9/20.9 MB\u001b[0m \u001b[31m57.6 MB/s\u001b[0m eta \u001b[36m0:00:00\u001b[0m00:01\u001b[0m00:01\u001b[0m\n",
      "\u001b[?25hRequirement already satisfied: numpy>=1.18 in /usr/local/lib/python3.9/dist-packages (from rasterio) (1.23.1)\n",
      "Requirement already satisfied: setuptools in /usr/local/lib/python3.9/dist-packages (from rasterio) (63.1.0)\n",
      "Requirement already satisfied: certifi in /usr/lib/python3/dist-packages (from rasterio) (2019.11.28)\n",
      "Collecting click-plugins\n",
      "  Downloading click_plugins-1.1.1-py2.py3-none-any.whl (7.5 kB)\n",
      "Collecting affine\n",
      "  Downloading affine-2.3.1-py2.py3-none-any.whl (16 kB)\n",
      "Requirement already satisfied: click>=4.0 in /usr/local/lib/python3.9/dist-packages (from rasterio) (8.1.3)\n",
      "Requirement already satisfied: attrs in /usr/local/lib/python3.9/dist-packages (from rasterio) (18.2.0)\n",
      "Collecting cligj>=0.5\n",
      "  Downloading cligj-0.7.2-py3-none-any.whl (7.1 kB)\n",
      "Collecting snuggs>=1.4.1\n",
      "  Downloading snuggs-1.4.7-py3-none-any.whl (5.4 kB)\n",
      "Requirement already satisfied: pyparsing>=2.1.6 in /usr/local/lib/python3.9/dist-packages (from snuggs>=1.4.1->rasterio) (3.0.9)\n",
      "Installing collected packages: affine, snuggs, cligj, click-plugins, rasterio\n",
      "Successfully installed affine-2.3.1 click-plugins-1.1.1 cligj-0.7.2 rasterio-1.3.4 snuggs-1.4.7\n",
      "\u001b[33mWARNING: Running pip as the 'root' user can result in broken permissions and conflicting behaviour with the system package manager. It is recommended to use a virtual environment instead: https://pip.pypa.io/warnings/venv\u001b[0m\u001b[33m\n",
      "\u001b[0m"
     ]
    }
   ],
   "source": [
    "# Install necessary packages\n",
    "!pip install rasterio"
   ]
  },
  {
   "cell_type": "raw",
   "id": "9618ee52-8480-4906-b2f6-adb89aa18f20",
   "metadata": {},
   "source": [
    "# Install additional packages (optional)\n",
    "!pip install --upgrade torchdata fsspec s3fs\n",
    "# Update outdated PyTorch packages\n",
    "!pip install --upgrade torchvision torchaudio"
   ]
  },
  {
   "cell_type": "markdown",
   "id": "865574db-c4ca-4b87-9e9e-0c2844e35fc5",
   "metadata": {},
   "source": [
    "## Configure Git"
   ]
  },
  {
   "cell_type": "code",
   "execution_count": 5,
   "id": "8a6f4a2e-ebd1-4d57-8662-f9186c828ea1",
   "metadata": {},
   "outputs": [],
   "source": [
    "!git config --local user.name \"Goopy Flux\"\n",
    "!git config --local user.email \"goopy.flux@gmail.com\""
   ]
  },
  {
   "cell_type": "code",
   "execution_count": null,
   "id": "7c20b393-49ea-40eb-83fa-3280aec70c65",
   "metadata": {},
   "outputs": [],
   "source": []
  }
 ],
 "metadata": {
  "kernelspec": {
   "display_name": "Python 3 (ipykernel)",
   "language": "python",
   "name": "python3"
  },
  "language_info": {
   "codemirror_mode": {
    "name": "ipython",
    "version": 3
   },
   "file_extension": ".py",
   "mimetype": "text/x-python",
   "name": "python",
   "nbconvert_exporter": "python",
   "pygments_lexer": "ipython3",
   "version": "3.9.13"
  }
 },
 "nbformat": 4,
 "nbformat_minor": 5
}
