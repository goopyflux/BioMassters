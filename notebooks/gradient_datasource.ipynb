{
 "cells": [
  {
   "cell_type": "markdown",
   "id": "4000163a-d828-4028-979f-97b0fbb2cdf5",
   "metadata": {},
   "source": [
    "# Experiment Mounting S3 Bucket as Paperspace Gradient Data Source"
   ]
  },
  {
   "cell_type": "code",
   "execution_count": 1,
   "id": "5a755e48-341a-4dac-8690-cc17a4b3a470",
   "metadata": {
    "collapsed": true,
    "jupyter": {
     "outputs_hidden": true
    },
    "tags": []
   },
   "outputs": [
    {
     "name": "stdout",
     "output_type": "stream",
     "text": [
      "Collecting rasterio\n",
      "  Downloading rasterio-1.3.4-cp39-cp39-manylinux_2_17_x86_64.manylinux2014_x86_64.whl (20.9 MB)\n",
      "\u001b[2K     \u001b[90m━━━━━━━━━━━━━━━━━━━━━━━━━━━━━━━━━━━━━━━━\u001b[0m \u001b[32m20.9/20.9 MB\u001b[0m \u001b[31m47.1 MB/s\u001b[0m eta \u001b[36m0:00:00\u001b[0m00:01\u001b[0m00:01\u001b[0m\n",
      "\u001b[?25hRequirement already satisfied: numpy>=1.18 in /usr/local/lib/python3.9/dist-packages (from rasterio) (1.23.1)\n",
      "Requirement already satisfied: certifi in /usr/lib/python3/dist-packages (from rasterio) (2019.11.28)\n",
      "Collecting affine\n",
      "  Downloading affine-2.3.1-py2.py3-none-any.whl (16 kB)\n",
      "Collecting click-plugins\n",
      "  Downloading click_plugins-1.1.1-py2.py3-none-any.whl (7.5 kB)\n",
      "Requirement already satisfied: click>=4.0 in /usr/local/lib/python3.9/dist-packages (from rasterio) (8.1.3)\n",
      "Collecting cligj>=0.5\n",
      "  Downloading cligj-0.7.2-py3-none-any.whl (7.1 kB)\n",
      "Collecting snuggs>=1.4.1\n",
      "  Downloading snuggs-1.4.7-py3-none-any.whl (5.4 kB)\n",
      "Requirement already satisfied: attrs in /usr/local/lib/python3.9/dist-packages (from rasterio) (18.2.0)\n",
      "Requirement already satisfied: setuptools in /usr/local/lib/python3.9/dist-packages (from rasterio) (63.1.0)\n",
      "Requirement already satisfied: pyparsing>=2.1.6 in /usr/local/lib/python3.9/dist-packages (from snuggs>=1.4.1->rasterio) (3.0.9)\n",
      "Installing collected packages: affine, snuggs, cligj, click-plugins, rasterio\n",
      "Successfully installed affine-2.3.1 click-plugins-1.1.1 cligj-0.7.2 rasterio-1.3.4 snuggs-1.4.7\n",
      "\u001b[33mWARNING: Running pip as the 'root' user can result in broken permissions and conflicting behaviour with the system package manager. It is recommended to use a virtual environment instead: https://pip.pypa.io/warnings/venv\u001b[0m\u001b[33m\n",
      "\u001b[0m"
     ]
    }
   ],
   "source": [
    "!pip install --upgrade rasterio"
   ]
  },
  {
   "cell_type": "code",
   "execution_count": 1,
   "id": "1b730692-54dc-403e-bd60-802ec1f17152",
   "metadata": {},
   "outputs": [],
   "source": [
    "import os\n",
    "from pathlib import Path\n",
    "import random\n",
    "from time import time\n",
    "import warnings\n",
    "\n",
    "import pandas as pd\n",
    "import rasterio"
   ]
  },
  {
   "cell_type": "code",
   "execution_count": 2,
   "id": "63e8bff8-7738-449b-abf9-ba6010deedc2",
   "metadata": {},
   "outputs": [],
   "source": [
    "warnings.filterwarnings(\"ignore\", category=rasterio.errors.NotGeoreferencedWarning)"
   ]
  },
  {
   "cell_type": "code",
   "execution_count": 3,
   "id": "7a8efeaa-4ca0-4f2c-ba2e-8842c03cd1ca",
   "metadata": {},
   "outputs": [],
   "source": [
    "DATASET_DIR = Path(\"/datasets/biomassters\")\n",
    "features_metadata_csv = DATASET_DIR / \"features_metadata.csv\"\n",
    "train_agbm_csv = DATASET_DIR / \"train_agbm_metadata.csv\"\n",
    "train_images_dir = DATASET_DIR / \"train_features\"\n",
    "train_agbm_dir = DATASET_DIR / \"train_agbm\"\n",
    "test_images_dir = DATASET_DIR / \"test_features\""
   ]
  },
  {
   "cell_type": "code",
   "execution_count": 4,
   "id": "3aece819-1e0a-4aaf-a3b5-35cd3c64e5e3",
   "metadata": {},
   "outputs": [
    {
     "name": "stdout",
     "output_type": "stream",
     "text": [
      "Total images in training set: 189078\n",
      "Time taken: 19.380016326904297\n"
     ]
    }
   ],
   "source": [
    "start = time()\n",
    "train_images = os.listdir(train_images_dir)\n",
    "end = time()\n",
    "print(f\"Total images in training set: {len(train_images)}\")\n",
    "print(f\"Time taken: {end - start}\")"
   ]
  },
  {
   "cell_type": "code",
   "execution_count": 5,
   "id": "cf71f5dc-0873-47cd-ac54-a898d5eca3b1",
   "metadata": {},
   "outputs": [],
   "source": [
    "random_images = [train_images[r] for r in random.choices(range(len(train_images)), k=10)]"
   ]
  },
  {
   "cell_type": "code",
   "execution_count": 6,
   "id": "89c985ea-641e-4d24-b743-0337d52d6753",
   "metadata": {},
   "outputs": [
    {
     "data": {
      "text/plain": [
       "['c5cc3c34_S2_06.tif',\n",
       " 'ff4774a4_S2_00.tif',\n",
       " '5f7ec7c5_S2_06.tif',\n",
       " '0384b13c_S2_09.tif',\n",
       " 'c80d39a2_S2_09.tif',\n",
       " 'e44bc1a1_S2_01.tif',\n",
       " '5b711a4a_S2_09.tif',\n",
       " '004ef4ec_S1_04.tif',\n",
       " 'a072b45b_S1_10.tif',\n",
       " '82cf7e7e_S1_06.tif']"
      ]
     },
     "execution_count": 6,
     "metadata": {},
     "output_type": "execute_result"
    }
   ],
   "source": [
    "random_images"
   ]
  },
  {
   "cell_type": "code",
   "execution_count": 26,
   "id": "6d8e0dde-f150-4c0f-bd16-704bc3dc1de9",
   "metadata": {},
   "outputs": [],
   "source": [
    "from PIL import Image"
   ]
  },
  {
   "cell_type": "code",
   "execution_count": 8,
   "id": "e89342a5-319d-4057-aa8c-9289847577a5",
   "metadata": {},
   "outputs": [
    {
     "name": "stdout",
     "output_type": "stream",
     "text": [
      "Image: /datasets/biomassters/train_features/c5cc3c34_S2_06.tif,  Shape: (11, 256, 256)\n",
      "Read time: 18.601293563842773\n",
      "Image: /datasets/biomassters/train_features/ff4774a4_S2_00.tif,  Shape: (11, 256, 256)\n",
      "Read time: 19.18782091140747\n",
      "Image: /datasets/biomassters/train_features/5f7ec7c5_S2_06.tif,  Shape: (11, 256, 256)\n",
      "Read time: 20.16826319694519\n",
      "Image: /datasets/biomassters/train_features/0384b13c_S2_09.tif,  Shape: (11, 256, 256)\n",
      "Read time: 17.85543203353882\n",
      "Image: /datasets/biomassters/train_features/c80d39a2_S2_09.tif,  Shape: (11, 256, 256)\n",
      "Read time: 17.9394748210907\n",
      "Image: /datasets/biomassters/train_features/e44bc1a1_S2_01.tif,  Shape: (11, 256, 256)\n",
      "Read time: 16.922703742980957\n",
      "Image: /datasets/biomassters/train_features/5b711a4a_S2_09.tif,  Shape: (11, 256, 256)\n",
      "Read time: 18.45120120048523\n",
      "Image: /datasets/biomassters/train_features/004ef4ec_S1_04.tif,  Shape: (4, 256, 256)\n",
      "Read time: 19.69817328453064\n",
      "Image: /datasets/biomassters/train_features/a072b45b_S1_10.tif,  Shape: (4, 256, 256)\n",
      "Read time: 16.936731100082397\n",
      "Image: /datasets/biomassters/train_features/82cf7e7e_S1_06.tif,  Shape: (4, 256, 256)\n",
      "Read time: 17.915590286254883\n",
      "Total read time for 10 images at random = 183.67668414115906\n",
      "Avg. time to read an image = 18.367668414115904\n"
     ]
    }
   ],
   "source": [
    "total_time = 0.0\n",
    "for img in random_images:\n",
    "    img = train_images_dir / img\n",
    "    start = time()\n",
    "    with rasterio.open(img) as f:\n",
    "        img_data = f.read()\n",
    "        end = time()\n",
    "        read_time = end - start\n",
    "        total_time += read_time\n",
    "        print(f\"Image: {img},  Shape: {img_data.shape}\")\n",
    "        print(f\"Read time: {read_time}\")\n",
    "print(f\"Total read time for {len(random_images)} images at random = {total_time}\")\n",
    "print(f\"Avg. time to read an image = {total_time / len(random_images)}\")"
   ]
  },
  {
   "cell_type": "code",
   "execution_count": null,
   "id": "39fc5ac4-8830-4228-afd3-a1609bc87f52",
   "metadata": {},
   "outputs": [],
   "source": []
  }
 ],
 "metadata": {
  "kernelspec": {
   "display_name": "Python 3 (ipykernel)",
   "language": "python",
   "name": "python3"
  },
  "language_info": {
   "codemirror_mode": {
    "name": "ipython",
    "version": 3
   },
   "file_extension": ".py",
   "mimetype": "text/x-python",
   "name": "python",
   "nbconvert_exporter": "python",
   "pygments_lexer": "ipython3",
   "version": "3.9.13"
  }
 },
 "nbformat": 4,
 "nbformat_minor": 5
}
