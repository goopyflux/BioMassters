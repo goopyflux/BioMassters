{
 "cells": [
  {
   "cell_type": "markdown",
   "id": "4000163a-d828-4028-979f-97b0fbb2cdf5",
   "metadata": {},
   "source": [
    "# Comparing Accessing S3 Bucket Directly vs. Mounting it as a Paperspace Gradient Data Source"
   ]
  },
  {
   "cell_type": "raw",
   "id": "18755980-21c3-4807-97a5-2424bc5a1058",
   "metadata": {
    "jupyter": {
     "outputs_hidden": true
    },
    "tags": []
   },
   "source": [
    "!pip install --upgrade rasterio s3fs"
   ]
  },
  {
   "cell_type": "code",
   "execution_count": 1,
   "id": "1b730692-54dc-403e-bd60-802ec1f17152",
   "metadata": {},
   "outputs": [],
   "source": [
    "import os\n",
    "from pathlib import Path\n",
    "import random\n",
    "from time import time\n",
    "import warnings\n",
    "\n",
    "import pandas as pd\n",
    "import rasterio\n",
    "from rasterio.io import MemoryFile\n",
    "import s3fs"
   ]
  },
  {
   "cell_type": "code",
   "execution_count": 2,
   "id": "63e8bff8-7738-449b-abf9-ba6010deedc2",
   "metadata": {},
   "outputs": [],
   "source": [
    "warnings.filterwarnings(\"ignore\", category=rasterio.errors.NotGeoreferencedWarning)\n",
    "os.environ['AWS_NO_SIGN_REQUEST'] = 'YES'"
   ]
  },
  {
   "cell_type": "markdown",
   "id": "f591cfa1-87c7-4289-8dbd-9d260d84d0de",
   "metadata": {},
   "source": [
    "## Accessing S3 as a mounted data source"
   ]
  },
  {
   "cell_type": "code",
   "execution_count": 3,
   "id": "7a8efeaa-4ca0-4f2c-ba2e-8842c03cd1ca",
   "metadata": {},
   "outputs": [],
   "source": [
    "DATASET_DIR = Path(\"/datasets/biomassters\")\n",
    "features_metadata_csv = DATASET_DIR / \"features_metadata.csv\"\n",
    "train_agbm_csv = DATASET_DIR / \"train_agbm_metadata.csv\"\n",
    "train_images_dir = DATASET_DIR / \"train_features\"\n",
    "train_agbm_dir = DATASET_DIR / \"train_agbm\"\n",
    "test_images_dir = DATASET_DIR / \"test_features\""
   ]
  },
  {
   "cell_type": "code",
   "execution_count": 4,
   "id": "3aece819-1e0a-4aaf-a3b5-35cd3c64e5e3",
   "metadata": {},
   "outputs": [
    {
     "name": "stdout",
     "output_type": "stream",
     "text": [
      "Total images in training set: 189078\n",
      "Time taken: 23.981640338897705\n"
     ]
    }
   ],
   "source": [
    "# List files in training dir\n",
    "start = time()\n",
    "train_images = os.listdir(train_images_dir)\n",
    "end = time()\n",
    "print(f\"Total images in training set: {len(train_images)}\")\n",
    "print(f\"Time taken: {end - start}\")"
   ]
  },
  {
   "cell_type": "code",
   "execution_count": 5,
   "id": "cf71f5dc-0873-47cd-ac54-a898d5eca3b1",
   "metadata": {},
   "outputs": [],
   "source": [
    "random_images = [train_images[r] for r in random.choices(range(len(train_images)), k=10)]"
   ]
  },
  {
   "cell_type": "code",
   "execution_count": 6,
   "id": "e89342a5-319d-4057-aa8c-9289847577a5",
   "metadata": {
    "tags": []
   },
   "outputs": [
    {
     "name": "stdout",
     "output_type": "stream",
     "text": [
      "Image: /datasets/biomassters/train_features/cd0d6ae2_S1_09.tif,  Shape: (4, 256, 256)\n",
      "Read time: 1.4312479496002197\n",
      "Image: /datasets/biomassters/train_features/280c8135_S2_06.tif,  Shape: (11, 256, 256)\n",
      "Read time: 1.3975193500518799\n",
      "Image: /datasets/biomassters/train_features/9c84f5a2_S1_00.tif,  Shape: (4, 256, 256)\n",
      "Read time: 1.3927698135375977\n",
      "Image: /datasets/biomassters/train_features/e02bc68f_S2_05.tif,  Shape: (11, 256, 256)\n",
      "Read time: 1.735131025314331\n",
      "Image: /datasets/biomassters/train_features/982bf942_S2_00.tif,  Shape: (11, 256, 256)\n",
      "Read time: 1.5970118045806885\n",
      "Image: /datasets/biomassters/train_features/08ecfd3c_S2_06.tif,  Shape: (11, 256, 256)\n",
      "Read time: 1.4642102718353271\n",
      "Image: /datasets/biomassters/train_features/5d1ae03b_S1_08.tif,  Shape: (4, 256, 256)\n",
      "Read time: 1.377194881439209\n",
      "Image: /datasets/biomassters/train_features/23e96184_S1_05.tif,  Shape: (4, 256, 256)\n",
      "Read time: 1.8024892807006836\n",
      "Image: /datasets/biomassters/train_features/ee4dbe3f_S1_01.tif,  Shape: (4, 256, 256)\n",
      "Read time: 2.4218082427978516\n",
      "Image: /datasets/biomassters/train_features/5784432e_S1_07.tif,  Shape: (4, 256, 256)\n",
      "Read time: 1.5294389724731445\n",
      "Total read time for 10 images at random = 16.148821592330933\n",
      "Avg. time to read an image = 1.6148821592330933\n"
     ]
    }
   ],
   "source": [
    "# Avg. read time for a random selection of images\n",
    "total_time = 0.0\n",
    "for img in random_images:\n",
    "    img = train_images_dir / img\n",
    "    start = time()\n",
    "    with rasterio.open(img) as f:\n",
    "        img_data = f.read()\n",
    "        end = time()\n",
    "        read_time = end - start\n",
    "        total_time += read_time\n",
    "        print(f\"Image: {img},  Shape: {img_data.shape}\")\n",
    "        print(f\"Read time: {read_time}\")\n",
    "print(f\"Total read time for {len(random_images)} images at random = {total_time}\")\n",
    "print(f\"Avg. time to read an image = {total_time / len(random_images)}\")"
   ]
  },
  {
   "cell_type": "code",
   "execution_count": 14,
   "id": "ea4c5ba8-e141-4531-ab00-c9a3c8b4acb9",
   "metadata": {},
   "outputs": [
    {
     "name": "stdout",
     "output_type": "stream",
     "text": [
      "Image: ../data/sample_images/001b0634_agbm.tif,  Shape: (1, 256, 256)\n",
      "Read time: 0.0018391609191894531\n",
      "Image: ../data/sample_images/001b0634_S2_00.tif,  Shape: (11, 256, 256)\n",
      "Read time: 0.0052890777587890625\n",
      "Image: ../data/sample_images/001b0634_S1_00.tif,  Shape: (4, 256, 256)\n",
      "Read time: 0.002705097198486328\n",
      "Total read time for 10 images at random = 0.009833335876464844\n",
      "Avg. time to read an image = 0.0009833335876464843\n"
     ]
    }
   ],
   "source": [
    "# Reading sample image directly from the disk\n",
    "total_time = 0.0\n",
    "images = os.listdir(\"../data/sample_images/\")\n",
    "for img in images:\n",
    "    img = os.path.join(\"../data/sample_images\", img)\n",
    "    start = time()\n",
    "    with rasterio.open(img) as f:\n",
    "        img_data = f.read()\n",
    "        end = time()\n",
    "        read_time = end - start\n",
    "        total_time += read_time\n",
    "        print(f\"Image: {img},  Shape: {img_data.shape}\")\n",
    "        print(f\"Read time: {read_time}\")\n",
    "print(f\"Total read time for {len(random_images)} images at random = {total_time}\")\n",
    "print(f\"Avg. time to read an image = {total_time / len(random_images)}\")"
   ]
  },
  {
   "cell_type": "markdown",
   "id": "2a2dbdfd-00a6-436e-8423-c4412441d90f",
   "metadata": {},
   "source": [
    "## Access using S3FS Package"
   ]
  },
  {
   "cell_type": "code",
   "execution_count": 7,
   "id": "5e38b393-539b-40bf-85de-6c746a16bf30",
   "metadata": {},
   "outputs": [],
   "source": [
    "# Setup S3 URLs and folder locations within the S3 bucket\n",
    "S3_URL = \"s3://drivendata-competition-biomassters-public-us\"\n",
    "train_features_s3 = S3_URL + \"/train_features/\"\n",
    "train_agbm_s3 = S3_URL + \"/train_agbm/\"\n",
    "test_features_s3 = S3_URL + \"/test_features/\""
   ]
  },
  {
   "cell_type": "code",
   "execution_count": 8,
   "id": "61d9cd42-8006-4a3c-a737-1354903e8360",
   "metadata": {},
   "outputs": [],
   "source": [
    "storage_options = {'anon': True}\n",
    "fs = s3fs.S3FileSystem(**storage_options)"
   ]
  },
  {
   "cell_type": "code",
   "execution_count": 10,
   "id": "b5310110-7447-4992-aad8-dd8903c84410",
   "metadata": {},
   "outputs": [
    {
     "name": "stdout",
     "output_type": "stream",
     "text": [
      "Total images in training set: 189078\n",
      "Time taken: 45.755274057388306\n"
     ]
    }
   ],
   "source": [
    "# List files with s3fs\n",
    "start = time()\n",
    "train_images_s3 = fs.ls(train_features_s3)\n",
    "end = time()\n",
    "print(f\"Total images in training set: {len(train_images_s3)}\")\n",
    "print(f\"Time taken: {end - start}\")"
   ]
  },
  {
   "cell_type": "code",
   "execution_count": 11,
   "id": "1e3fc544-bb6d-4776-b520-24562b3af9aa",
   "metadata": {},
   "outputs": [],
   "source": [
    "random_images_s3 = [train_images_s3[r] for r in random.choices(range(len(train_images_s3)), k=10)]"
   ]
  },
  {
   "cell_type": "code",
   "execution_count": 12,
   "id": "a0cd1ba3-313c-413f-a170-b7cb3656e10e",
   "metadata": {},
   "outputs": [
    {
     "data": {
      "text/plain": [
       "'drivendata-competition-biomassters-public-us/train_features/9357f679_S1_07.tif'"
      ]
     },
     "execution_count": 12,
     "metadata": {},
     "output_type": "execute_result"
    }
   ],
   "source": [
    "random_images_s3[0]"
   ]
  },
  {
   "cell_type": "code",
   "execution_count": 13,
   "id": "0959c783-8c2f-4107-b0e8-b843a25b58c1",
   "metadata": {
    "tags": []
   },
   "outputs": [
    {
     "name": "stdout",
     "output_type": "stream",
     "text": [
      "Image: drivendata-competition-biomassters-public-us/train_features/9357f679_S1_07.tif,  Shape: (4, 256, 256)\n",
      "Read time: 0.2608182430267334, To Array time: 0.0029358863830566406\n",
      "Image: drivendata-competition-biomassters-public-us/train_features/4f95fe22_S1_05.tif,  Shape: (4, 256, 256)\n",
      "Read time: 0.1986379623413086, To Array time: 0.003112316131591797\n",
      "Image: drivendata-competition-biomassters-public-us/train_features/65533cf8_S1_01.tif,  Shape: (4, 256, 256)\n",
      "Read time: 0.2255103588104248, To Array time: 0.002804994583129883\n",
      "Image: drivendata-competition-biomassters-public-us/train_features/ff374b38_S1_04.tif,  Shape: (4, 256, 256)\n",
      "Read time: 0.17055678367614746, To Array time: 0.0024361610412597656\n",
      "Image: drivendata-competition-biomassters-public-us/train_features/c5fbf994_S1_10.tif,  Shape: (4, 256, 256)\n",
      "Read time: 0.22671818733215332, To Array time: 0.002810955047607422\n",
      "Image: drivendata-competition-biomassters-public-us/train_features/afd2b531_S2_01.tif,  Shape: (11, 256, 256)\n",
      "Read time: 0.23749041557312012, To Array time: 0.005747318267822266\n",
      "Image: drivendata-competition-biomassters-public-us/train_features/940bb9fc_S1_09.tif,  Shape: (4, 256, 256)\n",
      "Read time: 0.16413664817810059, To Array time: 0.002933502197265625\n",
      "Image: drivendata-competition-biomassters-public-us/train_features/7e72e068_S1_06.tif,  Shape: (4, 256, 256)\n",
      "Read time: 0.18702220916748047, To Array time: 0.002581357955932617\n",
      "Image: drivendata-competition-biomassters-public-us/train_features/986bbbec_S2_03.tif,  Shape: (11, 256, 256)\n",
      "Read time: 0.2385396957397461, To Array time: 0.0048749446868896484\n",
      "Image: drivendata-competition-biomassters-public-us/train_features/490fb911_S2_09.tif,  Shape: (11, 256, 256)\n",
      "Read time: 0.22450518608093262, To Array time: 0.005242824554443359\n",
      "Total read time for 10 images at random = 2.1339356899261475\n",
      "Avg. time to read an image = 0.21339356899261475\n",
      "Total ToArray time for 10 images at random = 0.03548026084899902\n",
      "Avg. time to convert an image to array = 0.0035480260848999023\n"
     ]
    }
   ],
   "source": [
    "# Avg. read time for a random selection of images\n",
    "total_read_time = 0.0\n",
    "total_toarray_time = 0.0\n",
    "for img in random_images_s3:\n",
    "    # Read the raw bytes stream\n",
    "    start = time()\n",
    "    with fs.open(img) as f:\n",
    "        raw_data = f.read()\n",
    "        end = time()\n",
    "        read_time = end - start\n",
    "        total_read_time += read_time\n",
    "        \n",
    "        # Save bytes to an arry\n",
    "        start = time()\n",
    "        with MemoryFile(raw_data) as memfile:\n",
    "            with memfile.open() as dataset:\n",
    "                data_array = dataset.read()\n",
    "                end = time()\n",
    "                total_toarray_time += (end - start)\n",
    "        print(f\"Image: {img},  Shape: {data_array.shape}\")\n",
    "        print(f\"Read time: {read_time}, To Array time: {end - start}\")\n",
    "print(f\"Total read time for {len(random_images)} images at random = {total_read_time}\")\n",
    "print(f\"Avg. time to read an image = {total_read_time / len(random_images)}\")\n",
    "print(f\"Total ToArray time for {len(random_images)} images at random = {total_toarray_time}\")\n",
    "print(f\"Avg. time to convert an image to array = {total_toarray_time / len(random_images)}\")"
   ]
  },
  {
   "cell_type": "code",
   "execution_count": 11,
   "id": "077bef19-933e-4a2f-a50d-394f254144ef",
   "metadata": {},
   "outputs": [
    {
     "name": "stdout",
     "output_type": "stream",
     "text": [
      "S3FS read time = 0.24098920822143555\n"
     ]
    }
   ],
   "source": [
    "start = time()\n",
    "with fs.open(feat_filename) as f:\n",
    "    raw_data = f.read()\n",
    "end = time()\n",
    "print(f\"S3FS read time = {end - start}\")"
   ]
  }
 ],
 "metadata": {
  "kernelspec": {
   "display_name": "Python 3 (ipykernel)",
   "language": "python",
   "name": "python3"
  },
  "language_info": {
   "codemirror_mode": {
    "name": "ipython",
    "version": 3
   },
   "file_extension": ".py",
   "mimetype": "text/x-python",
   "name": "python",
   "nbconvert_exporter": "python",
   "pygments_lexer": "ipython3",
   "version": "3.9.13"
  }
 },
 "nbformat": 4,
 "nbformat_minor": 5
}
