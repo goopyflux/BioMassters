{
 "cells": [
  {
   "cell_type": "markdown",
   "id": "75efad6a-6390-4f0c-855d-f98b2e495261",
   "metadata": {},
   "source": [
    "# Exploring TorchData for Streaming Data from an AWS S3 Bucket"
   ]
  },
  {
   "cell_type": "markdown",
   "id": "b00b2f26-6456-49dd-913b-a94a590b26bc",
   "metadata": {},
   "source": [
    "This notebook explores using the [TorchData](https://pytorch.org/data/beta/index.html) package for setting up data pipelines and for using with cloud storage, which in this case happens to be an Amazon S3 bucket."
   ]
  },
  {
   "cell_type": "markdown",
   "id": "a43b4cd4-c2ad-4202-8d51-b3192bd36f96",
   "metadata": {},
   "source": [
    "## Setup and Metadata"
   ]
  },
  {
   "cell_type": "code",
   "execution_count": 1,
   "id": "6c07abfa-27f9-494a-861f-71190c0e8454",
   "metadata": {},
   "outputs": [],
   "source": [
    "# Install packages -- uncomment if needed for first time setup\n",
    "# !pip install --upgrade torchdata torchvision torchaudio fsspec s3fs rasterio"
   ]
  },
  {
   "cell_type": "code",
   "execution_count": 2,
   "id": "e7bfd6fb-2c0c-48d1-88ec-fc7ed9697ccb",
   "metadata": {},
   "outputs": [],
   "source": [
    "# Imports\n",
    "\n",
    "from pathlib import Path\n",
    "from time import time\n",
    "import warnings\n",
    "\n",
    "import numpy as np\n",
    "import rasterio\n",
    "from rasterio.io import MemoryFile\n",
    "import s3fs\n",
    "import torch\n",
    "from torch.utils.data import DataLoader\n",
    "from torch import Tensor\n",
    "import torchdata.datapipes.iter as pipes\n",
    "from torchdata.datapipes.iter import IterableWrapper"
   ]
  },
  {
   "cell_type": "code",
   "execution_count": 3,
   "id": "96bef2c0-14d2-497d-8543-cdd9c82ba040",
   "metadata": {},
   "outputs": [],
   "source": [
    "warnings.filterwarnings(\"ignore\", category=rasterio.errors.NotGeoreferencedWarning)"
   ]
  },
  {
   "cell_type": "code",
   "execution_count": 4,
   "id": "9593a186-1b46-40b5-9a66-f1c8a674b538",
   "metadata": {},
   "outputs": [],
   "source": [
    "import os\n",
    "os.environ['AWS_NO_SIGN_REQUEST'] = 'YES'"
   ]
  },
  {
   "cell_type": "code",
   "execution_count": 5,
   "id": "8235b25c-6f10-436c-86c9-b614a9117445",
   "metadata": {},
   "outputs": [],
   "source": [
    "# Setup S3 URLs and folder locations within the S3 bucket\n",
    "S3_URL = \"s3://drivendata-competition-biomassters-public-us\"\n",
    "train_features_s3 = S3_URL + \"/train_features/\"\n",
    "train_agbm_s3 = S3_URL + \"/train_agbm/\"\n",
    "test_features_s3 = S3_URL + \"/test_features/\""
   ]
  },
  {
   "cell_type": "code",
   "execution_count": 6,
   "id": "84169c02-ce8a-4f3f-95f2-112874be0e6c",
   "metadata": {},
   "outputs": [
    {
     "name": "stdout",
     "output_type": "stream",
     "text": [
      "s3://drivendata-competition-biomassters-public-us/train_features/\n",
      "s3://drivendata-competition-biomassters-public-us/train_agbm/\n"
     ]
    }
   ],
   "source": [
    "# Sanity check\n",
    "print(train_features_s3)\n",
    "print(train_agbm_s3)"
   ]
  },
  {
   "cell_type": "markdown",
   "id": "5be477b2-cc21-4c3c-b137-dde420414301",
   "metadata": {},
   "source": [
    "## Utilities"
   ]
  },
  {
   "cell_type": "code",
   "execution_count": 7,
   "id": "fa235708-bafa-48d2-9f60-8805429c8221",
   "metadata": {},
   "outputs": [],
   "source": [
    "# Test code for using Path object to parse out information\n",
    "def parse_filename(filename):\n",
    "    filename = Path(filename)\n",
    "    parsed_filename = {\n",
    "        \"Name\": filename.name,\n",
    "        \"Stem\": filename.stem,\n",
    "        \"Suffix\": filename.suffix,\n",
    "        \"Chip ID\": filename.stem.split('_')[0]\n",
    "    }\n",
    "    \n",
    "    return parsed_filename"
   ]
  },
  {
   "cell_type": "code",
   "execution_count": 8,
   "id": "d19f4f0d-5a96-4669-9b0c-a7f5b2a75b44",
   "metadata": {},
   "outputs": [
    {
     "name": "stdout",
     "output_type": "stream",
     "text": [
      "{'Name': '0003d2eb_S1_00.tif', 'Stem': '0003d2eb_S1_00', 'Suffix': '.tif', 'Chip ID': '0003d2eb'}\n"
     ]
    }
   ],
   "source": [
    "# Check parse_filename\n",
    "filename = \"s3://drivendata-competition-biomassters-public-us/train_features/0003d2eb_S1_00.tif\"\n",
    "parsed_filename = parse_filename(filename)\n",
    "print(parsed_filename)"
   ]
  },
  {
   "cell_type": "code",
   "execution_count": 9,
   "id": "c3d0fc31-13c8-463b-b06b-9f9134870977",
   "metadata": {},
   "outputs": [
    {
     "data": {
      "text/plain": [
       "PosixPath('s3:/drivendata-competition-biomassters-public-us')"
      ]
     },
     "execution_count": 9,
     "metadata": {},
     "output_type": "execute_result"
    }
   ],
   "source": [
    "Path(filename).parents[1]"
   ]
  },
  {
   "cell_type": "code",
   "execution_count": 10,
   "id": "590161e0-b61f-4cd2-9b42-88416cceb4f3",
   "metadata": {},
   "outputs": [],
   "source": [
    "# Function to filter filenames based on pre-determined satellite and month\n",
    "def filter_img(filename, satellite='S1', month='00'):\n",
    "    file_path = Path(filename)\n",
    "    chip_id = file_path.stem.split(\"_\")[0]\n",
    "        \n",
    "    filter_img = f\"{chip_id}_{satellite}_{month}.tif\"\n",
    "    return file_path.name == filter_img"
   ]
  },
  {
   "cell_type": "code",
   "execution_count": 11,
   "id": "cb87d3a9-9676-428d-a1e4-0e2bb8d68190",
   "metadata": {},
   "outputs": [
    {
     "name": "stdout",
     "output_type": "stream",
     "text": [
      "True\n",
      "False\n"
     ]
    }
   ],
   "source": [
    "# Check filter_img\n",
    "filename = Path(\"s3://drivendata-competition-biomassters-public-us/train_features/0003d2eb_S1_00.tif\")\n",
    "print(filter_img(filename))\n",
    "filename = Path(\"s3://drivendata-competition-biomassters-public-us/train_features/0003d2eb_S1_01.tif\")\n",
    "print(filter_img(filename))"
   ]
  },
  {
   "cell_type": "code",
   "execution_count": 12,
   "id": "22d14919-d4a2-439e-8f38-ddf5ea2f1799",
   "metadata": {},
   "outputs": [],
   "source": [
    "storage_options = {'anon': True}\n",
    "fs = s3fs.S3FileSystem(**storage_options)\n",
    "\n",
    "def load_raster(filename: str) -> Tensor:\n",
    "    chip_id = Path(filename).stem.split(\"_\")[0]\n",
    "    agbm_path = S3_URL + f\"/train_agbm/{chip_id}_agbm.tif\"\n",
    "\n",
    "    with fs.open(filename) as f:\n",
    "        raw_data = f.read()\n",
    "        # Save bytes to an array\n",
    "        with MemoryFile(raw_data) as memfile:\n",
    "            with memfile.open() as dataset:\n",
    "                feature_array = dataset.read()\n",
    "        if feature_array.dtype == np.uint16:\n",
    "            feature_array = feature_array.astype(np.int32)\n",
    "\n",
    "    with fs.open(agbm_path) as f:\n",
    "        raw_agbm = f.read()\n",
    "        # Save bytes to an array\n",
    "        with MemoryFile(raw_agbm) as memfile:\n",
    "            with memfile.open() as dataset:\n",
    "                agbm_array = dataset.read()\n",
    "        if agbm_array.dtype == np.uint16:\n",
    "            agbm_array = agbm_array.astype(np.int32)\n",
    "\n",
    "    return {\"image\": torch.from_numpy(feature_array),\n",
    "            \"label\": torch.from_numpy(agbm_array),\n",
    "            \"chip_id\": chip_id}"
   ]
  },
  {
   "cell_type": "code",
   "execution_count": 16,
   "id": "ffd3d68f-0642-451c-a232-9b94f6e5e5fd",
   "metadata": {},
   "outputs": [],
   "source": [
    "# Check load_raster\n",
    "start = time()\n",
    "filename = \"s3://drivendata-competition-biomassters-public-us/train_features/0003d2eb_S1_00.tif\"\n",
    "data_dict = load_raster(filename)\n",
    "end = time()"
   ]
  },
  {
   "cell_type": "code",
   "execution_count": 22,
   "id": "d7a4b08e-e5f2-4aea-95bd-05aecfe24885",
   "metadata": {},
   "outputs": [
    {
     "data": {
      "text/plain": [
       "0.6108713150024414"
      ]
     },
     "execution_count": 22,
     "metadata": {},
     "output_type": "execute_result"
    }
   ],
   "source": [
    "end - start"
   ]
  },
  {
   "cell_type": "markdown",
   "id": "27dcedf1-98b3-4fab-aa73-9a3475a21b35",
   "metadata": {
    "tags": []
   },
   "source": [
    "## Datapipes"
   ]
  },
  {
   "cell_type": "code",
   "execution_count": 13,
   "id": "968a594f-09ca-4a83-b3e4-1223ad65b5a5",
   "metadata": {
    "tags": []
   },
   "outputs": [],
   "source": [
    "storage_options = {\"anon\": True}\n",
    "features_dp = IterableWrapper([train_features_s3]).list_files_by_fsspec(**storage_options)\n",
    "# Note: Using S3 specific functions leads to CURL errors with CA Certificates\n",
    "# features_dp = IterableWrapper([train_features_s3]).list_files_by_s3()\n",
    "features_dp = features_dp.filter(filter_fn=filter_img)"
   ]
  },
  {
   "cell_type": "raw",
   "id": "f7f3dd92-4723-4a0d-b495-fc30f48d3435",
   "metadata": {},
   "source": [
    "# Sanity check\n",
    "feat_url = next(iter(features_dp))\n",
    "print(feat_url)"
   ]
  },
  {
   "cell_type": "code",
   "execution_count": 14,
   "id": "4047f05e-7442-4685-98ac-bc378053dcfd",
   "metadata": {},
   "outputs": [],
   "source": [
    "features_dp = features_dp.map(load_raster)\n",
    "features_dp = features_dp.sharding_filter()"
   ]
  },
  {
   "cell_type": "code",
   "execution_count": 15,
   "id": "7abc8eeb-4d16-427d-b26d-85e0a71c6451",
   "metadata": {},
   "outputs": [],
   "source": [
    "train_loader = DataLoader(features_dp, batch_size=4, num_workers=8)"
   ]
  },
  {
   "cell_type": "code",
   "execution_count": 23,
   "id": "3ecc6ae8-2423-46d0-a68b-bbff6f15a3ec",
   "metadata": {
    "tags": []
   },
   "outputs": [
    {
     "ename": "KeyboardInterrupt",
     "evalue": "",
     "output_type": "error",
     "traceback": [
      "\u001b[0;31m---------------------------------------------------------------------------\u001b[0m",
      "\u001b[0;31mKeyboardInterrupt\u001b[0m                         Traceback (most recent call last)",
      "Input \u001b[0;32mIn [23]\u001b[0m, in \u001b[0;36m<cell line: 2>\u001b[0;34m()\u001b[0m\n\u001b[1;32m      1\u001b[0m start \u001b[38;5;241m=\u001b[39m time()\n\u001b[0;32m----> 2\u001b[0m feat_batch \u001b[38;5;241m=\u001b[39m \u001b[38;5;28;43mnext\u001b[39;49m\u001b[43m(\u001b[49m\u001b[38;5;28;43miter\u001b[39;49m\u001b[43m(\u001b[49m\u001b[43mtrain_loader\u001b[49m\u001b[43m)\u001b[49m\u001b[43m)\u001b[49m\n\u001b[1;32m      3\u001b[0m end \u001b[38;5;241m=\u001b[39m time()\n\u001b[1;32m      4\u001b[0m \u001b[38;5;28mprint\u001b[39m(\u001b[38;5;124mf\u001b[39m\u001b[38;5;124m\"\u001b[39m\u001b[38;5;124mTotal time: \u001b[39m\u001b[38;5;132;01m{\u001b[39;00mend \u001b[38;5;241m-\u001b[39m start\u001b[38;5;132;01m}\u001b[39;00m\u001b[38;5;124m\"\u001b[39m)\n",
      "File \u001b[0;32m/usr/local/lib/python3.9/dist-packages/torch/utils/data/dataloader.py:628\u001b[0m, in \u001b[0;36m_BaseDataLoaderIter.__next__\u001b[0;34m(self)\u001b[0m\n\u001b[1;32m    625\u001b[0m \u001b[38;5;28;01mif\u001b[39;00m \u001b[38;5;28mself\u001b[39m\u001b[38;5;241m.\u001b[39m_sampler_iter \u001b[38;5;129;01mis\u001b[39;00m \u001b[38;5;28;01mNone\u001b[39;00m:\n\u001b[1;32m    626\u001b[0m     \u001b[38;5;66;03m# TODO(https://github.com/pytorch/pytorch/issues/76750)\u001b[39;00m\n\u001b[1;32m    627\u001b[0m     \u001b[38;5;28mself\u001b[39m\u001b[38;5;241m.\u001b[39m_reset()  \u001b[38;5;66;03m# type: ignore[call-arg]\u001b[39;00m\n\u001b[0;32m--> 628\u001b[0m data \u001b[38;5;241m=\u001b[39m \u001b[38;5;28;43mself\u001b[39;49m\u001b[38;5;241;43m.\u001b[39;49m\u001b[43m_next_data\u001b[49m\u001b[43m(\u001b[49m\u001b[43m)\u001b[49m\n\u001b[1;32m    629\u001b[0m \u001b[38;5;28mself\u001b[39m\u001b[38;5;241m.\u001b[39m_num_yielded \u001b[38;5;241m+\u001b[39m\u001b[38;5;241m=\u001b[39m \u001b[38;5;241m1\u001b[39m\n\u001b[1;32m    630\u001b[0m \u001b[38;5;28;01mif\u001b[39;00m \u001b[38;5;28mself\u001b[39m\u001b[38;5;241m.\u001b[39m_dataset_kind \u001b[38;5;241m==\u001b[39m _DatasetKind\u001b[38;5;241m.\u001b[39mIterable \u001b[38;5;129;01mand\u001b[39;00m \\\n\u001b[1;32m    631\u001b[0m         \u001b[38;5;28mself\u001b[39m\u001b[38;5;241m.\u001b[39m_IterableDataset_len_called \u001b[38;5;129;01mis\u001b[39;00m \u001b[38;5;129;01mnot\u001b[39;00m \u001b[38;5;28;01mNone\u001b[39;00m \u001b[38;5;129;01mand\u001b[39;00m \\\n\u001b[1;32m    632\u001b[0m         \u001b[38;5;28mself\u001b[39m\u001b[38;5;241m.\u001b[39m_num_yielded \u001b[38;5;241m>\u001b[39m \u001b[38;5;28mself\u001b[39m\u001b[38;5;241m.\u001b[39m_IterableDataset_len_called:\n",
      "File \u001b[0;32m/usr/local/lib/python3.9/dist-packages/torch/utils/data/dataloader.py:1316\u001b[0m, in \u001b[0;36m_MultiProcessingDataLoaderIter._next_data\u001b[0;34m(self)\u001b[0m\n\u001b[1;32m   1313\u001b[0m     \u001b[38;5;28;01mreturn\u001b[39;00m \u001b[38;5;28mself\u001b[39m\u001b[38;5;241m.\u001b[39m_process_data(data)\n\u001b[1;32m   1315\u001b[0m \u001b[38;5;28;01massert\u001b[39;00m \u001b[38;5;129;01mnot\u001b[39;00m \u001b[38;5;28mself\u001b[39m\u001b[38;5;241m.\u001b[39m_shutdown \u001b[38;5;129;01mand\u001b[39;00m \u001b[38;5;28mself\u001b[39m\u001b[38;5;241m.\u001b[39m_tasks_outstanding \u001b[38;5;241m>\u001b[39m \u001b[38;5;241m0\u001b[39m\n\u001b[0;32m-> 1316\u001b[0m idx, data \u001b[38;5;241m=\u001b[39m \u001b[38;5;28;43mself\u001b[39;49m\u001b[38;5;241;43m.\u001b[39;49m\u001b[43m_get_data\u001b[49m\u001b[43m(\u001b[49m\u001b[43m)\u001b[49m\n\u001b[1;32m   1317\u001b[0m \u001b[38;5;28mself\u001b[39m\u001b[38;5;241m.\u001b[39m_tasks_outstanding \u001b[38;5;241m-\u001b[39m\u001b[38;5;241m=\u001b[39m \u001b[38;5;241m1\u001b[39m\n\u001b[1;32m   1318\u001b[0m \u001b[38;5;28;01mif\u001b[39;00m \u001b[38;5;28mself\u001b[39m\u001b[38;5;241m.\u001b[39m_dataset_kind \u001b[38;5;241m==\u001b[39m _DatasetKind\u001b[38;5;241m.\u001b[39mIterable:\n\u001b[1;32m   1319\u001b[0m     \u001b[38;5;66;03m# Check for _IterableDatasetStopIteration\u001b[39;00m\n",
      "File \u001b[0;32m/usr/local/lib/python3.9/dist-packages/torch/utils/data/dataloader.py:1282\u001b[0m, in \u001b[0;36m_MultiProcessingDataLoaderIter._get_data\u001b[0;34m(self)\u001b[0m\n\u001b[1;32m   1278\u001b[0m     \u001b[38;5;66;03m# In this case, `self._data_queue` is a `queue.Queue`,. But we don't\u001b[39;00m\n\u001b[1;32m   1279\u001b[0m     \u001b[38;5;66;03m# need to call `.task_done()` because we don't use `.join()`.\u001b[39;00m\n\u001b[1;32m   1280\u001b[0m \u001b[38;5;28;01melse\u001b[39;00m:\n\u001b[1;32m   1281\u001b[0m     \u001b[38;5;28;01mwhile\u001b[39;00m \u001b[38;5;28;01mTrue\u001b[39;00m:\n\u001b[0;32m-> 1282\u001b[0m         success, data \u001b[38;5;241m=\u001b[39m \u001b[38;5;28;43mself\u001b[39;49m\u001b[38;5;241;43m.\u001b[39;49m\u001b[43m_try_get_data\u001b[49m\u001b[43m(\u001b[49m\u001b[43m)\u001b[49m\n\u001b[1;32m   1283\u001b[0m         \u001b[38;5;28;01mif\u001b[39;00m success:\n\u001b[1;32m   1284\u001b[0m             \u001b[38;5;28;01mreturn\u001b[39;00m data\n",
      "File \u001b[0;32m/usr/local/lib/python3.9/dist-packages/torch/utils/data/dataloader.py:1120\u001b[0m, in \u001b[0;36m_MultiProcessingDataLoaderIter._try_get_data\u001b[0;34m(self, timeout)\u001b[0m\n\u001b[1;32m   1107\u001b[0m \u001b[38;5;28;01mdef\u001b[39;00m \u001b[38;5;21m_try_get_data\u001b[39m(\u001b[38;5;28mself\u001b[39m, timeout\u001b[38;5;241m=\u001b[39m_utils\u001b[38;5;241m.\u001b[39mMP_STATUS_CHECK_INTERVAL):\n\u001b[1;32m   1108\u001b[0m     \u001b[38;5;66;03m# Tries to fetch data from `self._data_queue` once for a given timeout.\u001b[39;00m\n\u001b[1;32m   1109\u001b[0m     \u001b[38;5;66;03m# This can also be used as inner loop of fetching without timeout, with\u001b[39;00m\n\u001b[0;32m   (...)\u001b[0m\n\u001b[1;32m   1117\u001b[0m     \u001b[38;5;66;03m# Returns a 2-tuple:\u001b[39;00m\n\u001b[1;32m   1118\u001b[0m     \u001b[38;5;66;03m#   (bool: whether successfully get data, any: data if successful else None)\u001b[39;00m\n\u001b[1;32m   1119\u001b[0m     \u001b[38;5;28;01mtry\u001b[39;00m:\n\u001b[0;32m-> 1120\u001b[0m         data \u001b[38;5;241m=\u001b[39m \u001b[38;5;28;43mself\u001b[39;49m\u001b[38;5;241;43m.\u001b[39;49m\u001b[43m_data_queue\u001b[49m\u001b[38;5;241;43m.\u001b[39;49m\u001b[43mget\u001b[49m\u001b[43m(\u001b[49m\u001b[43mtimeout\u001b[49m\u001b[38;5;241;43m=\u001b[39;49m\u001b[43mtimeout\u001b[49m\u001b[43m)\u001b[49m\n\u001b[1;32m   1121\u001b[0m         \u001b[38;5;28;01mreturn\u001b[39;00m (\u001b[38;5;28;01mTrue\u001b[39;00m, data)\n\u001b[1;32m   1122\u001b[0m     \u001b[38;5;28;01mexcept\u001b[39;00m \u001b[38;5;167;01mException\u001b[39;00m \u001b[38;5;28;01mas\u001b[39;00m e:\n\u001b[1;32m   1123\u001b[0m         \u001b[38;5;66;03m# At timeout and error, we manually check whether any worker has\u001b[39;00m\n\u001b[1;32m   1124\u001b[0m         \u001b[38;5;66;03m# failed. Note that this is the only mechanism for Windows to detect\u001b[39;00m\n\u001b[1;32m   1125\u001b[0m         \u001b[38;5;66;03m# worker failures.\u001b[39;00m\n",
      "File \u001b[0;32m/usr/lib/python3.9/multiprocessing/queues.py:113\u001b[0m, in \u001b[0;36mQueue.get\u001b[0;34m(self, block, timeout)\u001b[0m\n\u001b[1;32m    111\u001b[0m \u001b[38;5;28;01mif\u001b[39;00m block:\n\u001b[1;32m    112\u001b[0m     timeout \u001b[38;5;241m=\u001b[39m deadline \u001b[38;5;241m-\u001b[39m time\u001b[38;5;241m.\u001b[39mmonotonic()\n\u001b[0;32m--> 113\u001b[0m     \u001b[38;5;28;01mif\u001b[39;00m \u001b[38;5;129;01mnot\u001b[39;00m \u001b[38;5;28;43mself\u001b[39;49m\u001b[38;5;241;43m.\u001b[39;49m\u001b[43m_poll\u001b[49m\u001b[43m(\u001b[49m\u001b[43mtimeout\u001b[49m\u001b[43m)\u001b[49m:\n\u001b[1;32m    114\u001b[0m         \u001b[38;5;28;01mraise\u001b[39;00m Empty\n\u001b[1;32m    115\u001b[0m \u001b[38;5;28;01melif\u001b[39;00m \u001b[38;5;129;01mnot\u001b[39;00m \u001b[38;5;28mself\u001b[39m\u001b[38;5;241m.\u001b[39m_poll():\n",
      "File \u001b[0;32m/usr/lib/python3.9/multiprocessing/connection.py:262\u001b[0m, in \u001b[0;36m_ConnectionBase.poll\u001b[0;34m(self, timeout)\u001b[0m\n\u001b[1;32m    260\u001b[0m \u001b[38;5;28mself\u001b[39m\u001b[38;5;241m.\u001b[39m_check_closed()\n\u001b[1;32m    261\u001b[0m \u001b[38;5;28mself\u001b[39m\u001b[38;5;241m.\u001b[39m_check_readable()\n\u001b[0;32m--> 262\u001b[0m \u001b[38;5;28;01mreturn\u001b[39;00m \u001b[38;5;28;43mself\u001b[39;49m\u001b[38;5;241;43m.\u001b[39;49m\u001b[43m_poll\u001b[49m\u001b[43m(\u001b[49m\u001b[43mtimeout\u001b[49m\u001b[43m)\u001b[49m\n",
      "File \u001b[0;32m/usr/lib/python3.9/multiprocessing/connection.py:429\u001b[0m, in \u001b[0;36mConnection._poll\u001b[0;34m(self, timeout)\u001b[0m\n\u001b[1;32m    428\u001b[0m \u001b[38;5;28;01mdef\u001b[39;00m \u001b[38;5;21m_poll\u001b[39m(\u001b[38;5;28mself\u001b[39m, timeout):\n\u001b[0;32m--> 429\u001b[0m     r \u001b[38;5;241m=\u001b[39m \u001b[43mwait\u001b[49m\u001b[43m(\u001b[49m\u001b[43m[\u001b[49m\u001b[38;5;28;43mself\u001b[39;49m\u001b[43m]\u001b[49m\u001b[43m,\u001b[49m\u001b[43m \u001b[49m\u001b[43mtimeout\u001b[49m\u001b[43m)\u001b[49m\n\u001b[1;32m    430\u001b[0m     \u001b[38;5;28;01mreturn\u001b[39;00m \u001b[38;5;28mbool\u001b[39m(r)\n",
      "File \u001b[0;32m/usr/lib/python3.9/multiprocessing/connection.py:936\u001b[0m, in \u001b[0;36mwait\u001b[0;34m(object_list, timeout)\u001b[0m\n\u001b[1;32m    933\u001b[0m     deadline \u001b[38;5;241m=\u001b[39m time\u001b[38;5;241m.\u001b[39mmonotonic() \u001b[38;5;241m+\u001b[39m timeout\n\u001b[1;32m    935\u001b[0m \u001b[38;5;28;01mwhile\u001b[39;00m \u001b[38;5;28;01mTrue\u001b[39;00m:\n\u001b[0;32m--> 936\u001b[0m     ready \u001b[38;5;241m=\u001b[39m \u001b[43mselector\u001b[49m\u001b[38;5;241;43m.\u001b[39;49m\u001b[43mselect\u001b[49m\u001b[43m(\u001b[49m\u001b[43mtimeout\u001b[49m\u001b[43m)\u001b[49m\n\u001b[1;32m    937\u001b[0m     \u001b[38;5;28;01mif\u001b[39;00m ready:\n\u001b[1;32m    938\u001b[0m         \u001b[38;5;28;01mreturn\u001b[39;00m [key\u001b[38;5;241m.\u001b[39mfileobj \u001b[38;5;28;01mfor\u001b[39;00m (key, events) \u001b[38;5;129;01min\u001b[39;00m ready]\n",
      "File \u001b[0;32m/usr/lib/python3.9/selectors.py:416\u001b[0m, in \u001b[0;36m_PollLikeSelector.select\u001b[0;34m(self, timeout)\u001b[0m\n\u001b[1;32m    414\u001b[0m ready \u001b[38;5;241m=\u001b[39m []\n\u001b[1;32m    415\u001b[0m \u001b[38;5;28;01mtry\u001b[39;00m:\n\u001b[0;32m--> 416\u001b[0m     fd_event_list \u001b[38;5;241m=\u001b[39m \u001b[38;5;28;43mself\u001b[39;49m\u001b[38;5;241;43m.\u001b[39;49m\u001b[43m_selector\u001b[49m\u001b[38;5;241;43m.\u001b[39;49m\u001b[43mpoll\u001b[49m\u001b[43m(\u001b[49m\u001b[43mtimeout\u001b[49m\u001b[43m)\u001b[49m\n\u001b[1;32m    417\u001b[0m \u001b[38;5;28;01mexcept\u001b[39;00m \u001b[38;5;167;01mInterruptedError\u001b[39;00m:\n\u001b[1;32m    418\u001b[0m     \u001b[38;5;28;01mreturn\u001b[39;00m ready\n",
      "\u001b[0;31mKeyboardInterrupt\u001b[0m: "
     ]
    }
   ],
   "source": [
    "start = time()\n",
    "feat_batch = next(iter(train_loader))\n",
    "end = time()\n",
    "print(f\"Total time: {end - start}\")"
   ]
  },
  {
   "cell_type": "code",
   "execution_count": null,
   "id": "cfbc4e1f-0b66-483b-aae8-a1ea643e7f87",
   "metadata": {},
   "outputs": [],
   "source": [
    "type(feat_batch)"
   ]
  },
  {
   "cell_type": "code",
   "execution_count": 47,
   "id": "d33f42d0-63c4-4f24-8056-f659ab3db15d",
   "metadata": {},
   "outputs": [
    {
     "name": "stdout",
     "output_type": "stream",
     "text": [
      "s3://drivendata-competition-biomassters-public-us/train_features/0003d2eb_S1_00.tif\n",
      "torch.Size([4, 256, 256])\n",
      "s3://drivendata-competition-biomassters-public-us/train_features/000aa810_S1_00.tif\n",
      "torch.Size([4, 256, 256])\n",
      "s3://drivendata-competition-biomassters-public-us/train_features/000d7e33_S1_00.tif\n",
      "torch.Size([4, 256, 256])\n",
      "s3://drivendata-competition-biomassters-public-us/train_features/00184691_S1_00.tif\n",
      "torch.Size([4, 256, 256])\n",
      "s3://drivendata-competition-biomassters-public-us/train_features/001b0634_S1_00.tif\n",
      "torch.Size([4, 256, 256])\n"
     ]
    }
   ],
   "source": [
    "for feat_url, feat_data in feat_batch:\n",
    "    print(feat_url)\n",
    "    print(feat_data.shape)"
   ]
  },
  {
   "cell_type": "code",
   "execution_count": 40,
   "id": "0d6814fc-b6aa-4300-b6b9-1a5de1949430",
   "metadata": {},
   "outputs": [],
   "source": [
    "agbm_dp = IterableWrapper([train_agbm_s3])\n",
    "agbm_dp = agbm_dp.list_files_by_fsspec(**kwargs)"
   ]
  },
  {
   "cell_type": "raw",
   "id": "651f1a0f-85d0-4893-a3e7-45d2a9ec0753",
   "metadata": {},
   "source": [
    "# sanity check -- skip\n",
    "agbm_url = next(iter(agbm_dp))\n",
    "print(agbm_url)"
   ]
  },
  {
   "cell_type": "raw",
   "id": "eb919df9-a867-48c1-a13c-5e6bfc3f8289",
   "metadata": {},
   "source": [
    "agbm_url, agbm_data = load_raster(agbm_url)\n",
    "print(agbm_url)\n",
    "print(agbm_data.shape)"
   ]
  },
  {
   "cell_type": "code",
   "execution_count": 41,
   "id": "b243f8c2-82c4-4d4e-9b66-1472160e6ff8",
   "metadata": {},
   "outputs": [],
   "source": [
    "agbm_dp = agbm_dp.map(load_raster).batch(5)"
   ]
  },
  {
   "cell_type": "code",
   "execution_count": 42,
   "id": "04b9c5a7-7b2f-4a60-895d-661ccd3cbc3c",
   "metadata": {
    "tags": []
   },
   "outputs": [
    {
     "name": "stdout",
     "output_type": "stream",
     "text": [
      "Total time: 6.032704591751099\n"
     ]
    }
   ],
   "source": [
    "start = time.time()\n",
    "batch = next(iter(agbm_dp))\n",
    "end = time.time()\n",
    "print(f\"Total time: {end - start}\")"
   ]
  },
  {
   "cell_type": "code",
   "execution_count": 43,
   "id": "22da2052-c00b-455b-8f53-ea102924be87",
   "metadata": {},
   "outputs": [
    {
     "name": "stdout",
     "output_type": "stream",
     "text": [
      "s3://drivendata-competition-biomassters-public-us/train_agbm/0003d2eb_agbm.tif\n",
      "torch.Size([1, 256, 256])\n",
      "s3://drivendata-competition-biomassters-public-us/train_agbm/000aa810_agbm.tif\n",
      "torch.Size([1, 256, 256])\n",
      "s3://drivendata-competition-biomassters-public-us/train_agbm/000d7e33_agbm.tif\n",
      "torch.Size([1, 256, 256])\n",
      "s3://drivendata-competition-biomassters-public-us/train_agbm/00184691_agbm.tif\n",
      "torch.Size([1, 256, 256])\n",
      "s3://drivendata-competition-biomassters-public-us/train_agbm/001b0634_agbm.tif\n",
      "torch.Size([1, 256, 256])\n"
     ]
    }
   ],
   "source": [
    "for agbm_url, agbm_data in batch:\n",
    "    print(agbm_url)\n",
    "    print(agbm_data.shape)"
   ]
  },
  {
   "cell_type": "code",
   "execution_count": 31,
   "id": "6714a529-6c6d-489f-930b-a4723b92a7ea",
   "metadata": {},
   "outputs": [],
   "source": [
    "input_dp = features_dp.zip(agbm_dp).batch(1)"
   ]
  },
  {
   "cell_type": "code",
   "execution_count": 32,
   "id": "564e4233-6907-44d1-af00-fe9282f26fcd",
   "metadata": {
    "tags": []
   },
   "outputs": [
    {
     "name": "stderr",
     "output_type": "stream",
     "text": [
      "Exception ignored in: <generator object ZipperIterDataPipe.__iter__ at 0x7f920c25b970>\n",
      "Traceback (most recent call last):\n",
      "  File \"/usr/local/lib/python3.9/dist-packages/torch/utils/data/datapipes/iter/combining.py\", line 546, in __iter__\n",
      "    unused += list(iterator)\n",
      "  File \"/usr/local/lib/python3.9/dist-packages/torch/utils/data/datapipes/_hook_iterator.py\", line 185, in wrap_generator\n",
      "    response = gen.send(request)\n",
      "  File \"/usr/local/lib/python3.9/dist-packages/torch/utils/data/datapipes/iter/callable.py\", line 123, in __iter__\n",
      "    yield self._apply_fn(data)\n",
      "  File \"/usr/local/lib/python3.9/dist-packages/torch/utils/data/datapipes/iter/callable.py\", line 88, in _apply_fn\n",
      "    return self.fn(data)\n",
      "  File \"/tmp/ipykernel_1687/3582365464.py\", line 2, in load_raster\n",
      "  File \"/usr/local/lib/python3.9/dist-packages/rasterio/env.py\", line 444, in wrapper\n",
      "    return f(*args, **kwds)\n",
      "  File \"/usr/local/lib/python3.9/dist-packages/rasterio/__init__.py\", line 304, in open\n",
      "    dataset = DatasetReader(path, driver=driver, sharing=sharing, **kwargs)\n",
      "  File \"rasterio/_base.pyx\", line 328, in rasterio._base.DatasetBase.__init__\n",
      "  File \"rasterio/_base.pyx\", line 350, in rasterio._base.DatasetBase._set_attrs_from_dataset_handle\n",
      "  File \"rasterio/_base.pyx\", line 966, in rasterio._base.DatasetBase.meta.__get__\n",
      "  File \"rasterio/_base.pyx\", line 599, in rasterio._base.DatasetBase.nodata.__get__\n",
      "  File \"rasterio/_base.pyx\", line 580, in rasterio._base.DatasetBase.nodatavals.__get__\n",
      "  File \"rasterio/_base.pyx\", line 562, in rasterio._base.DatasetBase.get_nodatavals\n",
      "  File \"/usr/lib/python3.9/logging/__init__.py\", line 1424, in debug\n",
      "    def debug(self, msg, *args, **kwargs):\n",
      "KeyboardInterrupt: \n"
     ]
    },
    {
     "name": "stdout",
     "output_type": "stream",
     "text": [
      "Total time: 376.0900630950928\n"
     ]
    }
   ],
   "source": [
    "start = time.time()\n",
    "first_set = next(iter(input_dp))\n",
    "end = time.time()\n",
    "print(f\"Total time: {end - start}\")"
   ]
  },
  {
   "cell_type": "code",
   "execution_count": 42,
   "id": "b86c35ab-2a92-471f-bbba-4ca25e9f90cb",
   "metadata": {},
   "outputs": [],
   "source": [
    "# features_dp = features_dp.sharding_filter()\n",
    "# features_dp = features_dp.open_files_by_fsspec(mode=\"rb\")\n",
    "\n",
    "# Note: Here also, using S3 specific function results in an error\n",
    "# TypeError: s3_read(): incompatible function arguments. The following argument types are supported:\n",
    "#    1. (self: torchdata._torchdata.S3Handler, arg0: str) -> bytes\n",
    "\n",
    "# Invoked with: <torchdata._torchdata.S3Handler object at 0x7fb30498f030>, ('s3://drivendata-competition-biomassters-public-us/train_features/0003d2eb_S1_00.tif', StreamWrapper<<File-like object S3FileSystem, drivendata-competition-biomassters-public-us/train_features/0003d2eb_S1_00.tif>>)\n",
    "# This exception is thrown by __iter__ of S3FileLoaderIterDataPipe(source_datapipe=ShardingFilterIterDataPipe)\n",
    "\n",
    "# features_dp = features_dp.load_files_by_s3()"
   ]
  },
  {
   "cell_type": "markdown",
   "id": "7c4f7442-6a0d-4616-a62d-b93e2dc3a720",
   "metadata": {},
   "source": [
    "### Using `rasterio` instead of `PIL`\n",
    "\n",
    "Using `PIL` for image reading and displaying doesn't work as it doesn't support TIFF format well (limited rather).\n",
    "\n",
    "Instead I will use `rasterio` library for reading tif data. [Rasterio](https://rasterio.readthedocs.io/en/latest/index.html) is a package build specifically for Geospatial data."
   ]
  },
  {
   "cell_type": "code",
   "execution_count": 43,
   "id": "79d75950-8d22-469a-8719-489748e58438",
   "metadata": {},
   "outputs": [],
   "source": [
    "from rasterio import MemoryFile"
   ]
  },
  {
   "cell_type": "code",
   "execution_count": 44,
   "id": "e82e61f6-cabd-46db-93cd-41b8ff1cea71",
   "metadata": {},
   "outputs": [],
   "source": [
    "def read_to_array(data):\n",
    "    url, file_obj = data\n",
    "    raw_bytes = file_obj.read()\n",
    "    \n",
    "    with MemoryFile(raw_bytes) as memfile:\n",
    "        try:\n",
    "            with memfile.open() as dataset:\n",
    "                raw_bytes = dataset.read(list(range(1, dataset.count+1)))\n",
    "        except rasterio.errors.NotGeoreferencedWarning:\n",
    "            pass\n",
    "        return (url, raw_bytes)"
   ]
  },
  {
   "cell_type": "code",
   "execution_count": 45,
   "id": "abf78b7a-01ab-40c7-a7ad-10292a4e0d6a",
   "metadata": {},
   "outputs": [],
   "source": [
    "# feat_it = next(iter(features_dp))\n",
    "# feat_url, feat_data = read_to_array(feat_it)\n",
    "# print(feat_url)\n",
    "# print(feat_data.shape)"
   ]
  },
  {
   "cell_type": "code",
   "execution_count": 49,
   "id": "4abd92b1-a3a3-4569-915e-1b5563ac98b0",
   "metadata": {},
   "outputs": [],
   "source": [
    "# agbm_dp = agbm_dp.sharding_filter()\n",
    "agbm_dp = agbm_dp.open_files_by_fsspec(mode=\"rb\")"
   ]
  },
  {
   "cell_type": "code",
   "execution_count": 50,
   "id": "d1dcbbac-1a9e-4f1b-ba56-3e01e9497400",
   "metadata": {},
   "outputs": [],
   "source": [
    "# agbm_it = next(iter(agbm_dp))\n",
    "# agbm_url, agbm_data = read_to_array(agbm_it)\n",
    "# print(agbm_url)\n",
    "# print(agbm_data.shape)"
   ]
  },
  {
   "cell_type": "code",
   "execution_count": 46,
   "id": "1c4b7e77-f83f-4285-a18b-72723d98e9a0",
   "metadata": {},
   "outputs": [],
   "source": [
    "# features_dp = features_dp.map(read_to_array)\n",
    "# agbm_dp = agbm_dp.map(read_to_array)"
   ]
  },
  {
   "cell_type": "code",
   "execution_count": 23,
   "id": "e50d8cb7-7611-4fcc-ba7f-0a698ce0043b",
   "metadata": {},
   "outputs": [],
   "source": [
    "dl = DataLoader(dataset=input_dp, batch_size=5, num_workers=2)"
   ]
  },
  {
   "cell_type": "code",
   "execution_count": 24,
   "id": "87761632-cc18-4c45-9dd2-4f4c758bb16a",
   "metadata": {},
   "outputs": [],
   "source": [
    "# THIS STEP TAKES A REALLY LONG TIME!!! DOESN'T SEEM RIGHT...\n",
    "# first_batch = next(iter(dl))"
   ]
  },
  {
   "cell_type": "code",
   "execution_count": 48,
   "id": "38e1a1e3-1af4-4339-88dd-ab95190ddd3c",
   "metadata": {},
   "outputs": [],
   "source": [
    "import s3fs"
   ]
  },
  {
   "cell_type": "code",
   "execution_count": 49,
   "id": "467f7ac2-e4e4-4348-af47-9c438027bfc6",
   "metadata": {},
   "outputs": [
    {
     "data": {
      "text/plain": [
       "['drivendata-competition-biomassters-public-us/features_metadata.csv',\n",
       " 'drivendata-competition-biomassters-public-us/test_features',\n",
       " 'drivendata-competition-biomassters-public-us/train_agbm',\n",
       " 'drivendata-competition-biomassters-public-us/train_agbm_metadata.csv',\n",
       " 'drivendata-competition-biomassters-public-us/train_features']"
      ]
     },
     "execution_count": 49,
     "metadata": {},
     "output_type": "execute_result"
    }
   ],
   "source": [
    "fs = s3fs.S3FileSystem(anon=True)\n",
    "fs.ls(S3_URL)"
   ]
  },
  {
   "cell_type": "code",
   "execution_count": 50,
   "id": "ab82f3c7-b8e2-45b3-9c6c-36ddf4e4ef31",
   "metadata": {},
   "outputs": [],
   "source": [
    "fs."
   ]
  },
  {
   "cell_type": "code",
   "execution_count": 27,
   "id": "a4c9a580-9e0b-4532-8dd3-f4d57a055953",
   "metadata": {},
   "outputs": [],
   "source": [
    "feat_images = fs.ls(train_features_s3)"
   ]
  },
  {
   "cell_type": "code",
   "execution_count": 28,
   "id": "f07c3d2a-062a-4d18-a9b8-aeae85a1cb03",
   "metadata": {},
   "outputs": [
    {
     "data": {
      "text/plain": [
       "189078"
      ]
     },
     "execution_count": 28,
     "metadata": {},
     "output_type": "execute_result"
    }
   ],
   "source": [
    "len(feat_images)"
   ]
  },
  {
   "cell_type": "code",
   "execution_count": 29,
   "id": "1870588a-5b8f-404d-a398-904a33b98887",
   "metadata": {
    "collapsed": true,
    "jupyter": {
     "outputs_hidden": true
    },
    "tags": []
   },
   "outputs": [
    {
     "data": {
      "text/plain": [
       "['drivendata-competition-biomassters-public-us/train_features/0003d2eb_S1_00.tif',\n",
       " 'drivendata-competition-biomassters-public-us/train_features/0003d2eb_S1_01.tif',\n",
       " 'drivendata-competition-biomassters-public-us/train_features/0003d2eb_S1_02.tif',\n",
       " 'drivendata-competition-biomassters-public-us/train_features/0003d2eb_S1_03.tif',\n",
       " 'drivendata-competition-biomassters-public-us/train_features/0003d2eb_S1_04.tif',\n",
       " 'drivendata-competition-biomassters-public-us/train_features/0003d2eb_S1_05.tif',\n",
       " 'drivendata-competition-biomassters-public-us/train_features/0003d2eb_S1_06.tif',\n",
       " 'drivendata-competition-biomassters-public-us/train_features/0003d2eb_S1_07.tif',\n",
       " 'drivendata-competition-biomassters-public-us/train_features/0003d2eb_S1_08.tif',\n",
       " 'drivendata-competition-biomassters-public-us/train_features/0003d2eb_S1_09.tif',\n",
       " 'drivendata-competition-biomassters-public-us/train_features/0003d2eb_S1_10.tif',\n",
       " 'drivendata-competition-biomassters-public-us/train_features/0003d2eb_S1_11.tif',\n",
       " 'drivendata-competition-biomassters-public-us/train_features/0003d2eb_S2_00.tif',\n",
       " 'drivendata-competition-biomassters-public-us/train_features/0003d2eb_S2_01.tif',\n",
       " 'drivendata-competition-biomassters-public-us/train_features/0003d2eb_S2_05.tif',\n",
       " 'drivendata-competition-biomassters-public-us/train_features/0003d2eb_S2_06.tif',\n",
       " 'drivendata-competition-biomassters-public-us/train_features/0003d2eb_S2_07.tif',\n",
       " 'drivendata-competition-biomassters-public-us/train_features/0003d2eb_S2_08.tif',\n",
       " 'drivendata-competition-biomassters-public-us/train_features/0003d2eb_S2_09.tif',\n",
       " 'drivendata-competition-biomassters-public-us/train_features/0003d2eb_S2_10.tif',\n",
       " 'drivendata-competition-biomassters-public-us/train_features/0003d2eb_S2_11.tif',\n",
       " 'drivendata-competition-biomassters-public-us/train_features/000aa810_S1_00.tif',\n",
       " 'drivendata-competition-biomassters-public-us/train_features/000aa810_S1_01.tif',\n",
       " 'drivendata-competition-biomassters-public-us/train_features/000aa810_S1_02.tif',\n",
       " 'drivendata-competition-biomassters-public-us/train_features/000aa810_S1_03.tif',\n",
       " 'drivendata-competition-biomassters-public-us/train_features/000aa810_S1_04.tif',\n",
       " 'drivendata-competition-biomassters-public-us/train_features/000aa810_S1_05.tif',\n",
       " 'drivendata-competition-biomassters-public-us/train_features/000aa810_S1_06.tif',\n",
       " 'drivendata-competition-biomassters-public-us/train_features/000aa810_S1_07.tif',\n",
       " 'drivendata-competition-biomassters-public-us/train_features/000aa810_S1_08.tif',\n",
       " 'drivendata-competition-biomassters-public-us/train_features/000aa810_S1_09.tif',\n",
       " 'drivendata-competition-biomassters-public-us/train_features/000aa810_S1_10.tif',\n",
       " 'drivendata-competition-biomassters-public-us/train_features/000aa810_S1_11.tif',\n",
       " 'drivendata-competition-biomassters-public-us/train_features/000aa810_S2_06.tif',\n",
       " 'drivendata-competition-biomassters-public-us/train_features/000aa810_S2_07.tif',\n",
       " 'drivendata-competition-biomassters-public-us/train_features/000aa810_S2_08.tif',\n",
       " 'drivendata-competition-biomassters-public-us/train_features/000aa810_S2_09.tif',\n",
       " 'drivendata-competition-biomassters-public-us/train_features/000aa810_S2_10.tif',\n",
       " 'drivendata-competition-biomassters-public-us/train_features/000aa810_S2_11.tif',\n",
       " 'drivendata-competition-biomassters-public-us/train_features/000d7e33_S1_00.tif',\n",
       " 'drivendata-competition-biomassters-public-us/train_features/000d7e33_S1_01.tif',\n",
       " 'drivendata-competition-biomassters-public-us/train_features/000d7e33_S1_02.tif',\n",
       " 'drivendata-competition-biomassters-public-us/train_features/000d7e33_S1_03.tif',\n",
       " 'drivendata-competition-biomassters-public-us/train_features/000d7e33_S1_04.tif',\n",
       " 'drivendata-competition-biomassters-public-us/train_features/000d7e33_S1_05.tif',\n",
       " 'drivendata-competition-biomassters-public-us/train_features/000d7e33_S1_06.tif',\n",
       " 'drivendata-competition-biomassters-public-us/train_features/000d7e33_S1_07.tif',\n",
       " 'drivendata-competition-biomassters-public-us/train_features/000d7e33_S1_08.tif',\n",
       " 'drivendata-competition-biomassters-public-us/train_features/000d7e33_S1_09.tif',\n",
       " 'drivendata-competition-biomassters-public-us/train_features/000d7e33_S1_10.tif',\n",
       " 'drivendata-competition-biomassters-public-us/train_features/000d7e33_S1_11.tif',\n",
       " 'drivendata-competition-biomassters-public-us/train_features/000d7e33_S2_06.tif',\n",
       " 'drivendata-competition-biomassters-public-us/train_features/000d7e33_S2_07.tif',\n",
       " 'drivendata-competition-biomassters-public-us/train_features/000d7e33_S2_08.tif',\n",
       " 'drivendata-competition-biomassters-public-us/train_features/000d7e33_S2_09.tif',\n",
       " 'drivendata-competition-biomassters-public-us/train_features/000d7e33_S2_10.tif',\n",
       " 'drivendata-competition-biomassters-public-us/train_features/000d7e33_S2_11.tif',\n",
       " 'drivendata-competition-biomassters-public-us/train_features/00184691_S1_00.tif',\n",
       " 'drivendata-competition-biomassters-public-us/train_features/00184691_S1_01.tif',\n",
       " 'drivendata-competition-biomassters-public-us/train_features/00184691_S1_02.tif',\n",
       " 'drivendata-competition-biomassters-public-us/train_features/00184691_S1_03.tif',\n",
       " 'drivendata-competition-biomassters-public-us/train_features/00184691_S1_04.tif',\n",
       " 'drivendata-competition-biomassters-public-us/train_features/00184691_S1_05.tif',\n",
       " 'drivendata-competition-biomassters-public-us/train_features/00184691_S1_06.tif',\n",
       " 'drivendata-competition-biomassters-public-us/train_features/00184691_S1_07.tif',\n",
       " 'drivendata-competition-biomassters-public-us/train_features/00184691_S1_08.tif',\n",
       " 'drivendata-competition-biomassters-public-us/train_features/00184691_S1_09.tif',\n",
       " 'drivendata-competition-biomassters-public-us/train_features/00184691_S1_10.tif',\n",
       " 'drivendata-competition-biomassters-public-us/train_features/00184691_S1_11.tif',\n",
       " 'drivendata-competition-biomassters-public-us/train_features/00184691_S2_06.tif',\n",
       " 'drivendata-competition-biomassters-public-us/train_features/00184691_S2_07.tif',\n",
       " 'drivendata-competition-biomassters-public-us/train_features/00184691_S2_08.tif',\n",
       " 'drivendata-competition-biomassters-public-us/train_features/00184691_S2_09.tif',\n",
       " 'drivendata-competition-biomassters-public-us/train_features/00184691_S2_10.tif',\n",
       " 'drivendata-competition-biomassters-public-us/train_features/00184691_S2_11.tif',\n",
       " 'drivendata-competition-biomassters-public-us/train_features/001b0634_S1_00.tif',\n",
       " 'drivendata-competition-biomassters-public-us/train_features/001b0634_S1_01.tif',\n",
       " 'drivendata-competition-biomassters-public-us/train_features/001b0634_S1_02.tif',\n",
       " 'drivendata-competition-biomassters-public-us/train_features/001b0634_S1_03.tif',\n",
       " 'drivendata-competition-biomassters-public-us/train_features/001b0634_S1_04.tif',\n",
       " 'drivendata-competition-biomassters-public-us/train_features/001b0634_S1_05.tif',\n",
       " 'drivendata-competition-biomassters-public-us/train_features/001b0634_S1_06.tif',\n",
       " 'drivendata-competition-biomassters-public-us/train_features/001b0634_S1_07.tif',\n",
       " 'drivendata-competition-biomassters-public-us/train_features/001b0634_S1_08.tif',\n",
       " 'drivendata-competition-biomassters-public-us/train_features/001b0634_S1_09.tif',\n",
       " 'drivendata-competition-biomassters-public-us/train_features/001b0634_S1_10.tif',\n",
       " 'drivendata-competition-biomassters-public-us/train_features/001b0634_S1_11.tif',\n",
       " 'drivendata-competition-biomassters-public-us/train_features/001b0634_S2_00.tif',\n",
       " 'drivendata-competition-biomassters-public-us/train_features/001b0634_S2_01.tif',\n",
       " 'drivendata-competition-biomassters-public-us/train_features/001b0634_S2_02.tif',\n",
       " 'drivendata-competition-biomassters-public-us/train_features/001b0634_S2_04.tif',\n",
       " 'drivendata-competition-biomassters-public-us/train_features/001b0634_S2_05.tif',\n",
       " 'drivendata-competition-biomassters-public-us/train_features/001b0634_S2_06.tif',\n",
       " 'drivendata-competition-biomassters-public-us/train_features/001b0634_S2_07.tif',\n",
       " 'drivendata-competition-biomassters-public-us/train_features/001b0634_S2_08.tif',\n",
       " 'drivendata-competition-biomassters-public-us/train_features/001b0634_S2_09.tif',\n",
       " 'drivendata-competition-biomassters-public-us/train_features/001b0634_S2_10.tif',\n",
       " 'drivendata-competition-biomassters-public-us/train_features/001b0634_S2_11.tif',\n",
       " 'drivendata-competition-biomassters-public-us/train_features/001eb75a_S1_00.tif',\n",
       " 'drivendata-competition-biomassters-public-us/train_features/001eb75a_S1_01.tif']"
      ]
     },
     "execution_count": 29,
     "metadata": {},
     "output_type": "execute_result"
    }
   ],
   "source": [
    "feat_images[:100]"
   ]
  }
 ],
 "metadata": {
  "kernelspec": {
   "display_name": "Python 3 (ipykernel)",
   "language": "python",
   "name": "python3"
  },
  "language_info": {
   "codemirror_mode": {
    "name": "ipython",
    "version": 3
   },
   "file_extension": ".py",
   "mimetype": "text/x-python",
   "name": "python",
   "nbconvert_exporter": "python",
   "pygments_lexer": "ipython3",
   "version": "3.9.13"
  }
 },
 "nbformat": 4,
 "nbformat_minor": 5
}
