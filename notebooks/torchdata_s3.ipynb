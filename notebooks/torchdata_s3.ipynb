{
 "cells": [
  {
   "cell_type": "markdown",
   "id": "75efad6a-6390-4f0c-855d-f98b2e495261",
   "metadata": {},
   "source": [
    "# Exploring TorchData for Streaming Data from an AWS S3 Bucket"
   ]
  },
  {
   "cell_type": "markdown",
   "id": "b00b2f26-6456-49dd-913b-a94a590b26bc",
   "metadata": {},
   "source": [
    "This notebook explores using the [TorchData](https://pytorch.org/data/beta/index.html) package for setting up data pipelines and for using with cloud storage, which in this case happens to be an Amazon S3 bucket."
   ]
  },
  {
   "cell_type": "code",
   "execution_count": 1,
   "id": "e7bfd6fb-2c0c-48d1-88ec-fc7ed9697ccb",
   "metadata": {},
   "outputs": [],
   "source": [
    "from PIL import Image\n",
    "from pathlib import Path\n",
    "import torchdata.datapipes.iter as pipes\n",
    "from torchdata.datapipes.iter import IterableWrapper"
   ]
  },
  {
   "cell_type": "code",
   "execution_count": 2,
   "id": "8235b25c-6f10-436c-86c9-b614a9117445",
   "metadata": {},
   "outputs": [],
   "source": [
    "S3_URL = \"s3://drivendata-competition-biomassters-public-us\"\n",
    "train_features_s3 = S3_URL + \"/train_features/\"\n",
    "train_agbm_s3 = S3_URL + \"/train_agbm/\"\n",
    "test_features_s3 = S3_URL + \"/test_features/\""
   ]
  },
  {
   "cell_type": "code",
   "execution_count": 3,
   "id": "84169c02-ce8a-4f3f-95f2-112874be0e6c",
   "metadata": {},
   "outputs": [
    {
     "name": "stdout",
     "output_type": "stream",
     "text": [
      "s3://drivendata-competition-biomassters-public-us/train_features/\n",
      "s3://drivendata-competition-biomassters-public-us/train_agbm/\n"
     ]
    }
   ],
   "source": [
    "print(train_features_s3)\n",
    "print(train_agbm_s3)"
   ]
  },
  {
   "cell_type": "code",
   "execution_count": 4,
   "id": "fa235708-bafa-48d2-9f60-8805429c8221",
   "metadata": {},
   "outputs": [
    {
     "name": "stdout",
     "output_type": "stream",
     "text": [
      "Name: 0003d2eb_S1_00.tif\n",
      "Stem: 0003d2eb_S1_00\n",
      "Suffix: .tif\n",
      "Chip ID: 0003d2eb\n"
     ]
    }
   ],
   "source": [
    "filename = Path(\"s3://drivendata-competition-biomassters-public-us/train_features/0003d2eb_S1_00.tif\")\n",
    "print(f\"Name: {filename.name}\")\n",
    "print(f\"Stem: {filename.stem}\")\n",
    "print(f\"Suffix: {filename.suffix}\")\n",
    "print(f\"Chip ID: {filename.stem.split('_')[0]}\")"
   ]
  },
  {
   "cell_type": "code",
   "execution_count": 5,
   "id": "0569e099-c6b6-4ae5-a1a7-6497fae0c8f4",
   "metadata": {},
   "outputs": [
    {
     "data": {
      "text/plain": [
       "'0003d2eb_S1_00'"
      ]
     },
     "execution_count": 5,
     "metadata": {},
     "output_type": "execute_result"
    }
   ],
   "source": [
    "filename.stem"
   ]
  },
  {
   "cell_type": "code",
   "execution_count": 6,
   "id": "590161e0-b61f-4cd2-9b42-88416cceb4f3",
   "metadata": {},
   "outputs": [],
   "source": [
    "def filter_img(filename, satellite='S1', month='00'):\n",
    "    file_path = Path(filename)\n",
    "    chip_id = file_path.stem.split(\"_\")[0]\n",
    "    \n",
    "    filter_img = f\"{chip_id}_{satellite}_{month}.tif\"\n",
    "    return file_path.name == filter_img"
   ]
  },
  {
   "cell_type": "code",
   "execution_count": 7,
   "id": "a77dce92-ba19-407e-ae86-49dba7b312db",
   "metadata": {},
   "outputs": [
    {
     "name": "stdout",
     "output_type": "stream",
     "text": [
      "True\n",
      "False\n"
     ]
    }
   ],
   "source": [
    "filename = Path(\"s3://drivendata-competition-biomassters-public-us/train_features/0003d2eb_S1_00.tif\")\n",
    "print(filter_img(filename))\n",
    "filename = Path(\"s3://drivendata-competition-biomassters-public-us/train_features/0003d2eb_S1_01.tif\")\n",
    "print(filter_img(filename))"
   ]
  },
  {
   "cell_type": "code",
   "execution_count": 8,
   "id": "87cf6286-4d6e-4e21-87c1-b0aa4a61c17e",
   "metadata": {},
   "outputs": [],
   "source": [
    "def agbm_target(filename):\n",
    "    agbm_filename = filename.split(\"_\")[0] + \"_agbm.tif\"\n",
    "    return agbm_filename"
   ]
  },
  {
   "cell_type": "code",
   "execution_count": 9,
   "id": "968a594f-09ca-4a83-b3e4-1223ad65b5a5",
   "metadata": {},
   "outputs": [],
   "source": [
    "features_dp = IterableWrapper([train_features_s3]).list_files_by_fsspec()\n",
    "# Note: Using S3 specific functions leads to CURL errors with CA Certificates\n",
    "# features_dp = IterableWrapper([train_features_s3]).list_files_by_s3()\n",
    "features_dp = features_dp.filter(filter_fn=filter_img)"
   ]
  },
  {
   "cell_type": "code",
   "execution_count": 10,
   "id": "6026142d-35e8-4baf-9ba9-0ae16a2669eb",
   "metadata": {},
   "outputs": [
    {
     "name": "stdout",
     "output_type": "stream",
     "text": [
      "s3://drivendata-competition-biomassters-public-us/train_features/0003d2eb_S1_00.tif\n",
      "s3://drivendata-competition-biomassters-public-us/train_features/000aa810_S1_00.tif\n"
     ]
    }
   ],
   "source": [
    "# Sanity check\n",
    "it1 = iter(features_dp)\n",
    "print(next(it1))\n",
    "print(next(it1))"
   ]
  },
  {
   "cell_type": "code",
   "execution_count": 11,
   "id": "b86c35ab-2a92-471f-bbba-4ca25e9f90cb",
   "metadata": {},
   "outputs": [],
   "source": [
    "features_dp = features_dp.sharding_filter()\n",
    "features_dp = features_dp.open_files_by_fsspec(mode=\"rb\")\n",
    "\n",
    "# Note: Here also, using S3 specific function results in an error\n",
    "# TypeError: s3_read(): incompatible function arguments. The following argument types are supported:\n",
    "#    1. (self: torchdata._torchdata.S3Handler, arg0: str) -> bytes\n",
    "\n",
    "# Invoked with: <torchdata._torchdata.S3Handler object at 0x7fb30498f030>, ('s3://drivendata-competition-biomassters-public-us/train_features/0003d2eb_S1_00.tif', StreamWrapper<<File-like object S3FileSystem, drivendata-competition-biomassters-public-us/train_features/0003d2eb_S1_00.tif>>)\n",
    "# This exception is thrown by __iter__ of S3FileLoaderIterDataPipe(source_datapipe=ShardingFilterIterDataPipe)\n",
    "\n",
    "# features_dp = features_dp.load_files_by_s3()"
   ]
  },
  {
   "cell_type": "markdown",
   "id": "7c4f7442-6a0d-4616-a62d-b93e2dc3a720",
   "metadata": {},
   "source": [
    "### Using `rasterio` instead of `PIL`\n",
    "\n",
    "Using `PIL` for image reading and displaying doesn't work as it doesn't support TIFF format well (limited rather).\n",
    "\n",
    "Instead I will use `rasterio` library for reading tif data. [Rasterio](https://rasterio.readthedocs.io/en/latest/index.html) is a package build specifically for Geospatial data."
   ]
  },
  {
   "cell_type": "code",
   "execution_count": 12,
   "id": "79d75950-8d22-469a-8719-489748e58438",
   "metadata": {},
   "outputs": [],
   "source": [
    "from rasterio import MemoryFile"
   ]
  },
  {
   "cell_type": "code",
   "execution_count": 23,
   "id": "e82e61f6-cabd-46db-93cd-41b8ff1cea71",
   "metadata": {},
   "outputs": [],
   "source": [
    "def read_to_array(data):\n",
    "    url, file_obj = data\n",
    "    raw_bytes = file_obj.read()\n",
    "    \n",
    "    with MemoryFile(raw_bytes) as memfile:\n",
    "        try:\n",
    "            with memfile.open() as dataset:\n",
    "                raw_bytes = dataset.read(list(range(1, dataset.count+1)))\n",
    "        except rasterio.errors.NotGeoreferencedWarning:\n",
    "            pass\n",
    "        return (url, raw_bytes)"
   ]
  },
  {
   "cell_type": "code",
   "execution_count": 14,
   "id": "1c4b7e77-f83f-4285-a18b-72723d98e9a0",
   "metadata": {},
   "outputs": [],
   "source": [
    "features_dp = features_dp.map(read_to_array)"
   ]
  },
  {
   "cell_type": "code",
   "execution_count": 15,
   "id": "0d6814fc-b6aa-4300-b6b9-1a5de1949430",
   "metadata": {},
   "outputs": [],
   "source": [
    "agbm_dp = IterableWrapper([train_agbm_s3])\n",
    "agbm_dp = agbm_dp.list_files_by_fsspec()"
   ]
  },
  {
   "cell_type": "code",
   "execution_count": 16,
   "id": "5226bd38-9975-4f86-ae88-44450d3c7822",
   "metadata": {},
   "outputs": [
    {
     "name": "stdout",
     "output_type": "stream",
     "text": [
      "s3://drivendata-competition-biomassters-public-us/train_agbm/0003d2eb_agbm.tif\n",
      "s3://drivendata-competition-biomassters-public-us/train_agbm/0003d2eb_agbm.tif\n"
     ]
    }
   ],
   "source": [
    "print(next(iter(agbm_dp)))\n",
    "print(next(iter(agbm_dp)))"
   ]
  },
  {
   "cell_type": "code",
   "execution_count": 17,
   "id": "4abd92b1-a3a3-4569-915e-1b5563ac98b0",
   "metadata": {},
   "outputs": [],
   "source": [
    "agbm_dp = agbm_dp.sharding_filter()\n",
    "agbm_dp = agbm_dp.open_files_by_fsspec(mode=\"rb\")\n",
    "agbm_dp = agbm_dp.map(read_to_array)"
   ]
  },
  {
   "cell_type": "code",
   "execution_count": 18,
   "id": "6714a529-6c6d-489f-930b-a4723b92a7ea",
   "metadata": {},
   "outputs": [],
   "source": [
    "input_dp = features_dp.zip(agbm_dp)"
   ]
  },
  {
   "cell_type": "code",
   "execution_count": 19,
   "id": "4d027097-f101-4aea-bfa0-d8ada1f67d46",
   "metadata": {},
   "outputs": [
    {
     "name": "stdout",
     "output_type": "stream",
     "text": [
      "<class 'torch.utils.data.datapipes.iter.combining.ZipperIterDataPipe'>\n"
     ]
    }
   ],
   "source": [
    "print(type(input_dp))"
   ]
  },
  {
   "cell_type": "code",
   "execution_count": 20,
   "id": "87761632-cc18-4c45-9dd2-4f4c758bb16a",
   "metadata": {},
   "outputs": [
    {
     "name": "stderr",
     "output_type": "stream",
     "text": [
      "/usr/local/lib/python3.9/dist-packages/rasterio/io.py:138: NotGeoreferencedWarning: Dataset has no geotransform, gcps, or rpcs. The identity matrix will be returned.\n",
      "  return DatasetReader(mempath, driver=driver, sharing=sharing, **kwargs)\n",
      "Exception ignored in: <generator object ZipperIterDataPipe.__iter__ at 0x7f5af8631e40>\n",
      "Traceback (most recent call last):\n",
      "  File \"/usr/local/lib/python3.9/dist-packages/torch/utils/data/datapipes/iter/combining.py\", line 546, in __iter__\n",
      "    unused += list(iterator)\n",
      "  File \"/usr/local/lib/python3.9/dist-packages/torch/utils/data/datapipes/_hook_iterator.py\", line 185, in wrap_generator\n",
      "    response = gen.send(request)\n",
      "  File \"/usr/local/lib/python3.9/dist-packages/torch/utils/data/datapipes/iter/callable.py\", line 123, in __iter__\n",
      "    yield self._apply_fn(data)\n",
      "  File \"/usr/local/lib/python3.9/dist-packages/torch/utils/data/datapipes/iter/callable.py\", line 88, in _apply_fn\n",
      "    return self.fn(data)\n",
      "  File \"/tmp/ipykernel_16025/3389276255.py\", line 3, in read_to_array\n",
      "  File \"/usr/local/lib/python3.9/dist-packages/fsspec/spec.py\", line 1655, in read\n",
      "    out = self.cache._fetch(self.loc, self.loc + length)\n",
      "  File \"/usr/local/lib/python3.9/dist-packages/fsspec/caching.py\", line 377, in _fetch\n",
      "    self.cache = self.fetcher(start, bend)\n",
      "  File \"/usr/local/lib/python3.9/dist-packages/s3fs/core.py\", line 2108, in _fetch_range\n",
      "    return _fetch_range(\n",
      "  File \"/usr/local/lib/python3.9/dist-packages/s3fs/core.py\", line 2251, in _fetch_range\n",
      "    return sync(fs.loop, _inner_fetch, fs, bucket, key, version_id, start, end, req_kw)\n",
      "  File \"/usr/local/lib/python3.9/dist-packages/fsspec/asyn.py\", line 86, in sync\n",
      "    if event.wait(1):\n",
      "  File \"/usr/lib/python3.9/threading.py\", line 581, in wait\n",
      "    signaled = self._cond.wait(timeout)\n",
      "  File \"/usr/lib/python3.9/threading.py\", line 316, in wait\n",
      "    gotit = waiter.acquire(True, timeout)\n",
      "KeyboardInterrupt: \n"
     ]
    },
    {
     "data": {
      "text/plain": [
       "2"
      ]
     },
     "execution_count": 20,
     "metadata": {},
     "output_type": "execute_result"
    }
   ],
   "source": [
    "batch = next(iter(input_dp))\n",
    "len(batch)"
   ]
  },
  {
   "cell_type": "code",
   "execution_count": 21,
   "id": "38e1a1e3-1af4-4339-88dd-ab95190ddd3c",
   "metadata": {},
   "outputs": [],
   "source": [
    "feat, agbm = batch"
   ]
  }
 ],
 "metadata": {
  "kernelspec": {
   "display_name": "Python 3 (ipykernel)",
   "language": "python",
   "name": "python3"
  },
  "language_info": {
   "codemirror_mode": {
    "name": "ipython",
    "version": 3
   },
   "file_extension": ".py",
   "mimetype": "text/x-python",
   "name": "python",
   "nbconvert_exporter": "python",
   "pygments_lexer": "ipython3",
   "version": "3.9.15"
  }
 },
 "nbformat": 4,
 "nbformat_minor": 5
}
