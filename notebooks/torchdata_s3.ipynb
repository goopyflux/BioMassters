{
 "cells": [
  {
   "cell_type": "markdown",
   "id": "75efad6a-6390-4f0c-855d-f98b2e495261",
   "metadata": {},
   "source": [
    "# Exploring TorchData for Streaming Data from an AWS S3 Bucket"
   ]
  },
  {
   "cell_type": "markdown",
   "id": "b00b2f26-6456-49dd-913b-a94a590b26bc",
   "metadata": {},
   "source": [
    "This notebook explores using the [TorchData](https://pytorch.org/data/beta/index.html) package for setting up data pipelines and for using with cloud storage, which in this case happens to be an Amazon S3 bucket."
   ]
  },
  {
   "cell_type": "code",
   "execution_count": 2,
   "id": "e7bfd6fb-2c0c-48d1-88ec-fc7ed9697ccb",
   "metadata": {},
   "outputs": [],
   "source": [
    "from torchdata.datapipes.iter import IterableWrapper"
   ]
  },
  {
   "cell_type": "code",
   "execution_count": 3,
   "id": "8235b25c-6f10-436c-86c9-b614a9117445",
   "metadata": {},
   "outputs": [],
   "source": [
    "S3_URL = \"s3://drivendata-competition-biomassters-public-us\"\n",
    "train_features_s3 = S3_URL + \"/train_features\"\n",
    "train_agbm_s3 = S3_URL + \"/train_agbm\"\n",
    "test_features_s3 = S3_URL + \"/test_features\""
   ]
  },
  {
   "cell_type": "code",
   "execution_count": 21,
   "id": "590161e0-b61f-4cd2-9b42-88416cceb4f3",
   "metadata": {},
   "outputs": [],
   "source": [
    "def filter_img(filename, satellite='S1', month='00'):\n",
    "    feature_file = f\"{filename}_{satellite}_{month}.tif\"\n",
    "    return feature_file == filename"
   ]
  },
  {
   "cell_type": "code",
   "execution_count": null,
   "id": "87cf6286-4d6e-4e21-87c1-b0aa4a61c17e",
   "metadata": {},
   "outputs": [],
   "source": [
    "def agbm_target(filename):\n",
    "    agbm_filename = filename.split(\"_\")[0] + \"_agbm.tif\"\n",
    "    return agbm_filename"
   ]
  },
  {
   "cell_type": "code",
   "execution_count": 18,
   "id": "b86c35ab-2a92-471f-bbba-4ca25e9f90cb",
   "metadata": {},
   "outputs": [],
   "source": [
    "features_dp = IterableWrapper(train_features_s3)\n",
    "agbm_dp = IterableWrapper(train_agbm_s3)\n",
    "\n",
    "dp = dp.filter(filter_fn=filter_img)\n",
    "dp = dp.Zipper(features_dp, agbm_dp)"
   ]
  },
  {
   "cell_type": "code",
   "execution_count": 22,
   "id": "4d027097-f101-4aea-bfa0-d8ada1f67d46",
   "metadata": {},
   "outputs": [
    {
     "name": "stdout",
     "output_type": "stream",
     "text": [
      "['0003d2eb', 'S1', '00.tif']\n"
     ]
    }
   ],
   "source": [
    "name = \"0003d2eb_S1_00.tif\"\n",
    "print(name.split(\"_\"))\n"
   ]
  },
  {
   "cell_type": "code",
   "execution_count": 19,
   "id": "38e1a1e3-1af4-4339-88dd-ab95190ddd3c",
   "metadata": {},
   "outputs": [],
   "source": [
    "it1 = iter(dp)"
   ]
  },
  {
   "cell_type": "code",
   "execution_count": 20,
   "id": "ac64bd42-0d61-4ae7-a036-9c6ee2dc0c38",
   "metadata": {},
   "outputs": [
    {
     "ename": "FileNotFoundError",
     "evalue": "[Errno 2] No such file or directory: '/notebooks/notebooks/s'",
     "output_type": "error",
     "traceback": [
      "\u001b[0;31m---------------------------------------------------------------------------\u001b[0m",
      "\u001b[0;31mFileNotFoundError\u001b[0m                         Traceback (most recent call last)",
      "Input \u001b[0;32mIn [20]\u001b[0m, in \u001b[0;36m<cell line: 1>\u001b[0;34m()\u001b[0m\n\u001b[0;32m----> 1\u001b[0m \u001b[38;5;28;43mlist\u001b[39;49m\u001b[43m(\u001b[49m\u001b[43mit1\u001b[49m\u001b[43m)\u001b[49m\n",
      "File \u001b[0;32m/usr/local/lib/python3.9/dist-packages/torch/utils/data/datapipes/_hook_iterator.py:173\u001b[0m, in \u001b[0;36mhook_iterator.<locals>.wrap_generator\u001b[0;34m(*args, **kwargs)\u001b[0m\n\u001b[1;32m    171\u001b[0m         response \u001b[38;5;241m=\u001b[39m gen\u001b[38;5;241m.\u001b[39msend(\u001b[38;5;28;01mNone\u001b[39;00m)\n\u001b[1;32m    172\u001b[0m \u001b[38;5;28;01melse\u001b[39;00m:\n\u001b[0;32m--> 173\u001b[0m     response \u001b[38;5;241m=\u001b[39m \u001b[43mgen\u001b[49m\u001b[38;5;241;43m.\u001b[39;49m\u001b[43msend\u001b[49m\u001b[43m(\u001b[49m\u001b[38;5;28;43;01mNone\u001b[39;49;00m\u001b[43m)\u001b[49m\n\u001b[1;32m    175\u001b[0m \u001b[38;5;28;01mwhile\u001b[39;00m \u001b[38;5;28;01mTrue\u001b[39;00m:\n\u001b[1;32m    176\u001b[0m     datapipe\u001b[38;5;241m.\u001b[39m_number_of_samples_yielded \u001b[38;5;241m+\u001b[39m\u001b[38;5;241m=\u001b[39m \u001b[38;5;241m1\u001b[39m\n",
      "File \u001b[0;32m/usr/local/lib/python3.9/dist-packages/torchdata/datapipes/iter/load/fsspec.py:86\u001b[0m, in \u001b[0;36mFSSpecFileListerIterDataPipe.__iter__\u001b[0;34m(self)\u001b[0m\n\u001b[1;32m     84\u001b[0m     \u001b[38;5;28;01myield\u001b[39;00m root\n\u001b[1;32m     85\u001b[0m \u001b[38;5;28;01melse\u001b[39;00m:\n\u001b[0;32m---> 86\u001b[0m     \u001b[38;5;28;01mfor\u001b[39;00m file_name \u001b[38;5;129;01min\u001b[39;00m \u001b[43mfs\u001b[49m\u001b[38;5;241;43m.\u001b[39;49m\u001b[43mls\u001b[49m\u001b[43m(\u001b[49m\u001b[43mpath\u001b[49m\u001b[43m)\u001b[49m:\n\u001b[1;32m     87\u001b[0m         \u001b[38;5;28;01mif\u001b[39;00m \u001b[38;5;129;01mnot\u001b[39;00m match_masks(file_name, \u001b[38;5;28mself\u001b[39m\u001b[38;5;241m.\u001b[39mmasks):\n\u001b[1;32m     88\u001b[0m             \u001b[38;5;28;01mcontinue\u001b[39;00m\n",
      "File \u001b[0;32m/usr/local/lib/python3.9/dist-packages/fsspec/implementations/local.py:62\u001b[0m, in \u001b[0;36mLocalFileSystem.ls\u001b[0;34m(self, path, detail, **kwargs)\u001b[0m\n\u001b[1;32m     60\u001b[0m         \u001b[38;5;28;01mreturn\u001b[39;00m [\u001b[38;5;28mself\u001b[39m\u001b[38;5;241m.\u001b[39minfo(f) \u001b[38;5;28;01mfor\u001b[39;00m f \u001b[38;5;129;01min\u001b[39;00m it]\n\u001b[1;32m     61\u001b[0m \u001b[38;5;28;01melse\u001b[39;00m:\n\u001b[0;32m---> 62\u001b[0m     \u001b[38;5;28;01mreturn\u001b[39;00m [posixpath\u001b[38;5;241m.\u001b[39mjoin(path, f) \u001b[38;5;28;01mfor\u001b[39;00m f \u001b[38;5;129;01min\u001b[39;00m \u001b[43mos\u001b[49m\u001b[38;5;241;43m.\u001b[39;49m\u001b[43mlistdir\u001b[49m\u001b[43m(\u001b[49m\u001b[43mpath\u001b[49m\u001b[43m)\u001b[49m]\n",
      "\u001b[0;31mFileNotFoundError\u001b[0m: [Errno 2] No such file or directory: '/notebooks/notebooks/s'"
     ]
    }
   ],
   "source": [
    "list(it1)"
   ]
  }
 ],
 "metadata": {
  "kernelspec": {
   "display_name": "Python 3 (ipykernel)",
   "language": "python",
   "name": "python3"
  },
  "language_info": {
   "codemirror_mode": {
    "name": "ipython",
    "version": 3
   },
   "file_extension": ".py",
   "mimetype": "text/x-python",
   "name": "python",
   "nbconvert_exporter": "python",
   "pygments_lexer": "ipython3",
   "version": "3.9.13"
  }
 },
 "nbformat": 4,
 "nbformat_minor": 5
}
