{
 "cells": [
  {
   "cell_type": "markdown",
   "id": "75efad6a-6390-4f0c-855d-f98b2e495261",
   "metadata": {},
   "source": [
    "# Exploring TorchData for Streaming Data from an AWS S3 Bucket"
   ]
  },
  {
   "cell_type": "markdown",
   "id": "b00b2f26-6456-49dd-913b-a94a590b26bc",
   "metadata": {},
   "source": [
    "This notebook explores using the [TorchData](https://pytorch.org/data/beta/index.html) package for setting up data pipelines and for using with cloud storage, which in this case happens to be an Amazon S3 bucket."
   ]
  },
  {
   "cell_type": "markdown",
   "id": "1afbca84-1fa5-43e8-98da-0648f7d93751",
   "metadata": {},
   "source": [
    "**Monday 5th December 2022**\n",
    "\n",
    "I realized that the Zipper datapipe wasn't working probably due to the filtering on the input features datapipe, which could potentially cause issues with yielding.\n",
    "A simpler solution might be to use a single input feature datapipe, list files, filter files and map a function to returns both the input image data and the corresponding output image data along with the chip ID as a dict."
   ]
  },
  {
   "cell_type": "markdown",
   "id": "a43b4cd4-c2ad-4202-8d51-b3192bd36f96",
   "metadata": {},
   "source": [
    "## Setup and Metadata"
   ]
  },
  {
   "cell_type": "code",
   "execution_count": 1,
   "id": "809e8aa0-6a07-4fcc-ae1f-6019acf33d6d",
   "metadata": {},
   "outputs": [
    {
     "name": "stdout",
     "output_type": "stream",
     "text": [
      "Collecting torchdata\n",
      "  Downloading torchdata-0.5.0-cp39-cp39-manylinux_2_17_x86_64.manylinux2014_x86_64.whl (4.5 MB)\n",
      "\u001b[2K     \u001b[90m━━━━━━━━━━━━━━━━━━━━━━━━━━━━━━━━━━━━━━━━\u001b[0m \u001b[32m4.5/4.5 MB\u001b[0m \u001b[31m43.3 MB/s\u001b[0m eta \u001b[36m0:00:00\u001b[0ma \u001b[36m0:00:01\u001b[0m\n",
      "\u001b[?25hRequirement already satisfied: fsspec in /usr/local/lib/python3.9/dist-packages (2022.5.0)\n",
      "Collecting fsspec\n",
      "  Downloading fsspec-2022.11.0-py3-none-any.whl (139 kB)\n",
      "\u001b[2K     \u001b[90m━━━━━━━━━━━━━━━━━━━━━━━━━━━━━━━━━━━━━━\u001b[0m \u001b[32m139.5/139.5 kB\u001b[0m \u001b[31m26.7 MB/s\u001b[0m eta \u001b[36m0:00:00\u001b[0m\n",
      "\u001b[?25hCollecting s3fs\n",
      "  Downloading s3fs-2022.11.0-py3-none-any.whl (27 kB)\n",
      "Collecting rasterio\n",
      "  Downloading rasterio-1.3.4-cp39-cp39-manylinux_2_17_x86_64.manylinux2014_x86_64.whl (20.9 MB)\n",
      "\u001b[2K     \u001b[90m━━━━━━━━━━━━━━━━━━━━━━━━━━━━━━━━━━━━━━━━\u001b[0m \u001b[32m20.9/20.9 MB\u001b[0m \u001b[31m37.5 MB/s\u001b[0m eta \u001b[36m0:00:00\u001b[0m00:01\u001b[0m00:01\u001b[0m\n",
      "\u001b[?25hRequirement already satisfied: requests in /usr/local/lib/python3.9/dist-packages (from torchdata) (2.28.1)\n",
      "Requirement already satisfied: urllib3>=1.25 in /usr/local/lib/python3.9/dist-packages (from torchdata) (1.26.10)\n",
      "Collecting portalocker>=2.0.0\n",
      "  Downloading portalocker-2.6.0-py2.py3-none-any.whl (15 kB)\n",
      "Collecting torch==1.13.0\n",
      "  Downloading torch-1.13.0-cp39-cp39-manylinux1_x86_64.whl (890.2 MB)\n",
      "\u001b[2K     \u001b[90m━━━━━━━━━━━━━━━━━━━━━━━━━━━━━━━━━━━━━━━\u001b[0m \u001b[32m890.2/890.2 MB\u001b[0m \u001b[31m2.0 MB/s\u001b[0m eta \u001b[36m0:00:00\u001b[0m00:01\u001b[0m00:01\u001b[0m\n",
      "\u001b[?25hCollecting nvidia-cuda-nvrtc-cu11==11.7.99\n",
      "  Downloading nvidia_cuda_nvrtc_cu11-11.7.99-2-py3-none-manylinux1_x86_64.whl (21.0 MB)\n",
      "\u001b[2K     \u001b[90m━━━━━━━━━━━━━━━━━━━━━━━━━━━━━━━━━━━━━━━━\u001b[0m \u001b[32m21.0/21.0 MB\u001b[0m \u001b[31m36.2 MB/s\u001b[0m eta \u001b[36m0:00:00\u001b[0m00:01\u001b[0m00:01\u001b[0m\n",
      "\u001b[?25hCollecting nvidia-cublas-cu11==11.10.3.66\n",
      "  Downloading nvidia_cublas_cu11-11.10.3.66-py3-none-manylinux1_x86_64.whl (317.1 MB)\n",
      "\u001b[2K     \u001b[90m━━━━━━━━━━━━━━━━━━━━━━━━━━━━━━━━━━━━━━━\u001b[0m \u001b[32m317.1/317.1 MB\u001b[0m \u001b[31m5.2 MB/s\u001b[0m eta \u001b[36m0:00:00\u001b[0m00:01\u001b[0m00:01\u001b[0m\n",
      "\u001b[?25hRequirement already satisfied: typing-extensions in /usr/local/lib/python3.9/dist-packages (from torch==1.13.0->torchdata) (4.3.0)\n",
      "Collecting nvidia-cudnn-cu11==8.5.0.96\n",
      "  Downloading nvidia_cudnn_cu11-8.5.0.96-2-py3-none-manylinux1_x86_64.whl (557.1 MB)\n",
      "\u001b[2K     \u001b[90m━━━━━━━━━━━━━━━━━━━━━━━━━━━━━━━━━━━━━━━\u001b[0m \u001b[32m557.1/557.1 MB\u001b[0m \u001b[31m3.3 MB/s\u001b[0m eta \u001b[36m0:00:00\u001b[0m00:01\u001b[0m00:01\u001b[0m\n",
      "\u001b[?25hCollecting nvidia-cuda-runtime-cu11==11.7.99\n",
      "  Downloading nvidia_cuda_runtime_cu11-11.7.99-py3-none-manylinux1_x86_64.whl (849 kB)\n",
      "\u001b[2K     \u001b[90m━━━━━━━━━━━━━━━━━━━━━━━━━━━━━━━━━━━━━━\u001b[0m \u001b[32m849.3/849.3 kB\u001b[0m \u001b[31m46.1 MB/s\u001b[0m eta \u001b[36m0:00:00\u001b[0m\n",
      "\u001b[?25hRequirement already satisfied: setuptools in /usr/local/lib/python3.9/dist-packages (from nvidia-cublas-cu11==11.10.3.66->torch==1.13.0->torchdata) (63.1.0)\n",
      "Requirement already satisfied: wheel in /usr/local/lib/python3.9/dist-packages (from nvidia-cublas-cu11==11.10.3.66->torch==1.13.0->torchdata) (0.35.1)\n",
      "Requirement already satisfied: aiohttp!=4.0.0a0,!=4.0.0a1 in /usr/local/lib/python3.9/dist-packages (from s3fs) (3.8.1)\n",
      "Collecting aiobotocore~=2.4.0\n",
      "  Downloading aiobotocore-2.4.1-py3-none-any.whl (66 kB)\n",
      "\u001b[2K     \u001b[90m━━━━━━━━━━━━━━━━━━━━━━━━━━━━━━━━━━━━━━━━\u001b[0m \u001b[32m66.8/66.8 kB\u001b[0m \u001b[31m15.1 MB/s\u001b[0m eta \u001b[36m0:00:00\u001b[0m\n",
      "\u001b[?25hCollecting affine\n",
      "  Downloading affine-2.3.1-py2.py3-none-any.whl (16 kB)\n",
      "Requirement already satisfied: certifi in /usr/lib/python3/dist-packages (from rasterio) (2019.11.28)\n",
      "Collecting snuggs>=1.4.1\n",
      "  Downloading snuggs-1.4.7-py3-none-any.whl (5.4 kB)\n",
      "Requirement already satisfied: attrs in /usr/local/lib/python3.9/dist-packages (from rasterio) (18.2.0)\n",
      "Requirement already satisfied: click>=4.0 in /usr/local/lib/python3.9/dist-packages (from rasterio) (8.1.3)\n",
      "Collecting cligj>=0.5\n",
      "  Downloading cligj-0.7.2-py3-none-any.whl (7.1 kB)\n",
      "Collecting click-plugins\n",
      "  Downloading click_plugins-1.1.1-py2.py3-none-any.whl (7.5 kB)\n",
      "Requirement already satisfied: numpy>=1.18 in /usr/local/lib/python3.9/dist-packages (from rasterio) (1.23.1)\n",
      "Requirement already satisfied: wrapt>=1.10.10 in /usr/local/lib/python3.9/dist-packages (from aiobotocore~=2.4.0->s3fs) (1.14.1)\n",
      "Collecting aioitertools>=0.5.1\n",
      "  Downloading aioitertools-0.11.0-py3-none-any.whl (23 kB)\n",
      "Collecting botocore<1.27.60,>=1.27.59\n",
      "  Downloading botocore-1.27.59-py3-none-any.whl (9.1 MB)\n",
      "\u001b[2K     \u001b[90m━━━━━━━━━━━━━━━━━━━━━━━━━━━━━━━━━━━━━━━━\u001b[0m \u001b[32m9.1/9.1 MB\u001b[0m \u001b[31m50.0 MB/s\u001b[0m eta \u001b[36m0:00:00\u001b[0m00:01\u001b[0m00:01\u001b[0m\n",
      "\u001b[?25hRequirement already satisfied: async-timeout<5.0,>=4.0.0a3 in /usr/local/lib/python3.9/dist-packages (from aiohttp!=4.0.0a0,!=4.0.0a1->s3fs) (4.0.2)\n",
      "Requirement already satisfied: multidict<7.0,>=4.5 in /usr/local/lib/python3.9/dist-packages (from aiohttp!=4.0.0a0,!=4.0.0a1->s3fs) (6.0.2)\n",
      "Requirement already satisfied: yarl<2.0,>=1.0 in /usr/local/lib/python3.9/dist-packages (from aiohttp!=4.0.0a0,!=4.0.0a1->s3fs) (1.7.2)\n",
      "Requirement already satisfied: aiosignal>=1.1.2 in /usr/local/lib/python3.9/dist-packages (from aiohttp!=4.0.0a0,!=4.0.0a1->s3fs) (1.2.0)\n",
      "Requirement already satisfied: frozenlist>=1.1.1 in /usr/local/lib/python3.9/dist-packages (from aiohttp!=4.0.0a0,!=4.0.0a1->s3fs) (1.3.0)\n",
      "Requirement already satisfied: charset-normalizer<3.0,>=2.0 in /usr/local/lib/python3.9/dist-packages (from aiohttp!=4.0.0a0,!=4.0.0a1->s3fs) (2.1.0)\n",
      "Requirement already satisfied: pyparsing>=2.1.6 in /usr/local/lib/python3.9/dist-packages (from snuggs>=1.4.1->rasterio) (3.0.9)\n",
      "Requirement already satisfied: idna<4,>=2.5 in /usr/lib/python3/dist-packages (from requests->torchdata) (2.8)\n",
      "Requirement already satisfied: jmespath<2.0.0,>=0.7.1 in /usr/lib/python3/dist-packages (from botocore<1.27.60,>=1.27.59->aiobotocore~=2.4.0->s3fs) (0.9.4)\n",
      "Requirement already satisfied: python-dateutil<3.0.0,>=2.1 in /usr/local/lib/python3.9/dist-packages (from botocore<1.27.60,>=1.27.59->aiobotocore~=2.4.0->s3fs) (2.8.2)\n",
      "Requirement already satisfied: six>=1.5 in /usr/lib/python3/dist-packages (from python-dateutil<3.0.0,>=2.1->botocore<1.27.60,>=1.27.59->aiobotocore~=2.4.0->s3fs) (1.14.0)\n",
      "Installing collected packages: affine, snuggs, portalocker, nvidia-cuda-runtime-cu11, nvidia-cuda-nvrtc-cu11, nvidia-cublas-cu11, fsspec, cligj, click-plugins, aioitertools, rasterio, nvidia-cudnn-cu11, botocore, torch, aiobotocore, torchdata, s3fs\n",
      "  Attempting uninstall: fsspec\n",
      "    Found existing installation: fsspec 2022.5.0\n",
      "    Uninstalling fsspec-2022.5.0:\n",
      "      Successfully uninstalled fsspec-2022.5.0\n",
      "  Attempting uninstall: botocore\n",
      "    Found existing installation: botocore 1.27.27\n",
      "    Uninstalling botocore-1.27.27:\n",
      "      Successfully uninstalled botocore-1.27.27\n",
      "  Attempting uninstall: torch\n",
      "    Found existing installation: torch 1.12.0+cu116\n",
      "    Uninstalling torch-1.12.0+cu116:\n",
      "      Successfully uninstalled torch-1.12.0+cu116\n",
      "\u001b[31mERROR: pip's dependency resolver does not currently take into account all the packages that are installed. This behaviour is the source of the following dependency conflicts.\n",
      "torchvision 0.13.0+cu116 requires torch==1.12.0, but you have torch 1.13.0 which is incompatible.\n",
      "torchaudio 0.12.0+cu116 requires torch==1.12.0, but you have torch 1.13.0 which is incompatible.\u001b[0m\u001b[31m\n",
      "\u001b[0mSuccessfully installed affine-2.3.1 aiobotocore-2.4.1 aioitertools-0.11.0 botocore-1.27.59 click-plugins-1.1.1 cligj-0.7.2 fsspec-2022.11.0 nvidia-cublas-cu11-11.10.3.66 nvidia-cuda-nvrtc-cu11-11.7.99 nvidia-cuda-runtime-cu11-11.7.99 nvidia-cudnn-cu11-8.5.0.96 portalocker-2.6.0 rasterio-1.3.4 s3fs-2022.11.0 snuggs-1.4.7 torch-1.13.0 torchdata-0.5.0\n",
      "\u001b[33mWARNING: Running pip as the 'root' user can result in broken permissions and conflicting behaviour with the system package manager. It is recommended to use a virtual environment instead: https://pip.pypa.io/warnings/venv\u001b[0m\u001b[33m\n",
      "\u001b[0mRequirement already satisfied: torchvision in /usr/local/lib/python3.9/dist-packages (0.13.0+cu116)\n",
      "Collecting torchvision\n",
      "  Downloading torchvision-0.14.0-cp39-cp39-manylinux1_x86_64.whl (24.3 MB)\n",
      "\u001b[2K     \u001b[90m━━━━━━━━━━━━━━━━━━━━━━━━━━━━━━━━━━━━━━━━\u001b[0m \u001b[32m24.3/24.3 MB\u001b[0m \u001b[31m28.3 MB/s\u001b[0m eta \u001b[36m0:00:00\u001b[0m00:01\u001b[0m00:01\u001b[0m\n",
      "\u001b[?25hRequirement already satisfied: torchaudio in /usr/local/lib/python3.9/dist-packages (0.12.0+cu116)\n",
      "Collecting torchaudio\n",
      "  Downloading torchaudio-0.13.0-cp39-cp39-manylinux1_x86_64.whl (4.2 MB)\n",
      "\u001b[2K     \u001b[90m━━━━━━━━━━━━━━━━━━━━━━━━━━━━━━━━━━━━━━━━\u001b[0m \u001b[32m4.2/4.2 MB\u001b[0m \u001b[31m38.5 MB/s\u001b[0m eta \u001b[36m0:00:00\u001b[0m00:01\u001b[0m00:01\u001b[0m\n",
      "\u001b[?25hRequirement already satisfied: numpy in /usr/local/lib/python3.9/dist-packages (from torchvision) (1.23.1)\n",
      "Requirement already satisfied: pillow!=8.3.*,>=5.3.0 in /usr/local/lib/python3.9/dist-packages (from torchvision) (9.2.0)\n",
      "Requirement already satisfied: torch==1.13.0 in /usr/local/lib/python3.9/dist-packages (from torchvision) (1.13.0)\n",
      "Requirement already satisfied: typing-extensions in /usr/local/lib/python3.9/dist-packages (from torchvision) (4.3.0)\n",
      "Requirement already satisfied: requests in /usr/local/lib/python3.9/dist-packages (from torchvision) (2.28.1)\n",
      "Requirement already satisfied: nvidia-cudnn-cu11==8.5.0.96 in /usr/local/lib/python3.9/dist-packages (from torch==1.13.0->torchvision) (8.5.0.96)\n",
      "Requirement already satisfied: nvidia-cuda-runtime-cu11==11.7.99 in /usr/local/lib/python3.9/dist-packages (from torch==1.13.0->torchvision) (11.7.99)\n",
      "Requirement already satisfied: nvidia-cuda-nvrtc-cu11==11.7.99 in /usr/local/lib/python3.9/dist-packages (from torch==1.13.0->torchvision) (11.7.99)\n",
      "Requirement already satisfied: nvidia-cublas-cu11==11.10.3.66 in /usr/local/lib/python3.9/dist-packages (from torch==1.13.0->torchvision) (11.10.3.66)\n",
      "Requirement already satisfied: setuptools in /usr/local/lib/python3.9/dist-packages (from nvidia-cublas-cu11==11.10.3.66->torch==1.13.0->torchvision) (63.1.0)\n",
      "Requirement already satisfied: wheel in /usr/local/lib/python3.9/dist-packages (from nvidia-cublas-cu11==11.10.3.66->torch==1.13.0->torchvision) (0.35.1)\n",
      "Requirement already satisfied: charset-normalizer<3,>=2 in /usr/local/lib/python3.9/dist-packages (from requests->torchvision) (2.1.0)\n",
      "Requirement already satisfied: certifi>=2017.4.17 in /usr/lib/python3/dist-packages (from requests->torchvision) (2019.11.28)\n",
      "Requirement already satisfied: idna<4,>=2.5 in /usr/lib/python3/dist-packages (from requests->torchvision) (2.8)\n",
      "Requirement already satisfied: urllib3<1.27,>=1.21.1 in /usr/local/lib/python3.9/dist-packages (from requests->torchvision) (1.26.10)\n",
      "Installing collected packages: torchvision, torchaudio\n",
      "  Attempting uninstall: torchvision\n",
      "    Found existing installation: torchvision 0.13.0+cu116\n",
      "    Uninstalling torchvision-0.13.0+cu116:\n",
      "      Successfully uninstalled torchvision-0.13.0+cu116\n",
      "  Attempting uninstall: torchaudio\n",
      "    Found existing installation: torchaudio 0.12.0+cu116\n",
      "    Uninstalling torchaudio-0.12.0+cu116:\n",
      "      Successfully uninstalled torchaudio-0.12.0+cu116\n",
      "Successfully installed torchaudio-0.13.0 torchvision-0.14.0\n",
      "\u001b[33mWARNING: Running pip as the 'root' user can result in broken permissions and conflicting behaviour with the system package manager. It is recommended to use a virtual environment instead: https://pip.pypa.io/warnings/venv\u001b[0m\u001b[33m\n",
      "\u001b[0m"
     ]
    }
   ],
   "source": [
    "# Install packages -- uncomment if needed for first time setup\n",
    "!pip install --upgrade torchdata fsspec s3fs rasterio\n",
    "!pip install --upgrade torchvision torchaudio"
   ]
  },
  {
   "cell_type": "code",
   "execution_count": 2,
   "id": "e7bfd6fb-2c0c-48d1-88ec-fc7ed9697ccb",
   "metadata": {},
   "outputs": [],
   "source": [
    "# Imports\n",
    "\n",
    "from pathlib import Path\n",
    "import time\n",
    "import warnings\n",
    "\n",
    "import numpy as np\n",
    "import rasterio\n",
    "import s3fs\n",
    "import torch\n",
    "from torch import Tensor\n",
    "import torchdata.datapipes.iter as pipes\n",
    "from torchdata.datapipes.iter import IterableWrapper"
   ]
  },
  {
   "cell_type": "code",
   "execution_count": 3,
   "id": "1e238ede-087c-4a57-b963-8378ef6c906f",
   "metadata": {},
   "outputs": [],
   "source": [
    "from torch.utils.data import DataLoader"
   ]
  },
  {
   "cell_type": "code",
   "execution_count": 4,
   "id": "96bef2c0-14d2-497d-8543-cdd9c82ba040",
   "metadata": {},
   "outputs": [],
   "source": [
    "warnings.filterwarnings(\"ignore\", category=rasterio.errors.NotGeoreferencedWarning)"
   ]
  },
  {
   "cell_type": "code",
   "execution_count": 21,
   "id": "8235b25c-6f10-436c-86c9-b614a9117445",
   "metadata": {},
   "outputs": [],
   "source": [
    "# Setup folder locations\n",
    "# The public S3 bucket is mounted as a data source\n",
    "# for the current notebook instance\n",
    "S3_DATA_SOURCE = Path(\"/datasets/biomassters\")\n",
    "train_features_dir = S3_DATA_SOURCE / \"train_features/\"\n",
    "train_agbm_dir = S3_DATA_SOURCE / \"train_agbm/\"\n",
    "test_features_dir = S3_DATA_SOURCE / \"test_features/\""
   ]
  },
  {
   "cell_type": "code",
   "execution_count": 22,
   "id": "84169c02-ce8a-4f3f-95f2-112874be0e6c",
   "metadata": {},
   "outputs": [
    {
     "name": "stdout",
     "output_type": "stream",
     "text": [
      "/datasets/biomassters/train_features\n",
      "/datasets/biomassters/train_agbm\n"
     ]
    }
   ],
   "source": [
    "# Sanity check\n",
    "print(train_features_dir)\n",
    "print(train_agbm_dir)"
   ]
  },
  {
   "cell_type": "markdown",
   "id": "5be477b2-cc21-4c3c-b137-dde420414301",
   "metadata": {},
   "source": [
    "## Utilities"
   ]
  },
  {
   "cell_type": "code",
   "execution_count": 23,
   "id": "fa235708-bafa-48d2-9f60-8805429c8221",
   "metadata": {},
   "outputs": [],
   "source": [
    "# Test code for using Path object to parse out information\n",
    "def parse_filename(filename):\n",
    "    filename = Path(filename)\n",
    "    parsed_filename = {\n",
    "        \"Name\": filename.name,\n",
    "        \"Stem\": filename.stem,\n",
    "        \"Suffix\": filename.suffix,\n",
    "        \"Chip ID\": filename.stem.split('_')[0]\n",
    "    }\n",
    "    \n",
    "    return parsed_filename"
   ]
  },
  {
   "cell_type": "code",
   "execution_count": 24,
   "id": "45d26bae-b16c-4f69-b84a-5fa999e8217e",
   "metadata": {},
   "outputs": [
    {
     "name": "stdout",
     "output_type": "stream",
     "text": [
      "{'Name': '0003d2eb_S1_00.tif', 'Stem': '0003d2eb_S1_00', 'Suffix': '.tif', 'Chip ID': '0003d2eb'}\n"
     ]
    }
   ],
   "source": [
    "# Check parse_filename\n",
    "filename = \"/datasets/biomassters/train_features/0003d2eb_S1_00.tif\"\n",
    "parsed_filename = parse_filename(filename)\n",
    "print(parsed_filename)"
   ]
  },
  {
   "cell_type": "code",
   "execution_count": 25,
   "id": "590161e0-b61f-4cd2-9b42-88416cceb4f3",
   "metadata": {},
   "outputs": [],
   "source": [
    "# Function to filter filenames based on pre-determined satellite and month\n",
    "def filter_img(filename, satellite='S2', month='07'):\n",
    "    file_path = Path(filename)\n",
    "    chip_id = file_path.stem.split(\"_\")[0]\n",
    "    \n",
    "    filter_img = f\"{chip_id}_{satellite}_{month}.tif\"\n",
    "    return file_path.name == filter_img"
   ]
  },
  {
   "cell_type": "code",
   "execution_count": 26,
   "id": "96d144f1-d90e-4ad9-b37c-db0368adcf0d",
   "metadata": {},
   "outputs": [
    {
     "name": "stdout",
     "output_type": "stream",
     "text": [
      "False\n",
      "True\n"
     ]
    }
   ],
   "source": [
    "# Check filter_img\n",
    "filename = Path(\"/datasets/biomassters/train_features/0003d2eb_S1_00.tif\")\n",
    "print(filter_img(filename))\n",
    "filename = Path(\"/datasets/biomassters/train_features/0003d2eb_S2_07.tif\")\n",
    "print(filter_img(filename))"
   ]
  },
  {
   "cell_type": "code",
   "execution_count": 27,
   "id": "22d14919-d4a2-439e-8f38-ddf5ea2f1799",
   "metadata": {},
   "outputs": [],
   "source": [
    "def load_raster(filename: str) -> Tensor:\n",
    "    with rasterio.open(filename) as f:\n",
    "        array = f.read()\n",
    "        if array.dtype == np.uint16:\n",
    "            array = array.astype(np.int32)\n",
    "        return filename, torch.from_numpy(array)"
   ]
  },
  {
   "cell_type": "code",
   "execution_count": 28,
   "id": "ca2a9bdd-b96e-4300-be1e-13914a5c39bc",
   "metadata": {},
   "outputs": [
    {
     "name": "stdout",
     "output_type": "stream",
     "text": [
      "File: /datasets/biomassters/train_features/0003d2eb_S2_07.tif Data Shape: torch.Size([11, 256, 256])Read Time: 19.369688510894775\n"
     ]
    }
   ],
   "source": [
    "# Check load_raster\n",
    "filename = \"/datasets/biomassters/train_features/0003d2eb_S2_07.tif\"\n",
    "start = time.time()\n",
    "file_url, tensor_data = load_raster(filename)\n",
    "end = time.time()\n",
    "print(f\"File: {file_url} Data Shape: {tensor_data.shape}\"\n",
    "      f\"Read Time: {end - start}\")"
   ]
  },
  {
   "cell_type": "markdown",
   "id": "27dcedf1-98b3-4fab-aa73-9a3475a21b35",
   "metadata": {
    "tags": []
   },
   "source": [
    "## Datapipes"
   ]
  },
  {
   "cell_type": "code",
   "execution_count": 29,
   "id": "968a594f-09ca-4a83-b3e4-1223ad65b5a5",
   "metadata": {
    "tags": []
   },
   "outputs": [],
   "source": [
    "features_dp = IterableWrapper([train_features_dir]).list_files()\n",
    "features_dp = features_dp.filter(filter_fn=filter_img)"
   ]
  },
  {
   "cell_type": "raw",
   "id": "f7f3dd92-4723-4a0d-b495-fc30f48d3435",
   "metadata": {},
   "source": [
    "# Sanity check\n",
    "feat_url = next(iter(features_dp))\n",
    "print(feat_url)"
   ]
  },
  {
   "cell_type": "code",
   "execution_count": 30,
   "id": "4047f05e-7442-4685-98ac-bc378053dcfd",
   "metadata": {},
   "outputs": [],
   "source": [
    "features_dp = features_dp.map(load_raster)"
   ]
  },
  {
   "cell_type": "code",
   "execution_count": 45,
   "id": "7ef1583d-a9f2-4239-ae26-3293b05d5c2e",
   "metadata": {
    "tags": []
   },
   "outputs": [
    {
     "name": "stdout",
     "output_type": "stream",
     "text": [
      "Total time: 18.809818506240845\n"
     ]
    }
   ],
   "source": [
    "start = time.time()\n",
    "feat_batch = next(iter(features_dp))\n",
    "end = time.time()\n",
    "print(f\"Total time: {end - start}\")"
   ]
  },
  {
   "cell_type": "raw",
   "id": "5a43d31f-79e8-42a6-ad76-dc7cd20ea566",
   "metadata": {},
   "source": [
    "for feat_url, feat_data in feat_batch:\n",
    "    print(feat_url)\n",
    "    print(feat_data.shape)"
   ]
  },
  {
   "cell_type": "code",
   "execution_count": 31,
   "id": "0d6814fc-b6aa-4300-b6b9-1a5de1949430",
   "metadata": {},
   "outputs": [],
   "source": [
    "agbm_dp = IterableWrapper([train_agbm_dir])\n",
    "agbm_dp = agbm_dp.list_files()"
   ]
  },
  {
   "cell_type": "raw",
   "id": "651f1a0f-85d0-4893-a3e7-45d2a9ec0753",
   "metadata": {},
   "source": [
    "# sanity check -- skip\n",
    "agbm_url = next(iter(agbm_dp))\n",
    "print(agbm_url)"
   ]
  },
  {
   "cell_type": "raw",
   "id": "eb919df9-a867-48c1-a13c-5e6bfc3f8289",
   "metadata": {},
   "source": [
    "agbm_url, agbm_data = load_raster(agbm_url)\n",
    "print(agbm_url)\n",
    "print(agbm_data.shape)"
   ]
  },
  {
   "cell_type": "code",
   "execution_count": 32,
   "id": "b243f8c2-82c4-4d4e-9b66-1472160e6ff8",
   "metadata": {},
   "outputs": [],
   "source": [
    "agbm_dp = agbm_dp.map(load_raster)"
   ]
  },
  {
   "cell_type": "code",
   "execution_count": 35,
   "id": "b3bf2701-90fd-4330-a048-57903f698ce7",
   "metadata": {
    "tags": []
   },
   "outputs": [
    {
     "name": "stdout",
     "output_type": "stream",
     "text": [
      "Total time: 2.0122971534729004\n"
     ]
    }
   ],
   "source": [
    "start = time.time()\n",
    "batch = next(iter(agbm_dp))\n",
    "end = time.time()\n",
    "print(f\"Total time: {end - start}\")"
   ]
  },
  {
   "cell_type": "code",
   "execution_count": 44,
   "id": "cff906c9-13fa-4fcf-8c29-34a9c20fb6b7",
   "metadata": {},
   "outputs": [
    {
     "name": "stdout",
     "output_type": "stream",
     "text": [
      "/datasets/biomassters/train_agbm/0003d2eb_agbm.tif\n",
      "torch.Size([1, 256, 256])\n"
     ]
    }
   ],
   "source": [
    "agbm_url, agbm_data = batch\n",
    "print(agbm_url)\n",
    "print(agbm_data.shape)"
   ]
  },
  {
   "cell_type": "code",
   "execution_count": 33,
   "id": "6714a529-6c6d-489f-930b-a4723b92a7ea",
   "metadata": {},
   "outputs": [],
   "source": [
    "input_dp = features_dp.zip(agbm_dp).batch(1)"
   ]
  },
  {
   "cell_type": "code",
   "execution_count": 34,
   "id": "564e4233-6907-44d1-af00-fe9282f26fcd",
   "metadata": {
    "tags": []
   },
   "outputs": [
    {
     "name": "stderr",
     "output_type": "stream",
     "text": [
      "Exception ignored in: <generator object ZipperIterDataPipe.__iter__ at 0x7fdcc2486270>\n",
      "Traceback (most recent call last):\n",
      "  File \"/usr/local/lib/python3.9/dist-packages/torch/utils/data/datapipes/iter/combining.py\", line 546, in __iter__\n",
      "    unused += list(iterator)\n",
      "  File \"/usr/local/lib/python3.9/dist-packages/torch/utils/data/datapipes/_hook_iterator.py\", line 185, in wrap_generator\n",
      "    response = gen.send(request)\n",
      "  File \"/usr/local/lib/python3.9/dist-packages/torch/utils/data/datapipes/iter/callable.py\", line 123, in __iter__\n",
      "    yield self._apply_fn(data)\n",
      "  File \"/usr/local/lib/python3.9/dist-packages/torch/utils/data/datapipes/iter/callable.py\", line 88, in _apply_fn\n",
      "    return self.fn(data)\n",
      "  File \"/tmp/ipykernel_73/3582365464.py\", line 2, in load_raster\n",
      "  File \"/usr/local/lib/python3.9/dist-packages/rasterio/env.py\", line 444, in wrapper\n",
      "    return f(*args, **kwds)\n",
      "  File \"/usr/local/lib/python3.9/dist-packages/rasterio/__init__.py\", line 304, in open\n",
      "    dataset = DatasetReader(path, driver=driver, sharing=sharing, **kwargs)\n",
      "  File \"rasterio/_base.pyx\", line 328, in rasterio._base.DatasetBase.__init__\n",
      "  File \"rasterio/_base.pyx\", line 350, in rasterio._base.DatasetBase._set_attrs_from_dataset_handle\n",
      "  File \"rasterio/_base.pyx\", line 966, in rasterio._base.DatasetBase.meta.__get__\n",
      "  File \"rasterio/_base.pyx\", line 599, in rasterio._base.DatasetBase.nodata.__get__\n",
      "  File \"rasterio/_base.pyx\", line 580, in rasterio._base.DatasetBase.nodatavals.__get__\n",
      "  File \"rasterio/_base.pyx\", line 562, in rasterio._base.DatasetBase.get_nodatavals\n",
      "  File \"/usr/lib/python3.9/logging/__init__.py\", line 1424, in debug\n",
      "    def debug(self, msg, *args, **kwargs):\n",
      "KeyboardInterrupt: \n"
     ]
    },
    {
     "name": "stdout",
     "output_type": "stream",
     "text": [
      "Total time: 115.42922520637512\n"
     ]
    }
   ],
   "source": [
    "start = time.time()\n",
    "first_set = next(iter(input_dp))\n",
    "end = time.time()\n",
    "print(f\"Total time: {end - start}\")"
   ]
  },
  {
   "cell_type": "code",
   "execution_count": 42,
   "id": "b86c35ab-2a92-471f-bbba-4ca25e9f90cb",
   "metadata": {},
   "outputs": [],
   "source": [
    "# features_dp = features_dp.sharding_filter()\n",
    "# features_dp = features_dp.open_files_by_fsspec(mode=\"rb\")\n",
    "\n",
    "# Note: Here also, using S3 specific function results in an error\n",
    "# TypeError: s3_read(): incompatible function arguments. The following argument types are supported:\n",
    "#    1. (self: torchdata._torchdata.S3Handler, arg0: str) -> bytes\n",
    "\n",
    "# Invoked with: <torchdata._torchdata.S3Handler object at 0x7fb30498f030>, ('s3://drivendata-competition-biomassters-public-us/train_features/0003d2eb_S1_00.tif', StreamWrapper<<File-like object S3FileSystem, drivendata-competition-biomassters-public-us/train_features/0003d2eb_S1_00.tif>>)\n",
    "# This exception is thrown by __iter__ of S3FileLoaderIterDataPipe(source_datapipe=ShardingFilterIterDataPipe)\n",
    "\n",
    "# features_dp = features_dp.load_files_by_s3()"
   ]
  },
  {
   "cell_type": "markdown",
   "id": "7c4f7442-6a0d-4616-a62d-b93e2dc3a720",
   "metadata": {},
   "source": [
    "### Using `rasterio` instead of `PIL`\n",
    "\n",
    "Using `PIL` for image reading and displaying doesn't work as it doesn't support TIFF format well (limited rather).\n",
    "\n",
    "Instead I will use `rasterio` library for reading tif data. [Rasterio](https://rasterio.readthedocs.io/en/latest/index.html) is a package build specifically for Geospatial data."
   ]
  },
  {
   "cell_type": "code",
   "execution_count": 43,
   "id": "79d75950-8d22-469a-8719-489748e58438",
   "metadata": {},
   "outputs": [],
   "source": [
    "from rasterio import MemoryFile"
   ]
  },
  {
   "cell_type": "code",
   "execution_count": 44,
   "id": "e82e61f6-cabd-46db-93cd-41b8ff1cea71",
   "metadata": {},
   "outputs": [],
   "source": [
    "def read_to_array(data):\n",
    "    url, file_obj = data\n",
    "    raw_bytes = file_obj.read()\n",
    "    \n",
    "    with MemoryFile(raw_bytes) as memfile:\n",
    "        try:\n",
    "            with memfile.open() as dataset:\n",
    "                raw_bytes = dataset.read(list(range(1, dataset.count+1)))\n",
    "        except rasterio.errors.NotGeoreferencedWarning:\n",
    "            pass\n",
    "        return (url, raw_bytes)"
   ]
  },
  {
   "cell_type": "code",
   "execution_count": 45,
   "id": "abf78b7a-01ab-40c7-a7ad-10292a4e0d6a",
   "metadata": {},
   "outputs": [],
   "source": [
    "# feat_it = next(iter(features_dp))\n",
    "# feat_url, feat_data = read_to_array(feat_it)\n",
    "# print(feat_url)\n",
    "# print(feat_data.shape)"
   ]
  },
  {
   "cell_type": "code",
   "execution_count": 49,
   "id": "4abd92b1-a3a3-4569-915e-1b5563ac98b0",
   "metadata": {},
   "outputs": [],
   "source": [
    "# agbm_dp = agbm_dp.sharding_filter()\n",
    "agbm_dp = agbm_dp.open_files_by_fsspec(mode=\"rb\")"
   ]
  },
  {
   "cell_type": "code",
   "execution_count": 50,
   "id": "d1dcbbac-1a9e-4f1b-ba56-3e01e9497400",
   "metadata": {},
   "outputs": [],
   "source": [
    "# agbm_it = next(iter(agbm_dp))\n",
    "# agbm_url, agbm_data = read_to_array(agbm_it)\n",
    "# print(agbm_url)\n",
    "# print(agbm_data.shape)"
   ]
  },
  {
   "cell_type": "code",
   "execution_count": 46,
   "id": "1c4b7e77-f83f-4285-a18b-72723d98e9a0",
   "metadata": {},
   "outputs": [],
   "source": [
    "# features_dp = features_dp.map(read_to_array)\n",
    "# agbm_dp = agbm_dp.map(read_to_array)"
   ]
  },
  {
   "cell_type": "code",
   "execution_count": 23,
   "id": "e50d8cb7-7611-4fcc-ba7f-0a698ce0043b",
   "metadata": {},
   "outputs": [],
   "source": [
    "dl = DataLoader(dataset=input_dp, batch_size=5, num_workers=2)"
   ]
  },
  {
   "cell_type": "code",
   "execution_count": 24,
   "id": "87761632-cc18-4c45-9dd2-4f4c758bb16a",
   "metadata": {},
   "outputs": [],
   "source": [
    "# THIS STEP TAKES A REALLY LONG TIME!!! DOESN'T SEEM RIGHT...\n",
    "# first_batch = next(iter(dl))"
   ]
  },
  {
   "cell_type": "code",
   "execution_count": 48,
   "id": "38e1a1e3-1af4-4339-88dd-ab95190ddd3c",
   "metadata": {},
   "outputs": [],
   "source": [
    "import s3fs"
   ]
  },
  {
   "cell_type": "code",
   "execution_count": 49,
   "id": "467f7ac2-e4e4-4348-af47-9c438027bfc6",
   "metadata": {},
   "outputs": [
    {
     "data": {
      "text/plain": [
       "['drivendata-competition-biomassters-public-us/features_metadata.csv',\n",
       " 'drivendata-competition-biomassters-public-us/test_features',\n",
       " 'drivendata-competition-biomassters-public-us/train_agbm',\n",
       " 'drivendata-competition-biomassters-public-us/train_agbm_metadata.csv',\n",
       " 'drivendata-competition-biomassters-public-us/train_features']"
      ]
     },
     "execution_count": 49,
     "metadata": {},
     "output_type": "execute_result"
    }
   ],
   "source": [
    "fs = s3fs.S3FileSystem(anon=True)\n",
    "fs.ls(S3_URL)"
   ]
  },
  {
   "cell_type": "code",
   "execution_count": 50,
   "id": "ab82f3c7-b8e2-45b3-9c6c-36ddf4e4ef31",
   "metadata": {},
   "outputs": [],
   "source": [
    "fs."
   ]
  },
  {
   "cell_type": "code",
   "execution_count": 27,
   "id": "a4c9a580-9e0b-4532-8dd3-f4d57a055953",
   "metadata": {},
   "outputs": [],
   "source": [
    "feat_images = fs.ls(train_features_s3)"
   ]
  },
  {
   "cell_type": "code",
   "execution_count": 28,
   "id": "f07c3d2a-062a-4d18-a9b8-aeae85a1cb03",
   "metadata": {},
   "outputs": [
    {
     "data": {
      "text/plain": [
       "189078"
      ]
     },
     "execution_count": 28,
     "metadata": {},
     "output_type": "execute_result"
    }
   ],
   "source": [
    "len(feat_images)"
   ]
  },
  {
   "cell_type": "code",
   "execution_count": 29,
   "id": "1870588a-5b8f-404d-a398-904a33b98887",
   "metadata": {
    "collapsed": true,
    "jupyter": {
     "outputs_hidden": true
    },
    "tags": []
   },
   "outputs": [
    {
     "data": {
      "text/plain": [
       "['drivendata-competition-biomassters-public-us/train_features/0003d2eb_S1_00.tif',\n",
       " 'drivendata-competition-biomassters-public-us/train_features/0003d2eb_S1_01.tif',\n",
       " 'drivendata-competition-biomassters-public-us/train_features/0003d2eb_S1_02.tif',\n",
       " 'drivendata-competition-biomassters-public-us/train_features/0003d2eb_S1_03.tif',\n",
       " 'drivendata-competition-biomassters-public-us/train_features/0003d2eb_S1_04.tif',\n",
       " 'drivendata-competition-biomassters-public-us/train_features/0003d2eb_S1_05.tif',\n",
       " 'drivendata-competition-biomassters-public-us/train_features/0003d2eb_S1_06.tif',\n",
       " 'drivendata-competition-biomassters-public-us/train_features/0003d2eb_S1_07.tif',\n",
       " 'drivendata-competition-biomassters-public-us/train_features/0003d2eb_S1_08.tif',\n",
       " 'drivendata-competition-biomassters-public-us/train_features/0003d2eb_S1_09.tif',\n",
       " 'drivendata-competition-biomassters-public-us/train_features/0003d2eb_S1_10.tif',\n",
       " 'drivendata-competition-biomassters-public-us/train_features/0003d2eb_S1_11.tif',\n",
       " 'drivendata-competition-biomassters-public-us/train_features/0003d2eb_S2_00.tif',\n",
       " 'drivendata-competition-biomassters-public-us/train_features/0003d2eb_S2_01.tif',\n",
       " 'drivendata-competition-biomassters-public-us/train_features/0003d2eb_S2_05.tif',\n",
       " 'drivendata-competition-biomassters-public-us/train_features/0003d2eb_S2_06.tif',\n",
       " 'drivendata-competition-biomassters-public-us/train_features/0003d2eb_S2_07.tif',\n",
       " 'drivendata-competition-biomassters-public-us/train_features/0003d2eb_S2_08.tif',\n",
       " 'drivendata-competition-biomassters-public-us/train_features/0003d2eb_S2_09.tif',\n",
       " 'drivendata-competition-biomassters-public-us/train_features/0003d2eb_S2_10.tif',\n",
       " 'drivendata-competition-biomassters-public-us/train_features/0003d2eb_S2_11.tif',\n",
       " 'drivendata-competition-biomassters-public-us/train_features/000aa810_S1_00.tif',\n",
       " 'drivendata-competition-biomassters-public-us/train_features/000aa810_S1_01.tif',\n",
       " 'drivendata-competition-biomassters-public-us/train_features/000aa810_S1_02.tif',\n",
       " 'drivendata-competition-biomassters-public-us/train_features/000aa810_S1_03.tif',\n",
       " 'drivendata-competition-biomassters-public-us/train_features/000aa810_S1_04.tif',\n",
       " 'drivendata-competition-biomassters-public-us/train_features/000aa810_S1_05.tif',\n",
       " 'drivendata-competition-biomassters-public-us/train_features/000aa810_S1_06.tif',\n",
       " 'drivendata-competition-biomassters-public-us/train_features/000aa810_S1_07.tif',\n",
       " 'drivendata-competition-biomassters-public-us/train_features/000aa810_S1_08.tif',\n",
       " 'drivendata-competition-biomassters-public-us/train_features/000aa810_S1_09.tif',\n",
       " 'drivendata-competition-biomassters-public-us/train_features/000aa810_S1_10.tif',\n",
       " 'drivendata-competition-biomassters-public-us/train_features/000aa810_S1_11.tif',\n",
       " 'drivendata-competition-biomassters-public-us/train_features/000aa810_S2_06.tif',\n",
       " 'drivendata-competition-biomassters-public-us/train_features/000aa810_S2_07.tif',\n",
       " 'drivendata-competition-biomassters-public-us/train_features/000aa810_S2_08.tif',\n",
       " 'drivendata-competition-biomassters-public-us/train_features/000aa810_S2_09.tif',\n",
       " 'drivendata-competition-biomassters-public-us/train_features/000aa810_S2_10.tif',\n",
       " 'drivendata-competition-biomassters-public-us/train_features/000aa810_S2_11.tif',\n",
       " 'drivendata-competition-biomassters-public-us/train_features/000d7e33_S1_00.tif',\n",
       " 'drivendata-competition-biomassters-public-us/train_features/000d7e33_S1_01.tif',\n",
       " 'drivendata-competition-biomassters-public-us/train_features/000d7e33_S1_02.tif',\n",
       " 'drivendata-competition-biomassters-public-us/train_features/000d7e33_S1_03.tif',\n",
       " 'drivendata-competition-biomassters-public-us/train_features/000d7e33_S1_04.tif',\n",
       " 'drivendata-competition-biomassters-public-us/train_features/000d7e33_S1_05.tif',\n",
       " 'drivendata-competition-biomassters-public-us/train_features/000d7e33_S1_06.tif',\n",
       " 'drivendata-competition-biomassters-public-us/train_features/000d7e33_S1_07.tif',\n",
       " 'drivendata-competition-biomassters-public-us/train_features/000d7e33_S1_08.tif',\n",
       " 'drivendata-competition-biomassters-public-us/train_features/000d7e33_S1_09.tif',\n",
       " 'drivendata-competition-biomassters-public-us/train_features/000d7e33_S1_10.tif',\n",
       " 'drivendata-competition-biomassters-public-us/train_features/000d7e33_S1_11.tif',\n",
       " 'drivendata-competition-biomassters-public-us/train_features/000d7e33_S2_06.tif',\n",
       " 'drivendata-competition-biomassters-public-us/train_features/000d7e33_S2_07.tif',\n",
       " 'drivendata-competition-biomassters-public-us/train_features/000d7e33_S2_08.tif',\n",
       " 'drivendata-competition-biomassters-public-us/train_features/000d7e33_S2_09.tif',\n",
       " 'drivendata-competition-biomassters-public-us/train_features/000d7e33_S2_10.tif',\n",
       " 'drivendata-competition-biomassters-public-us/train_features/000d7e33_S2_11.tif',\n",
       " 'drivendata-competition-biomassters-public-us/train_features/00184691_S1_00.tif',\n",
       " 'drivendata-competition-biomassters-public-us/train_features/00184691_S1_01.tif',\n",
       " 'drivendata-competition-biomassters-public-us/train_features/00184691_S1_02.tif',\n",
       " 'drivendata-competition-biomassters-public-us/train_features/00184691_S1_03.tif',\n",
       " 'drivendata-competition-biomassters-public-us/train_features/00184691_S1_04.tif',\n",
       " 'drivendata-competition-biomassters-public-us/train_features/00184691_S1_05.tif',\n",
       " 'drivendata-competition-biomassters-public-us/train_features/00184691_S1_06.tif',\n",
       " 'drivendata-competition-biomassters-public-us/train_features/00184691_S1_07.tif',\n",
       " 'drivendata-competition-biomassters-public-us/train_features/00184691_S1_08.tif',\n",
       " 'drivendata-competition-biomassters-public-us/train_features/00184691_S1_09.tif',\n",
       " 'drivendata-competition-biomassters-public-us/train_features/00184691_S1_10.tif',\n",
       " 'drivendata-competition-biomassters-public-us/train_features/00184691_S1_11.tif',\n",
       " 'drivendata-competition-biomassters-public-us/train_features/00184691_S2_06.tif',\n",
       " 'drivendata-competition-biomassters-public-us/train_features/00184691_S2_07.tif',\n",
       " 'drivendata-competition-biomassters-public-us/train_features/00184691_S2_08.tif',\n",
       " 'drivendata-competition-biomassters-public-us/train_features/00184691_S2_09.tif',\n",
       " 'drivendata-competition-biomassters-public-us/train_features/00184691_S2_10.tif',\n",
       " 'drivendata-competition-biomassters-public-us/train_features/00184691_S2_11.tif',\n",
       " 'drivendata-competition-biomassters-public-us/train_features/001b0634_S1_00.tif',\n",
       " 'drivendata-competition-biomassters-public-us/train_features/001b0634_S1_01.tif',\n",
       " 'drivendata-competition-biomassters-public-us/train_features/001b0634_S1_02.tif',\n",
       " 'drivendata-competition-biomassters-public-us/train_features/001b0634_S1_03.tif',\n",
       " 'drivendata-competition-biomassters-public-us/train_features/001b0634_S1_04.tif',\n",
       " 'drivendata-competition-biomassters-public-us/train_features/001b0634_S1_05.tif',\n",
       " 'drivendata-competition-biomassters-public-us/train_features/001b0634_S1_06.tif',\n",
       " 'drivendata-competition-biomassters-public-us/train_features/001b0634_S1_07.tif',\n",
       " 'drivendata-competition-biomassters-public-us/train_features/001b0634_S1_08.tif',\n",
       " 'drivendata-competition-biomassters-public-us/train_features/001b0634_S1_09.tif',\n",
       " 'drivendata-competition-biomassters-public-us/train_features/001b0634_S1_10.tif',\n",
       " 'drivendata-competition-biomassters-public-us/train_features/001b0634_S1_11.tif',\n",
       " 'drivendata-competition-biomassters-public-us/train_features/001b0634_S2_00.tif',\n",
       " 'drivendata-competition-biomassters-public-us/train_features/001b0634_S2_01.tif',\n",
       " 'drivendata-competition-biomassters-public-us/train_features/001b0634_S2_02.tif',\n",
       " 'drivendata-competition-biomassters-public-us/train_features/001b0634_S2_04.tif',\n",
       " 'drivendata-competition-biomassters-public-us/train_features/001b0634_S2_05.tif',\n",
       " 'drivendata-competition-biomassters-public-us/train_features/001b0634_S2_06.tif',\n",
       " 'drivendata-competition-biomassters-public-us/train_features/001b0634_S2_07.tif',\n",
       " 'drivendata-competition-biomassters-public-us/train_features/001b0634_S2_08.tif',\n",
       " 'drivendata-competition-biomassters-public-us/train_features/001b0634_S2_09.tif',\n",
       " 'drivendata-competition-biomassters-public-us/train_features/001b0634_S2_10.tif',\n",
       " 'drivendata-competition-biomassters-public-us/train_features/001b0634_S2_11.tif',\n",
       " 'drivendata-competition-biomassters-public-us/train_features/001eb75a_S1_00.tif',\n",
       " 'drivendata-competition-biomassters-public-us/train_features/001eb75a_S1_01.tif']"
      ]
     },
     "execution_count": 29,
     "metadata": {},
     "output_type": "execute_result"
    }
   ],
   "source": [
    "feat_images[:100]"
   ]
  }
 ],
 "metadata": {
  "kernelspec": {
   "display_name": "Python 3 (ipykernel)",
   "language": "python",
   "name": "python3"
  },
  "language_info": {
   "codemirror_mode": {
    "name": "ipython",
    "version": 3
   },
   "file_extension": ".py",
   "mimetype": "text/x-python",
   "name": "python",
   "nbconvert_exporter": "python",
   "pygments_lexer": "ipython3",
   "version": "3.9.13"
  }
 },
 "nbformat": 4,
 "nbformat_minor": 5
}
