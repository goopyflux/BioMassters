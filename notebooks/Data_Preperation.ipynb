{
 "cells": [
  {
   "cell_type": "markdown",
   "id": "561b43bb-9a6e-4456-bff8-84bb33a5d8ea",
   "metadata": {},
   "source": [
    "# Data Preperation"
   ]
  },
  {
   "cell_type": "markdown",
   "id": "4099bd8e-8d41-4f9f-9fd3-6c1675b6bdaa",
   "metadata": {},
   "source": [
    "The file `features_metadata.csv` contains both the training and the testing samples. So, one thing to do is to split the file into two or create a custom `dataset` class for iterating through the data and handling the trainig and testing splits.\n",
    "\n",
    "Each input image, regardless of it being a train or test set, have an associated entry in the column `corresponding_agbm` column, which contains the target output for that sample. Even though testing samples have an entry for `corresponding_agbm` column, they are not available."
   ]
  },
  {
   "cell_type": "code",
   "execution_count": null,
   "id": "a898ad64-ca95-477e-8cf6-fb0a90f0add4",
   "metadata": {},
   "outputs": [],
   "source": []
  }
 ],
 "metadata": {
  "kernelspec": {
   "display_name": "Python 3 (ipykernel)",
   "language": "python",
   "name": "python3"
  },
  "language_info": {
   "codemirror_mode": {
    "name": "ipython",
    "version": 3
   },
   "file_extension": ".py",
   "mimetype": "text/x-python",
   "name": "python",
   "nbconvert_exporter": "python",
   "pygments_lexer": "ipython3",
   "version": "3.9.13"
  }
 },
 "nbformat": 4,
 "nbformat_minor": 5
}
