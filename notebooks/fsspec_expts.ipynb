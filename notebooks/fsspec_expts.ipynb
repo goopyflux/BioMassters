{
 "cells": [
  {
   "cell_type": "markdown",
   "id": "9b2a83d2-09c1-47e7-a0cb-eb49e2904088",
   "metadata": {},
   "source": [
    "# Experiments with `fsspec`"
   ]
  },
  {
   "cell_type": "code",
   "execution_count": 2,
   "id": "73ab5f02-7d6c-4a6f-8610-d1c9d0c757c0",
   "metadata": {},
   "outputs": [],
   "source": [
    "import fsspec"
   ]
  },
  {
   "cell_type": "code",
   "execution_count": 3,
   "id": "d26dcb86-1cac-416c-bd8a-a76e6f987df8",
   "metadata": {},
   "outputs": [],
   "source": [
    "# Setup S3 URLs and folder locations within the S3 bucket\n",
    "S3_URL = \"s3://drivendata-competition-biomassters-public-us\"\n",
    "train_features_s3 = S3_URL + \"/train_features/\"\n",
    "train_agbm_s3 = S3_URL + \"/train_agbm/\"\n",
    "test_features_s3 = S3_URL + \"/test_features/\""
   ]
  },
  {
   "cell_type": "code",
   "execution_count": 17,
   "id": "12e6879d-188f-4e9b-a022-31326be47cf6",
   "metadata": {},
   "outputs": [],
   "source": [
    "kwargs = {'anon': True}\n",
    "fs, path = fsspec.core.url_to_fs(S3_URL, **kwargs)"
   ]
  },
  {
   "cell_type": "code",
   "execution_count": 18,
   "id": "c0e5a368-c573-446b-a6c9-9f47fbe0356b",
   "metadata": {},
   "outputs": [
    {
     "data": {
      "text/plain": [
       "True"
      ]
     },
     "execution_count": 18,
     "metadata": {},
     "output_type": "execute_result"
    }
   ],
   "source": [
    "fs.isdir(path)"
   ]
  },
  {
   "cell_type": "code",
   "execution_count": 19,
   "id": "1d3fd335-dd65-4d3b-944b-ea645bdb7054",
   "metadata": {},
   "outputs": [],
   "source": [
    "files = fs.ls(path)"
   ]
  },
  {
   "cell_type": "code",
   "execution_count": 21,
   "id": "b1e46ad4-8554-423d-a1e5-51babb9c3493",
   "metadata": {},
   "outputs": [
    {
     "data": {
      "text/plain": [
       "['drivendata-competition-biomassters-public-us/features_metadata.csv',\n",
       " 'drivendata-competition-biomassters-public-us/test_features',\n",
       " 'drivendata-competition-biomassters-public-us/train_agbm',\n",
       " 'drivendata-competition-biomassters-public-us/train_agbm_metadata.csv',\n",
       " 'drivendata-competition-biomassters-public-us/train_features']"
      ]
     },
     "execution_count": 21,
     "metadata": {},
     "output_type": "execute_result"
    }
   ],
   "source": [
    "files"
   ]
  },
  {
   "cell_type": "code",
   "execution_count": 22,
   "id": "a41bbeee-7bad-4025-a8bd-19dbced438aa",
   "metadata": {},
   "outputs": [],
   "source": [
    "import time"
   ]
  },
  {
   "cell_type": "code",
   "execution_count": 23,
   "id": "2dca9130-378c-4202-9252-c9a224a922e6",
   "metadata": {},
   "outputs": [],
   "source": [
    "s1 = time.time()"
   ]
  },
  {
   "cell_type": "code",
   "execution_count": 24,
   "id": "56a58032-d1c4-46f3-a435-5380d0ad6538",
   "metadata": {},
   "outputs": [
    {
     "data": {
      "text/plain": [
       "7.624447822570801"
      ]
     },
     "execution_count": 24,
     "metadata": {},
     "output_type": "execute_result"
    }
   ],
   "source": [
    "time.time() - s1"
   ]
  }
 ],
 "metadata": {
  "kernelspec": {
   "display_name": "Python 3 (ipykernel)",
   "language": "python",
   "name": "python3"
  },
  "language_info": {
   "codemirror_mode": {
    "name": "ipython",
    "version": 3
   },
   "file_extension": ".py",
   "mimetype": "text/x-python",
   "name": "python",
   "nbconvert_exporter": "python",
   "pygments_lexer": "ipython3",
   "version": "3.9.13"
  }
 },
 "nbformat": 4,
 "nbformat_minor": 5
}
