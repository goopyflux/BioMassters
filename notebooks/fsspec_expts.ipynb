{
 "cells": [
  {
   "cell_type": "markdown",
   "id": "9b2a83d2-09c1-47e7-a0cb-eb49e2904088",
   "metadata": {},
   "source": [
    "# Experiments with `fsspec`"
   ]
  },
  {
   "cell_type": "code",
   "execution_count": 3,
   "id": "73ab5f02-7d6c-4a6f-8610-d1c9d0c757c0",
   "metadata": {},
   "outputs": [],
   "source": [
    "import os\n",
    "from pathlib import Path\n",
    "from time import time\n",
    "\n",
    "import fsspec\n",
    "import s3fs"
   ]
  },
  {
   "cell_type": "code",
   "execution_count": 7,
   "id": "ffce0208-0f5b-49e2-bb6e-1e34c35c34d7",
   "metadata": {},
   "outputs": [],
   "source": [
    "import rasterio"
   ]
  },
  {
   "cell_type": "code",
   "execution_count": 4,
   "id": "d26dcb86-1cac-416c-bd8a-a76e6f987df8",
   "metadata": {},
   "outputs": [],
   "source": [
    "# Setup S3 URLs and folder locations within the S3 bucket\n",
    "S3_URL = \"s3://drivendata-competition-biomassters-public-us\"\n",
    "train_features_s3 = S3_URL + \"/train_features/\"\n",
    "train_agbm_s3 = S3_URL + \"/train_agbm/\"\n",
    "test_features_s3 = S3_URL + \"/test_features/\""
   ]
  },
  {
   "cell_type": "code",
   "execution_count": 14,
   "id": "f2592720-5815-4555-8f19-4e1f21f259fd",
   "metadata": {},
   "outputs": [],
   "source": [
    "storage_options = {'anon': True}\n",
    "fs = s3fs.S3FileSystem(**storage_options)"
   ]
  },
  {
   "cell_type": "code",
   "execution_count": 27,
   "id": "5ca717ba-7d90-42fa-a557-fa090a7fed72",
   "metadata": {},
   "outputs": [],
   "source": [
    "# Check filter_img\n",
    "feat_filename = \"s3://drivendata-competition-biomassters-public-us/train_features/0003d2eb_S1_00.tif\"\n",
    "s2feat_filename = \"s3://drivendata-competition-biomassters-public-us/train_features/0003d2eb_S2_00.tif\"\n",
    "agbm_filename = \"s3://drivendata-competition-biomassters-public-us/train_agbm/0003d2eb_agbm.tif\""
   ]
  },
  {
   "cell_type": "code",
   "execution_count": 11,
   "id": "4811e4e3-996b-4df0-9739-5176881582e1",
   "metadata": {},
   "outputs": [
    {
     "name": "stdout",
     "output_type": "stream",
     "text": [
      "S3FS read time = 0.24098920822143555\n"
     ]
    }
   ],
   "source": [
    "start = time()\n",
    "with fs.open(feat_filename) as f:\n",
    "    raw_data = f.read()\n",
    "end = time()\n",
    "print(f\"S3FS read time = {end - start}\")"
   ]
  },
  {
   "cell_type": "code",
   "execution_count": 28,
   "id": "66761ddc-fc0f-430c-95a1-0034836be8a1",
   "metadata": {},
   "outputs": [
    {
     "name": "stdout",
     "output_type": "stream",
     "text": [
      "S3FS read time = 0.26908254623413086\n"
     ]
    }
   ],
   "source": [
    "start = time()\n",
    "with fs.open(s2feat_filename) as f:\n",
    "    s2raw_data = f.read()\n",
    "end = time()\n",
    "print(f\"S3FS read time = {end - start}\")"
   ]
  },
  {
   "cell_type": "code",
   "execution_count": 16,
   "id": "e525dbb8-a59d-4826-8176-9cfe8b3ae864",
   "metadata": {},
   "outputs": [
    {
     "name": "stdout",
     "output_type": "stream",
     "text": [
      "total files: 8689\n",
      "time: 1.7435684204101562\n"
     ]
    }
   ],
   "source": [
    "start = time()\n",
    "train_files = fs.ls(\"s3://drivendata-competition-biomassters-public-us/train_agbm\")\n",
    "end = time()\n",
    "print(f\"total files: {len(train_files)}\")\n",
    "print(f\"time: {end - start}\")"
   ]
  },
  {
   "cell_type": "code",
   "execution_count": 18,
   "id": "39090df6-d7f5-4139-b444-600f10d405f8",
   "metadata": {},
   "outputs": [
    {
     "name": "stdout",
     "output_type": "stream",
     "text": [
      "s3 read time: 0.14272499084472656\n"
     ]
    }
   ],
   "source": [
    "start = time()\n",
    "with fs.open(train_files[0]) as f:\n",
    "    agbm_data = f.read()\n",
    "end = time()\n",
    "print(f\"s3 read time: {end - start}\")"
   ]
  },
  {
   "cell_type": "code",
   "execution_count": 29,
   "id": "85db0c18-f844-47b8-8753-86b9a1913cd0",
   "metadata": {},
   "outputs": [],
   "source": [
    "from rasterio.io import MemoryFile\n",
    "\n",
    "with MemoryFile(s2raw_data) as memfile:\n",
    "    with memfile.open() as dataset:\n",
    "        data_array = dataset.read()"
   ]
  },
  {
   "cell_type": "code",
   "execution_count": 30,
   "id": "4da19279-2cc5-4e7b-b0ef-d2c2c1547106",
   "metadata": {},
   "outputs": [
    {
     "data": {
      "text/plain": [
       "(11, 256, 256)"
      ]
     },
     "execution_count": 30,
     "metadata": {},
     "output_type": "execute_result"
    }
   ],
   "source": [
    "data_array.shape"
   ]
  },
  {
   "cell_type": "code",
   "execution_count": 17,
   "id": "12e6879d-188f-4e9b-a022-31326be47cf6",
   "metadata": {},
   "outputs": [],
   "source": [
    "fs, path = fsspec.core.url_to_fs(S3_URL, **storage_options)"
   ]
  },
  {
   "cell_type": "code",
   "execution_count": 18,
   "id": "c0e5a368-c573-446b-a6c9-9f47fbe0356b",
   "metadata": {},
   "outputs": [
    {
     "data": {
      "text/plain": [
       "True"
      ]
     },
     "execution_count": 18,
     "metadata": {},
     "output_type": "execute_result"
    }
   ],
   "source": [
    "fs.isdir(path)"
   ]
  },
  {
   "cell_type": "code",
   "execution_count": 19,
   "id": "1d3fd335-dd65-4d3b-944b-ea645bdb7054",
   "metadata": {},
   "outputs": [],
   "source": [
    "files = fs.ls(path)"
   ]
  },
  {
   "cell_type": "code",
   "execution_count": 21,
   "id": "b1e46ad4-8554-423d-a1e5-51babb9c3493",
   "metadata": {},
   "outputs": [
    {
     "data": {
      "text/plain": [
       "['drivendata-competition-biomassters-public-us/features_metadata.csv',\n",
       " 'drivendata-competition-biomassters-public-us/test_features',\n",
       " 'drivendata-competition-biomassters-public-us/train_agbm',\n",
       " 'drivendata-competition-biomassters-public-us/train_agbm_metadata.csv',\n",
       " 'drivendata-competition-biomassters-public-us/train_features']"
      ]
     },
     "execution_count": 21,
     "metadata": {},
     "output_type": "execute_result"
    }
   ],
   "source": [
    "files"
   ]
  },
  {
   "cell_type": "code",
   "execution_count": 22,
   "id": "a41bbeee-7bad-4025-a8bd-19dbced438aa",
   "metadata": {},
   "outputs": [],
   "source": [
    "import time"
   ]
  },
  {
   "cell_type": "code",
   "execution_count": 23,
   "id": "2dca9130-378c-4202-9252-c9a224a922e6",
   "metadata": {},
   "outputs": [],
   "source": [
    "s1 = time.time()"
   ]
  },
  {
   "cell_type": "code",
   "execution_count": 24,
   "id": "56a58032-d1c4-46f3-a435-5380d0ad6538",
   "metadata": {},
   "outputs": [
    {
     "data": {
      "text/plain": [
       "7.624447822570801"
      ]
     },
     "execution_count": 24,
     "metadata": {},
     "output_type": "execute_result"
    }
   ],
   "source": [
    "time.time() - s1"
   ]
  }
 ],
 "metadata": {
  "kernelspec": {
   "display_name": "Python 3 (ipykernel)",
   "language": "python",
   "name": "python3"
  },
  "language_info": {
   "codemirror_mode": {
    "name": "ipython",
    "version": 3
   },
   "file_extension": ".py",
   "mimetype": "text/x-python",
   "name": "python",
   "nbconvert_exporter": "python",
   "pygments_lexer": "ipython3",
   "version": "3.9.13"
  }
 },
 "nbformat": 4,
 "nbformat_minor": 5
}
