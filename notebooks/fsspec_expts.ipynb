{
 "cells": [
  {
   "cell_type": "markdown",
   "id": "9b2a83d2-09c1-47e7-a0cb-eb49e2904088",
   "metadata": {},
   "source": [
    "# Experiments with `fsspec`"
   ]
  },
  {
   "cell_type": "raw",
   "id": "80f499b2-7531-47f6-b2e3-adb1cdcbee81",
   "metadata": {},
   "source": [
    "!pip install --upgrade fsspec s3fs"
   ]
  },
  {
   "cell_type": "raw",
   "id": "c2bd4a4f-435e-49a9-a148-37ef584fcc75",
   "metadata": {},
   "source": [
    "!pip install --upgrade rasterio"
   ]
  },
  {
   "cell_type": "code",
   "execution_count": 3,
   "id": "73ab5f02-7d6c-4a6f-8610-d1c9d0c757c0",
   "metadata": {},
   "outputs": [],
   "source": [
    "import os\n",
    "from pathlib import Path\n",
    "from time import time\n",
    "\n",
    "import fsspec\n",
    "import s3fs"
   ]
  },
  {
   "cell_type": "code",
   "execution_count": 6,
   "id": "ffce0208-0f5b-49e2-bb6e-1e34c35c34d7",
   "metadata": {},
   "outputs": [],
   "source": [
    "import rasterio"
   ]
  },
  {
   "cell_type": "markdown",
   "id": "fe4cc5c3-cde3-4f72-b40c-6e452302877a",
   "metadata": {},
   "source": [
    "## Reading with `s3fs`"
   ]
  },
  {
   "cell_type": "code",
   "execution_count": 7,
   "id": "d26dcb86-1cac-416c-bd8a-a76e6f987df8",
   "metadata": {},
   "outputs": [],
   "source": [
    "# Setup S3 URLs and folder locations within the S3 bucket\n",
    "S3_URL = \"s3://drivendata-competition-biomassters-public-us\"\n",
    "train_features_s3 = S3_URL + \"/train_features/\"\n",
    "train_agbm_s3 = S3_URL + \"/train_agbm/\"\n",
    "test_features_s3 = S3_URL + \"/test_features/\""
   ]
  },
  {
   "cell_type": "code",
   "execution_count": 8,
   "id": "f2592720-5815-4555-8f19-4e1f21f259fd",
   "metadata": {},
   "outputs": [],
   "source": [
    "storage_options = {'anon': True}\n",
    "fs = s3fs.S3FileSystem(**storage_options)"
   ]
  },
  {
   "cell_type": "code",
   "execution_count": 9,
   "id": "5ca717ba-7d90-42fa-a557-fa090a7fed72",
   "metadata": {},
   "outputs": [],
   "source": [
    "# Check filter_img\n",
    "s1feat_filename = \"s3://drivendata-competition-biomassters-public-us/train_features/0003d2eb_S1_00.tif\"\n",
    "s2feat_filename = \"s3://drivendata-competition-biomassters-public-us/train_features/0003d2eb_S2_00.tif\"\n",
    "agbm_filename = \"s3://drivendata-competition-biomassters-public-us/train_agbm/0003d2eb_agbm.tif\""
   ]
  },
  {
   "cell_type": "code",
   "execution_count": 11,
   "id": "4811e4e3-996b-4df0-9739-5176881582e1",
   "metadata": {},
   "outputs": [
    {
     "name": "stdout",
     "output_type": "stream",
     "text": [
      "S3FS read time = 0.2901594638824463\n"
     ]
    }
   ],
   "source": [
    "start = time()\n",
    "with fs.open(s1feat_filename) as f:\n",
    "    raw_data = f.read()\n",
    "end = time()\n",
    "print(f\"S3FS read time = {end - start}\")"
   ]
  },
  {
   "cell_type": "code",
   "execution_count": 12,
   "id": "66761ddc-fc0f-430c-95a1-0034836be8a1",
   "metadata": {},
   "outputs": [
    {
     "name": "stdout",
     "output_type": "stream",
     "text": [
      "S3FS read time = 0.09549403190612793\n"
     ]
    }
   ],
   "source": [
    "start = time()\n",
    "with fs.open(s2feat_filename) as f:\n",
    "    s2raw_data = f.read()\n",
    "end = time()\n",
    "print(f\"S3FS read time = {end - start}\")"
   ]
  },
  {
   "cell_type": "code",
   "execution_count": 13,
   "id": "e525dbb8-a59d-4826-8176-9cfe8b3ae864",
   "metadata": {},
   "outputs": [
    {
     "name": "stdout",
     "output_type": "stream",
     "text": [
      "total files: 8689\n",
      "time: 2.0048084259033203\n"
     ]
    }
   ],
   "source": [
    "start = time()\n",
    "train_files = fs.ls(\"s3://drivendata-competition-biomassters-public-us/train_agbm\")\n",
    "end = time()\n",
    "print(f\"total files: {len(train_files)}\")\n",
    "print(f\"time: {end - start}\")"
   ]
  },
  {
   "cell_type": "code",
   "execution_count": 14,
   "id": "39090df6-d7f5-4139-b444-600f10d405f8",
   "metadata": {},
   "outputs": [
    {
     "name": "stdout",
     "output_type": "stream",
     "text": [
      "s3 read time: 0.1815347671508789\n"
     ]
    }
   ],
   "source": [
    "start = time()\n",
    "with fs.open(train_files[0]) as f:\n",
    "    agbm_data = f.read()\n",
    "end = time()\n",
    "print(f\"s3 read time: {end - start}\")"
   ]
  },
  {
   "cell_type": "code",
   "execution_count": 15,
   "id": "85db0c18-f844-47b8-8753-86b9a1913cd0",
   "metadata": {},
   "outputs": [
    {
     "name": "stderr",
     "output_type": "stream",
     "text": [
      "/usr/local/lib/python3.9/dist-packages/rasterio/io.py:138: NotGeoreferencedWarning: Dataset has no geotransform, gcps, or rpcs. The identity matrix will be returned.\n",
      "  return DatasetReader(mempath, driver=driver, sharing=sharing, **kwargs)\n"
     ]
    }
   ],
   "source": [
    "from rasterio.io import MemoryFile\n",
    "\n",
    "with MemoryFile(s2raw_data) as memfile:\n",
    "    with memfile.open() as dataset:\n",
    "        data_array = dataset.read()"
   ]
  },
  {
   "cell_type": "code",
   "execution_count": 16,
   "id": "4da19279-2cc5-4e7b-b0ef-d2c2c1547106",
   "metadata": {},
   "outputs": [
    {
     "data": {
      "text/plain": [
       "(11, 256, 256)"
      ]
     },
     "execution_count": 16,
     "metadata": {},
     "output_type": "execute_result"
    }
   ],
   "source": [
    "data_array.shape"
   ]
  },
  {
   "cell_type": "markdown",
   "id": "38519e6c-ec23-490b-b9c7-46aea79e21ad",
   "metadata": {},
   "source": [
    "## Reading with `fsspec`"
   ]
  },
  {
   "cell_type": "code",
   "execution_count": 19,
   "id": "12e6879d-188f-4e9b-a022-31326be47cf6",
   "metadata": {},
   "outputs": [],
   "source": [
    "storage_options = {'anon': True}\n",
    "start = time()\n",
    "with fsspec.open(s1feat_filename, **storage_options).open() as f:\n",
    "    s1raw = f.read()\n",
    "    with MemoryFile(s1raw) as memfile:\n",
    "        with memfile.open() as dataset:\n",
    "            data_array = dataset.read()\n",
    "            end = time()"
   ]
  },
  {
   "cell_type": "code",
   "execution_count": 20,
   "id": "c7e08000-8046-4e47-8417-2877c9433ed4",
   "metadata": {},
   "outputs": [
    {
     "name": "stdout",
     "output_type": "stream",
     "text": [
      "read time with fsspec: 0.20982980728149414\n",
      "data shape: (4, 256, 256)\n"
     ]
    }
   ],
   "source": [
    "print(f\"read time with fsspec: {end - start}\")\n",
    "print(f\"data shape: {data_array.shape}\")"
   ]
  }
 ],
 "metadata": {
  "kernelspec": {
   "display_name": "Python 3 (ipykernel)",
   "language": "python",
   "name": "python3"
  },
  "language_info": {
   "codemirror_mode": {
    "name": "ipython",
    "version": 3
   },
   "file_extension": ".py",
   "mimetype": "text/x-python",
   "name": "python",
   "nbconvert_exporter": "python",
   "pygments_lexer": "ipython3",
   "version": "3.9.13"
  }
 },
 "nbformat": 4,
 "nbformat_minor": 5
}
