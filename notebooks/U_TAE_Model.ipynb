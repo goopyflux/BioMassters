{
 "cells": [
  {
   "cell_type": "markdown",
   "id": "f85e89b9",
   "metadata": {},
   "source": [
    "# U-TAE Model for AGBM Prediction"
   ]
  },
  {
   "cell_type": "code",
   "execution_count": 2,
   "id": "ee5e516b",
   "metadata": {},
   "outputs": [],
   "source": [
    "from time import time\n",
    "\n",
    "from biomasstry.datasets import TemporalSentinel1Dataset, TemporalSentinel2Dataset\n",
    "from biomasstry.models import UTAE\n",
    "import numpy as np\n",
    "import torch\n",
    "from torch.utils.data import DataLoader"
   ]
  },
  {
   "cell_type": "code",
   "execution_count": 3,
   "id": "be49793e",
   "metadata": {},
   "outputs": [],
   "source": [
    "device = torch.device('cuda')"
   ]
  },
  {
   "cell_type": "code",
   "execution_count": 4,
   "id": "2d489f16",
   "metadata": {},
   "outputs": [],
   "source": [
    "ds = TemporalSentinel1Dataset(data_url=\"s3://drivendata-competition-biomassters-public-us\")"
   ]
  },
  {
   "cell_type": "code",
   "execution_count": 5,
   "id": "1e7cb863",
   "metadata": {},
   "outputs": [],
   "source": [
    "batch_size = 4\n",
    "dl = DataLoader(ds, batch_size=batch_size)"
   ]
  },
  {
   "cell_type": "code",
   "execution_count": 9,
   "id": "dc7d0ca0",
   "metadata": {},
   "outputs": [],
   "source": [
    "model = UTAE(4).to(device)"
   ]
  },
  {
   "cell_type": "code",
   "execution_count": 8,
   "id": "0777098e",
   "metadata": {},
   "outputs": [],
   "source": [
    "<<<<<<< LOCAL CELL DELETED >>>>>>>\n",
    "model = UTAE(4)"
   ]
  },
  {
   "cell_type": "code",
   "execution_count": null,
   "id": "18e120c8",
   "metadata": {},
   "outputs": [
    {
     "name": "stdout",
     "output_type": "stream",
     "text": [
      "Time to load one batch of size 4: 22.67630887031555\n"
     ]
    }
   ],
   "source": [
    "start = time()\n",
    "b = next(iter(dl))\n",
    "end = time()\n",
    "print(f\"Time to load one batch of size {batch_size}: {end - start}\")"
   ]
  },
  {
   "cell_type": "code",
   "execution_count": 8,
   "id": "e7aa18f2",
   "metadata": {},
   "outputs": [
    {
     "data": {
      "text/plain": [
       "torch.Size([4, 12, 4, 256, 256])"
      ]
     },
     "execution_count": 8,
     "metadata": {},
     "output_type": "execute_result"
    }
   ],
   "source": [
    "x = torch.stack(b['image'], dim=1).to(device)\n",
    "x.shape"
   ]
  },
  {
   "cell_type": "code",
   "execution_count": null,
   "id": "b66cd632",
   "metadata": {},
   "outputs": [
    {
     "name": "stderr",
     "output_type": "stream",
     "text": [
      "<<<<<<< local\n",
      "=======\n"
     ]
    },
    {
     "ename": "",
     "evalue": "",
     "output_type": "error",
     "traceback": [
      "\u001b[1;31mThe Kernel crashed while executing code in the the current cell or a previous cell. Please review the code in the cell(s) to identify a possible cause of the failure. Click <a href='https://aka.ms/vscodeJupyterKernelCrash'>here</a> for more info. View Jupyter <a href='command:jupyter.viewOutput'>log</a> for further details."
     ]
    },
    {
     "ename": "",
     "evalue": "",
     "output_type": "error",
     "traceback": [
      "\u001b[1;31mCanceled future for execute_request message before replies were done"
     ]
    },
    {
     "name": "stderr",
     "output_type": "stream",
     "text": [
      ">>>>>>> remote\n",
      "<<<<<<< local <modified: >\n"
     ]
    },
    {
     "name": "stdout",
     "output_type": "stream",
     "text": [
      "Time for forward pass of batch size 4: 1.908869743347168\n"
     ]
    },
    {
     "name": "stderr",
     "output_type": "stream",
     "text": [
      "=======\n",
      ">>>>>>> remote <removed>\n"
     ]
    }
   ],
   "source": [
    "start = time()\n",
    "y = model(x)\n",
    "end = time()\n",
    "print(f\"Time for forward pass of batch size {batch_size}: {end - start}\")"
   ]
  },
  {
   "cell_type": "code",
   "execution_count": 9,
   "id": "1e27c8e4",
   "metadata": {},
   "outputs": [
    {
     "data": {
      "text/plain": [
       "torch.Size([4, 1, 256, 256])"
      ]
     },
     "execution_count": 9,
     "metadata": {},
     "output_type": "execute_result"
    }
   ],
   "source": [
    "y.shape"
   ]
  },
  {
   "cell_type": "code",
   "execution_count": 14,
   "id": "a505ec8b",
   "metadata": {},
   "outputs": [
    {
     "data": {
      "text/plain": [
       "tensor(8.0113, grad_fn=<MaxBackward1>)"
      ]
     },
     "execution_count": 14,
     "metadata": {},
     "output_type": "execute_result"
    }
   ],
   "source": [
    "y[0].max()"
   ]
  }
 ],
 "metadata": {
  "kernelspec": {
   "display_name": "Python 3 (ipykernel)",
   "language": "python",
   "name": "python3"
  },
  "language_info": {
   "codemirror_mode": {
    "name": "ipython",
    "version": 3
   },
   "file_extension": ".py",
   "mimetype": "text/x-python",
   "name": "python",
   "nbconvert_exporter": "python",
   "pygments_lexer": "ipython3",
   "version": "3.9.13"
  }
 },
 "nbformat": 4,
 "nbformat_minor": 5
}
