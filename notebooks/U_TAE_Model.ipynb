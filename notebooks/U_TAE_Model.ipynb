{
 "cells": [
  {
   "cell_type": "markdown",
   "id": "a24a83dd-2206-4aa7-ad11-4411508ced00",
   "metadata": {},
   "source": [
    "# U-TAE Model for AGBM Prediction"
   ]
  },
  {
   "cell_type": "code",
   "execution_count": 1,
   "id": "971f1738-2c39-4d41-86c7-9cf1ba0ac74c",
   "metadata": {},
   "outputs": [],
   "source": [
    "from time import time\n",
    "\n",
    "from biomasstry.datasets import TemporalSentinel1Dataset, TemporalSentinel2Dataset\n",
    "from biomasstry.models import UTAE\n",
    "import numpy as np\n",
    "import torch\n",
    "from torch.utils.data import DataLoader"
   ]
  },
  {
   "cell_type": "code",
   "execution_count": 2,
   "id": "ab256532-a783-4254-ac2e-8ccaa2075442",
   "metadata": {},
   "outputs": [],
   "source": [
    "ds = TemporalSentinel1Dataset(data_url=\"s3://drivendata-competition-biomassters-public-us\")"
   ]
  },
  {
   "cell_type": "code",
   "execution_count": 3,
   "id": "29a7922d-25b2-4791-9e1c-ae24572d96ac",
   "metadata": {},
   "outputs": [],
   "source": [
    "batch_size = 4\n",
    "dl = DataLoader(ds, batch_size=batch_size)"
   ]
  },
  {
   "cell_type": "code",
   "execution_count": 8,
   "id": "f67e02bd-60a7-452b-8828-8be440dabd0e",
   "metadata": {},
   "outputs": [],
   "source": [
    "model = UTAE(4)"
   ]
  },
  {
   "cell_type": "code",
   "execution_count": 6,
   "id": "e73e6e5c-44fc-42e9-b55b-de88c79b4120",
   "metadata": {},
   "outputs": [
    {
     "name": "stdout",
     "output_type": "stream",
     "text": [
      "Time to load one batch of size 4: 22.67630887031555\n"
     ]
    }
   ],
   "source": [
    "start = time()\n",
    "b = next(iter(dl))\n",
    "end = time()\n",
    "print(f\"Time to load one batch of size {batch_size}: {end - start}\")"
   ]
  },
  {
   "cell_type": "code",
   "execution_count": 7,
   "id": "f8cd773d-997a-476d-a1df-6007bce05b0c",
   "metadata": {},
   "outputs": [
    {
     "data": {
      "text/plain": [
       "torch.Size([4, 12, 4, 256, 256])"
      ]
     },
     "execution_count": 7,
     "metadata": {},
     "output_type": "execute_result"
    }
   ],
   "source": [
    "x = torch.stack(b['image'], dim=1)\n",
    "x.shape"
   ]
  },
  {
   "cell_type": "code",
   "execution_count": 9,
   "id": "6d09bf07-4ea4-42ed-a69f-dc69fcfbb406",
   "metadata": {},
   "outputs": [
    {
     "ename": "",
     "evalue": "",
     "output_type": "error",
     "traceback": [
      "\u001b[1;31mThe Kernel crashed while executing code in the the current cell or a previous cell. Please review the code in the cell(s) to identify a possible cause of the failure. Click <a href='https://aka.ms/vscodeJupyterKernelCrash'>here</a> for more info. View Jupyter <a href='command:jupyter.viewOutput'>log</a> for further details."
     ]
    },
    {
     "ename": "",
     "evalue": "",
     "output_type": "error",
     "traceback": [
      "\u001b[1;31mCanceled future for execute_request message before replies were done"
     ]
    }
   ],
   "source": [
    "start = time()\n",
    "y = model(x)\n",
    "end = time()\n",
    "print(f\"Time for forward pass of batch size {batch_size}: {end - start}\")"
   ]
  },
  {
   "cell_type": "code",
   "execution_count": 9,
   "id": "9b167676-6332-40b4-bf9c-5983d65fa931",
   "metadata": {},
   "outputs": [
    {
     "data": {
      "text/plain": [
       "torch.Size([4, 1, 256, 256])"
      ]
     },
     "execution_count": 9,
     "metadata": {},
     "output_type": "execute_result"
    }
   ],
   "source": [
    "y.shape"
   ]
  },
  {
   "cell_type": "code",
   "execution_count": 14,
   "id": "e84e2550-a9a4-4fe7-bb54-e7c7981fe7a4",
   "metadata": {},
   "outputs": [
    {
     "data": {
      "text/plain": [
       "tensor(8.0113, grad_fn=<MaxBackward1>)"
      ]
     },
     "execution_count": 14,
     "metadata": {},
     "output_type": "execute_result"
    }
   ],
   "source": [
    "y[0].max()"
   ]
  }
 ],
 "metadata": {
  "kernelspec": {
   "display_name": "Python 3 (ipykernel)",
   "language": "python",
   "name": "python3"
  },
  "language_info": {
   "codemirror_mode": {
    "name": "ipython",
    "version": 3
   },
   "file_extension": ".py",
   "mimetype": "text/x-python",
   "name": "python",
   "nbconvert_exporter": "python",
   "pygments_lexer": "ipython3",
   "version": "3.9.16"
  }
 },
 "nbformat": 4,
 "nbformat_minor": 5
}
