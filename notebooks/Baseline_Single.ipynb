{
 "cells": [
  {
   "cell_type": "markdown",
   "id": "5f3f6333-379a-44cc-99dc-002087eb3868",
   "metadata": {},
   "source": [
    "# Train Baseline UNET model with Single Satellite Image"
   ]
  },
  {
   "cell_type": "raw",
   "id": "ac2ba6a4-7339-4772-827a-45ef29277118",
   "metadata": {},
   "source": [
    "!pip install --upgrade rasterio s3fs"
   ]
  },
  {
   "cell_type": "raw",
   "id": "e7c9eae8-de4b-45f7-8593-249843f28696",
   "metadata": {},
   "source": [
    "# Install the local package\n",
    "!pip install -e /notebooks/"
   ]
  },
  {
   "cell_type": "code",
   "execution_count": 1,
   "id": "9fce2ba2-67a9-4755-960b-bde2ae45ad6b",
   "metadata": {},
   "outputs": [],
   "source": [
    "%load_ext autoreload\n",
    "%autoreload 2"
   ]
  },
  {
   "cell_type": "code",
   "execution_count": 2,
   "id": "8e39f8b3-cfea-4b51-b412-31daf448f6d0",
   "metadata": {},
   "outputs": [],
   "source": [
    "from time import time"
   ]
  },
  {
   "cell_type": "code",
   "execution_count": 3,
   "id": "cb7f383b-3d3e-43c8-b976-4b221673cc09",
   "metadata": {},
   "outputs": [],
   "source": [
    "from torch.utils.data import DataLoader"
   ]
  },
  {
   "cell_type": "code",
   "execution_count": 4,
   "id": "0a2b25fb-5a59-4c67-b4b3-b896b8080bbb",
   "metadata": {},
   "outputs": [],
   "source": [
    "from biomasstry.datasets import Sentinel2"
   ]
  },
  {
   "cell_type": "code",
   "execution_count": 5,
   "id": "dd1e69a0-0505-47f5-9d31-f54873e5593d",
   "metadata": {},
   "outputs": [],
   "source": [
    "sen2dataset = Sentinel2()"
   ]
  },
  {
   "cell_type": "code",
   "execution_count": 6,
   "id": "23c7e453-39c9-49cd-ac6b-4dec756d7d05",
   "metadata": {},
   "outputs": [],
   "source": [
    "start = time()\n",
    "idx_data = sen2dataset[0]\n",
    "end = time()"
   ]
  },
  {
   "cell_type": "code",
   "execution_count": 7,
   "id": "081aec43-36f6-49d8-ad85-41778a7d3039",
   "metadata": {},
   "outputs": [
    {
     "name": "stdout",
     "output_type": "stream",
     "text": [
      "Read time: 0.41463470458984375\n"
     ]
    }
   ],
   "source": [
    "print(f\"Read time: {end - start}\")"
   ]
  },
  {
   "cell_type": "code",
   "execution_count": 10,
   "id": "1f35ce06-416f-4063-9557-2b4f9fdc9983",
   "metadata": {},
   "outputs": [
    {
     "data": {
      "text/plain": [
       "{'image': tensor([[[8227, 9049, 9383,  ..., 9487, 9424, 9517],\n",
       "          [8517, 9122, 8980,  ..., 9138, 9156, 9213],\n",
       "          [8779, 8906, 8843,  ..., 9176, 9288, 9385],\n",
       "          ...,\n",
       "          [8707, 9032, 8517,  ..., 9248, 9262, 9568],\n",
       "          [8672, 8770, 8066,  ..., 9692, 9773, 9916],\n",
       "          [8785, 8157, 8203,  ..., 9744, 9903, 9857]],\n",
       " \n",
       "         [[8033, 8899, 9142,  ..., 9233, 9280, 9291],\n",
       "          [8355, 8869, 8756,  ..., 8878, 9026, 9071],\n",
       "          [8503, 8607, 8632,  ..., 8886, 9018, 9136],\n",
       "          ...,\n",
       "          [8825, 8895, 8558,  ..., 8570, 9119, 9397],\n",
       "          [8635, 8792, 8123,  ..., 9361, 9494, 9546],\n",
       "          [8795, 8327, 8092,  ..., 9480, 9510, 9679]],\n",
       " \n",
       "         [[8389, 9016, 9224,  ..., 9400, 9417, 9507],\n",
       "          [8698, 9057, 8918,  ..., 9007, 9048, 9177],\n",
       "          [8654, 8728, 8833,  ..., 9058, 9185, 9327],\n",
       "          ...,\n",
       "          [9228, 9214, 8810,  ..., 8876, 9239, 9566],\n",
       "          [9029, 8987, 8428,  ..., 9539, 9685, 9682],\n",
       "          [9227, 8799, 8291,  ..., 9588, 9773, 9813]],\n",
       " \n",
       "         ...,\n",
       " \n",
       "         [[7791, 8043, 7914,  ..., 8578, 8597, 8597],\n",
       "          [7791, 8043, 8043,  ..., 8218, 8426, 8426],\n",
       "          [7698, 7468, 8043,  ..., 8218, 8426, 8426],\n",
       "          ...,\n",
       "          [8199, 8191, 8191,  ..., 8368, 8448, 8448],\n",
       "          [8099, 8582, 8582,  ..., 8675, 8768, 8768],\n",
       "          [8582, 8582, 8119,  ..., 8675, 8768, 8768]],\n",
       " \n",
       "         [[ 694,  687,  702,  ...,  655,  640,  640],\n",
       "          [ 694,  687,  687,  ...,  629,  647,  647],\n",
       "          [ 660,  654,  687,  ...,  629,  647,  647],\n",
       "          ...,\n",
       "          [1014, 1053, 1053,  ...,  884,  882,  882],\n",
       "          [1088, 1119, 1119,  ...,  863,  870,  870],\n",
       "          [1119, 1119, 1094,  ...,  863,  870,  870]],\n",
       " \n",
       "         [[ 763,  767,  777,  ...,  750,  768,  768],\n",
       "          [ 763,  767,  767,  ...,  735,  759,  759],\n",
       "          [ 726,  714,  767,  ...,  735,  759,  759],\n",
       "          ...,\n",
       "          [1040, 1054, 1054,  ...,  961,  968,  968],\n",
       "          [1091, 1114, 1114,  ...,  969,  962,  962],\n",
       "          [1114, 1114, 1079,  ...,  969,  962,  962]]], dtype=torch.int32),\n",
       " 'target': tensor([[[ 6.7300,  6.7300,  6.5300,  ...,  0.0000,  0.0000,  0.0000],\n",
       "          [ 0.0000,  0.0000,  8.5400,  ...,  0.0000,  0.0000,  0.0000],\n",
       "          [ 0.0000,  0.0000,  8.5400,  ...,  0.0000,  0.0000,  0.0000],\n",
       "          ...,\n",
       "          [10.6100, 10.6100, 16.3600,  ...,  5.8800,  5.8800,  0.0000],\n",
       "          [27.8000, 27.8000, 16.2800,  ...,  0.0000,  0.0000,  0.0000],\n",
       "          [27.8000, 27.8000, 16.2800,  ...,  0.0000,  0.0000,  0.0000]]]),\n",
       " 'chip_id': '0003d2eb'}"
      ]
     },
     "execution_count": 10,
     "metadata": {},
     "output_type": "execute_result"
    }
   ],
   "source": [
    "idx_data"
   ]
  },
  {
   "cell_type": "code",
   "execution_count": 13,
   "id": "c1f9faf3-e7ae-4e27-be48-8e674140c0f5",
   "metadata": {},
   "outputs": [],
   "source": [
    "sen2loader = DataLoader(sen2dataset, batch_size=4)"
   ]
  },
  {
   "cell_type": "code",
   "execution_count": 14,
   "id": "a522f601-8d69-43f3-9a94-0cb809dab109",
   "metadata": {},
   "outputs": [],
   "source": [
    "start = time()\n",
    "batch_data = next(iter(sen2loader))\n",
    "end = time()"
   ]
  },
  {
   "cell_type": "code",
   "execution_count": 15,
   "id": "9c41b2e2-0894-46fe-ac7a-84db8b4156a8",
   "metadata": {},
   "outputs": [
    {
     "name": "stdout",
     "output_type": "stream",
     "text": [
      "Read time: 0.959993839263916\n"
     ]
    }
   ],
   "source": [
    "print(f\"Read time: {end - start}\")"
   ]
  },
  {
   "cell_type": "code",
   "execution_count": 17,
   "id": "94c6e680-5e0e-4ee9-a6f1-b31296d8ff17",
   "metadata": {},
   "outputs": [
    {
     "data": {
      "text/plain": [
       "torch.Size([32, 10, 256, 256])"
      ]
     },
     "execution_count": 17,
     "metadata": {},
     "output_type": "execute_result"
    }
   ],
   "source": [
    "batch_data['image'].shape"
   ]
  }
 ],
 "metadata": {
  "kernelspec": {
   "display_name": "Python 3 (ipykernel)",
   "language": "python",
   "name": "python3"
  },
  "language_info": {
   "codemirror_mode": {
    "name": "ipython",
    "version": 3
   },
   "file_extension": ".py",
   "mimetype": "text/x-python",
   "name": "python",
   "nbconvert_exporter": "python",
   "pygments_lexer": "ipython3",
   "version": "3.9.13"
  }
 },
 "nbformat": 4,
 "nbformat_minor": 5
}
