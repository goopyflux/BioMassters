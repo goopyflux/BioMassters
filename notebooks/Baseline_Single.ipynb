{
 "cells": [
  {
   "cell_type": "markdown",
   "id": "5f3f6333-379a-44cc-99dc-002087eb3868",
   "metadata": {},
   "source": [
    "# Train Baseline UNET model with Single Satellite Image"
   ]
  },
  {
   "cell_type": "raw",
   "id": "0915dce4-0e42-46af-a6f6-ab794d761e1e",
   "metadata": {},
   "source": [
    "!pip install --upgrade rasterio s3fs"
   ]
  },
  {
   "cell_type": "raw",
   "id": "ab7efb47-28c2-422e-b892-5572603d1e22",
   "metadata": {},
   "source": [
    "# Install the local package\n",
    "!pip install -e /notebooks/"
   ]
  },
  {
   "cell_type": "code",
   "execution_count": 1,
   "id": "9fce2ba2-67a9-4755-960b-bde2ae45ad6b",
   "metadata": {},
   "outputs": [],
   "source": [
    "%load_ext autoreload\n",
    "%autoreload 2"
   ]
  },
  {
   "cell_type": "code",
   "execution_count": 2,
   "id": "8e39f8b3-cfea-4b51-b412-31daf448f6d0",
   "metadata": {},
   "outputs": [],
   "source": [
    "from time import time"
   ]
  },
  {
   "cell_type": "code",
   "execution_count": 13,
   "id": "cb7f383b-3d3e-43c8-b976-4b221673cc09",
   "metadata": {},
   "outputs": [],
   "source": [
    "from biomasstry.datasets import Sentinel2\n",
    "import s3fs\n",
    "import torch\n",
    "from torch.utils.data import DataLoader"
   ]
  },
  {
   "cell_type": "code",
   "execution_count": 14,
   "id": "794a57f0-3ef5-47c3-b759-9f19bd9ac4a9",
   "metadata": {},
   "outputs": [
    {
     "ename": "RuntimeError",
     "evalue": "context has already been set",
     "output_type": "error",
     "traceback": [
      "\u001b[0;31m---------------------------------------------------------------------------\u001b[0m",
      "\u001b[0;31mRuntimeError\u001b[0m                              Traceback (most recent call last)",
      "Input \u001b[0;32mIn [14]\u001b[0m, in \u001b[0;36m<cell line: 1>\u001b[0;34m()\u001b[0m\n\u001b[0;32m----> 1\u001b[0m \u001b[43mtorch\u001b[49m\u001b[38;5;241;43m.\u001b[39;49m\u001b[43mmultiprocessing\u001b[49m\u001b[38;5;241;43m.\u001b[39;49m\u001b[43mset_start_method\u001b[49m\u001b[43m(\u001b[49m\u001b[38;5;124;43m'\u001b[39;49m\u001b[38;5;124;43mspawn\u001b[39;49m\u001b[38;5;124;43m'\u001b[39;49m\u001b[43m)\u001b[49m\n",
      "File \u001b[0;32m/usr/lib/python3.9/multiprocessing/context.py:243\u001b[0m, in \u001b[0;36mDefaultContext.set_start_method\u001b[0;34m(self, method, force)\u001b[0m\n\u001b[1;32m    241\u001b[0m \u001b[38;5;28;01mdef\u001b[39;00m \u001b[38;5;21mset_start_method\u001b[39m(\u001b[38;5;28mself\u001b[39m, method, force\u001b[38;5;241m=\u001b[39m\u001b[38;5;28;01mFalse\u001b[39;00m):\n\u001b[1;32m    242\u001b[0m     \u001b[38;5;28;01mif\u001b[39;00m \u001b[38;5;28mself\u001b[39m\u001b[38;5;241m.\u001b[39m_actual_context \u001b[38;5;129;01mis\u001b[39;00m \u001b[38;5;129;01mnot\u001b[39;00m \u001b[38;5;28;01mNone\u001b[39;00m \u001b[38;5;129;01mand\u001b[39;00m \u001b[38;5;129;01mnot\u001b[39;00m force:\n\u001b[0;32m--> 243\u001b[0m         \u001b[38;5;28;01mraise\u001b[39;00m \u001b[38;5;167;01mRuntimeError\u001b[39;00m(\u001b[38;5;124m'\u001b[39m\u001b[38;5;124mcontext has already been set\u001b[39m\u001b[38;5;124m'\u001b[39m)\n\u001b[1;32m    244\u001b[0m     \u001b[38;5;28;01mif\u001b[39;00m method \u001b[38;5;129;01mis\u001b[39;00m \u001b[38;5;28;01mNone\u001b[39;00m \u001b[38;5;129;01mand\u001b[39;00m force:\n\u001b[1;32m    245\u001b[0m         \u001b[38;5;28mself\u001b[39m\u001b[38;5;241m.\u001b[39m_actual_context \u001b[38;5;241m=\u001b[39m \u001b[38;5;28;01mNone\u001b[39;00m\n",
      "\u001b[0;31mRuntimeError\u001b[0m: context has already been set"
     ]
    }
   ],
   "source": [
    "torch.multiprocessing.set_start_method('spawn')"
   ]
  },
  {
   "cell_type": "code",
   "execution_count": 4,
   "id": "823fc85f-5f83-422d-882c-d012b248bebe",
   "metadata": {},
   "outputs": [],
   "source": [
    "# storage_options = {'anon': True}\n",
    "# s3_fs = s3fs.S3FileSystem(**storage_options)"
   ]
  },
  {
   "cell_type": "code",
   "execution_count": 4,
   "id": "dd1e69a0-0505-47f5-9d31-f54873e5593d",
   "metadata": {},
   "outputs": [],
   "source": [
    "sen2dataset = Sentinel2()"
   ]
  },
  {
   "cell_type": "code",
   "execution_count": 5,
   "id": "23c7e453-39c9-49cd-ac6b-4dec756d7d05",
   "metadata": {},
   "outputs": [],
   "source": [
    "start = time()\n",
    "idx_data = sen2dataset[0]\n",
    "end = time()"
   ]
  },
  {
   "cell_type": "code",
   "execution_count": 6,
   "id": "081aec43-36f6-49d8-ad85-41778a7d3039",
   "metadata": {},
   "outputs": [
    {
     "name": "stdout",
     "output_type": "stream",
     "text": [
      "Read time: 0.36727237701416016\n"
     ]
    }
   ],
   "source": [
    "print(f\"Read time: {end - start}\")"
   ]
  },
  {
   "cell_type": "code",
   "execution_count": 7,
   "id": "c1f9faf3-e7ae-4e27-be48-8e674140c0f5",
   "metadata": {},
   "outputs": [],
   "source": [
    "sen2loader = DataLoader(sen2dataset, batch_size=32)"
   ]
  },
  {
   "cell_type": "code",
   "execution_count": 8,
   "id": "a522f601-8d69-43f3-9a94-0cb809dab109",
   "metadata": {},
   "outputs": [],
   "source": [
    "start = time()\n",
    "batch_data = next(iter(sen2loader))\n",
    "end = time()"
   ]
  },
  {
   "cell_type": "code",
   "execution_count": 9,
   "id": "9c41b2e2-0894-46fe-ac7a-84db8b4156a8",
   "metadata": {},
   "outputs": [
    {
     "name": "stdout",
     "output_type": "stream",
     "text": [
      "Read time: 8.009730577468872\n"
     ]
    }
   ],
   "source": [
    "print(f\"Read time: {end - start}\")"
   ]
  },
  {
   "cell_type": "code",
   "execution_count": 10,
   "id": "94c6e680-5e0e-4ee9-a6f1-b31296d8ff17",
   "metadata": {},
   "outputs": [
    {
     "data": {
      "text/plain": [
       "torch.Size([32, 10, 256, 256])"
      ]
     },
     "execution_count": 10,
     "metadata": {},
     "output_type": "execute_result"
    }
   ],
   "source": [
    "batch_data['image'].shape"
   ]
  },
  {
   "cell_type": "code",
   "execution_count": 15,
   "id": "2b1a28f8-e6fc-4632-bf0e-8afe904d61ca",
   "metadata": {},
   "outputs": [],
   "source": [
    "sen2loader_mp = DataLoader(sen2dataset, batch_size=32, num_workers=8, multiprocessing_context='spawn')"
   ]
  },
  {
   "cell_type": "code",
   "execution_count": 16,
   "id": "e56beceb-a72d-4e9b-aadd-df17504d529b",
   "metadata": {},
   "outputs": [
    {
     "name": "stdout",
     "output_type": "stream",
     "text": [
      "Read time: 17.1347074508667\n"
     ]
    },
    {
     "data": {
      "text/plain": [
       "torch.Size([32, 10, 256, 256])"
      ]
     },
     "execution_count": 16,
     "metadata": {},
     "output_type": "execute_result"
    }
   ],
   "source": [
    "start = time()\n",
    "batch_data_mp = next(iter(sen2loader_mp))\n",
    "end = time()\n",
    "print(f\"Read time: {end - start}\")\n",
    "batch_data_mp['image'].shape"
   ]
  },
  {
   "cell_type": "code",
   "execution_count": null,
   "id": "474e3d9d-9f10-4b3a-b7c7-a16e6cc37208",
   "metadata": {},
   "outputs": [],
   "source": []
  }
 ],
 "metadata": {
  "kernelspec": {
   "display_name": "Python 3 (ipykernel)",
   "language": "python",
   "name": "python3"
  },
  "language_info": {
   "codemirror_mode": {
    "name": "ipython",
    "version": 3
   },
   "file_extension": ".py",
   "mimetype": "text/x-python",
   "name": "python",
   "nbconvert_exporter": "python",
   "pygments_lexer": "ipython3",
   "version": "3.9.13"
  }
 },
 "nbformat": 4,
 "nbformat_minor": 5
}
