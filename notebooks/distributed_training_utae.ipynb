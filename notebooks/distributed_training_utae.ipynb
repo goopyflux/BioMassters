{
 "cells": [
  {
   "cell_type": "markdown",
   "metadata": {},
   "source": [
    "# Use HuggingFace Accelerate to Train Model on Temporal (monthly) Sentinel Data"
   ]
  },
  {
   "cell_type": "raw",
   "metadata": {},
   "source": [
    "%load_ext memory_profiler"
   ]
  },
  {
   "cell_type": "markdown",
   "metadata": {
    "tags": []
   },
   "source": [
    "## Imports"
   ]
  },
  {
   "cell_type": "code",
   "execution_count": 1,
   "metadata": {},
   "outputs": [],
   "source": [
    "import torch.multiprocessing as mp\n",
    "from time import time"
   ]
  },
  {
   "cell_type": "code",
   "execution_count": 2,
   "metadata": {},
   "outputs": [],
   "source": [
    "from accelerate import Accelerator, init_empty_weights, notebook_launcher\n",
    "from accelerate.utils import set_seed\n",
    "from biomasstry.datasets import TemporalSentinel2Dataset, TemporalSentinel1Dataset\n",
    "from biomasstry.models import TemporalSentinelModel, UTAE\n",
    "from biomasstry.models.unet_tae import ConvBlock\n",
    "# from biomasstry.models.utils import run_training\n",
    "import numpy as np\n",
    "import pandas as pd\n",
    "from pynvml import *\n",
    "import torch\n",
    "import torch.nn as nn\n",
    "from torch.utils.data import random_split, DataLoader\n",
    "from transformers import TrainingArguments, Trainer, logging\n",
    "from tqdm.auto import tqdm"
   ]
  },
  {
   "cell_type": "code",
   "execution_count": 3,
   "metadata": {},
   "outputs": [],
   "source": [
    "logging.set_verbosity_error()"
   ]
  },
  {
   "cell_type": "code",
   "execution_count": 4,
   "metadata": {},
   "outputs": [],
   "source": [
    "mp.set_start_method(\"forkserver\")\n",
    "mp.set_forkserver_preload([\"torch\"])"
   ]
  },
  {
   "cell_type": "markdown",
   "metadata": {
    "tags": []
   },
   "source": [
    "## Utility Functions"
   ]
  },
  {
   "cell_type": "code",
   "execution_count": 5,
   "metadata": {},
   "outputs": [
    {
     "name": "stdout",
     "output_type": "stream",
     "text": [
      "1.12.0+cu116\n",
      "11.6\n",
      "8302\n"
     ]
    }
   ],
   "source": [
    "print(torch.__version__)\n",
    "print(torch.version.cuda)\n",
    "print(torch.backends.cudnn.version())"
   ]
  },
  {
   "cell_type": "code",
   "execution_count": 6,
   "metadata": {},
   "outputs": [],
   "source": [
    "# Utility functions for printing GPU utilization\n",
    "def print_gpu_utilization():\n",
    "    nvmlInit()\n",
    "    handle = nvmlDeviceGetHandleByIndex(0)\n",
    "    info = nvmlDeviceGetMemoryInfo(handle)\n",
    "    print(f\"GPU memory occupied: {info.used//1024**2} MB.\")\n",
    "\n",
    "\n",
    "def print_summary(result):\n",
    "    print(f\"Time: {result.metrics['train_runtime']:.2f}\")\n",
    "    print(f\"Samples/second: {result.metrics['train_samples_per_second']:.2f}\")\n",
    "    print_gpu_utilization()"
   ]
  },
  {
   "cell_type": "code",
   "execution_count": 7,
   "metadata": {},
   "outputs": [
    {
     "name": "stdout",
     "output_type": "stream",
     "text": [
      "GPU memory occupied: 261 MB.\n"
     ]
    }
   ],
   "source": [
    "print_gpu_utilization()"
   ]
  },
  {
   "cell_type": "markdown",
   "metadata": {},
   "source": [
    "## Dataset and DataLoaders"
   ]
  },
  {
   "cell_type": "code",
   "execution_count": 8,
   "metadata": {},
   "outputs": [],
   "source": [
    "def get_dataloaders(dataset: str, batch_size: int=8, num_workers: int=6):\n",
    "    \"\"\"Return train and eval DataLoaders with specified batch size.\n",
    "    \n",
    "    dataset: str\n",
    "        Dataset identifier. Must be one of \"Sentinel-1A\", \"Sentinel-1D\" or \"Sentinel-2All\"\n",
    "    batch_size: int\n",
    "        batch size for each batch.\n",
    "    \"\"\"\n",
    "    # If True, access directly S3.\n",
    "    # If False, assume data is mounted and available under '/datasets/biomassters'\n",
    "    S3_DIRECT = False\n",
    "    if S3_DIRECT:\n",
    "        data_url=\"s3://drivendata-competition-biomassters-public-us\"\n",
    "    else:\n",
    "        data_url = \"\"\n",
    "\n",
    "    if dataset == \"Sentinel-1A\": # Sentinel-1 Ascending only\n",
    "        ds = TemporalSentinel1Dataset(data_url=data_url, bands=[\"VVA\", \"VHA\"])\n",
    "    elif dataset == \"Sentinel-1D\": # Sentinel-1 Descending only\n",
    "        ds = TemporalSentinel1Dataset(data_url=data_url, bands=[\"VVD\", \"VHD\"])\n",
    "    elif dataset == \"Sentinel-2all\":\n",
    "        ds = TemporalSentinel2Dataset(data_url=data_url)\n",
    "    else:\n",
    "        print(\"Unrecognized dataset identifier. Must be one of 'Sentinel-1A', 'Sentinel-1D' or 'Sentinel-2all'\")\n",
    "        return None, None\n",
    "\n",
    "    train_size = int(0.8*len(ds))\n",
    "    valid_size = len(ds) - train_size\n",
    "    train_set, eval_set = random_split(ds, [train_size, valid_size])\n",
    "\n",
    "    print(f\"Train samples: {len(train_set)} \"\n",
    "        f\"Val. samples: {len(eval_set)}\")\n",
    "\n",
    "    # DataLoaders\n",
    "    pin_memory = True\n",
    "    train_dataloader = DataLoader(train_set,\n",
    "                        batch_size=batch_size,\n",
    "                        shuffle=True,\n",
    "                        pin_memory=pin_memory,\n",
    "                        num_workers=num_workers)\n",
    "    eval_dataloader = DataLoader(eval_set,\n",
    "                        batch_size=batch_size * 2,\n",
    "                        shuffle=False,\n",
    "                        pin_memory=pin_memory,\n",
    "                        num_workers=num_workers)\n",
    "    \n",
    "    return train_dataloader, eval_dataloader"
   ]
  },
  {
   "cell_type": "markdown",
   "metadata": {},
   "source": [
    "## Training Loop"
   ]
  },
  {
   "cell_type": "code",
   "execution_count": 9,
   "metadata": {},
   "outputs": [],
   "source": [
    "def training_loop(dataset: str,\n",
    "                  mixed_precision: str=\"fp16\",\n",
    "                  seed: int=123,\n",
    "                  batch_size: int=8,\n",
    "                  gradient_accumulation_steps: int=4,\n",
    "                  nb_epochs=2,\n",
    "                  train_mode: str=\"\"\n",
    "    ):\n",
    "    \"\"\"Main Training and Evaluation Loop to be called by accelerator.notebook_launcher().\"\"\"\n",
    "    print(f\"Args: {mixed_precision}, {seed}, {batch_size}, \"\n",
    "          f\"{gradient_accumulation_steps}, {nb_epochs}, {train_mode}\")\n",
    "\n",
    "    # Set random seed\n",
    "    set_seed(seed)\n",
    "\n",
    "    # Initialize Accelerator\n",
    "    accelerator = Accelerator(mixed_precision=mixed_precision,\n",
    "        gradient_accumulation_steps=gradient_accumulation_steps)\n",
    "\n",
    "    # Build DataLoaders\n",
    "    train_dataloader, eval_dataloader = get_dataloaders(dataset, batch_size=batch_size)\n",
    "\n",
    "    # Assign model inputs based on dataset\n",
    "    if dataset == \"Sentinel-1A\":\n",
    "        input_nc = 2\n",
    "        n_tsamples = 6\n",
    "    elif dataset == \"Sentinel-1D\":\n",
    "        input_nc = 2\n",
    "        n_tsamples = 6\n",
    "    else:\n",
    "        input_nc = 10\n",
    "        n_tsamples = 5\n",
    "\n",
    "    # Create model\n",
    "    if train_mode == \"tune\":\n",
    "        print(f\"Fine tuning pre-trained weights\")\n",
    "        print(f\"Loading weights from {pretrained_weights_path}\")\n",
    "        saved_dict = torch.load(pretrained_weights_path)\n",
    "        model = UTAE(10, out_conv=[32, 20])  # Initialize the original model & load pre-trained weights\n",
    "        model.load_state_dict(saved_dict[\"state_dict\"], )\n",
    "        model.out_conv = ConvBlock([32, 32, 1], padding_mode=\"reflect\")  # Modify the last layer\n",
    "        lr = 0.001\n",
    "        print(\"Pre-trained weights loaded successfully.\")\n",
    "    else:\n",
    "        model = UTAE(input_nc)  # modify output layer to predict AGBM\n",
    "        lr = 0.01\n",
    "        if train_mode == \"resume\":\n",
    "            print(\"Resuming training...\")\n",
    "            print(f\"Loading model from {saved_state_path}\")\n",
    "            state_dict = torch.load(saved_state_path)  # , map_location=accelerator.device)\n",
    "            model.load_state_dict(state_dict)\n",
    "            print(f\"Model loaded successfully.\")\n",
    "    \n",
    "    # model = UTAE(input_nc)\n",
    "\n",
    "    loss_function = nn.MSELoss(reduction='mean')  # Loss function\n",
    "    optimizer = torch.optim.Adam(model.parameters(), lr=lr)  # Optimizer\n",
    "    \n",
    "    # Prepare everything to use accelerator\n",
    "    # Maintain order while unpacking\n",
    "    model, optimizer, train_dataloader, eval_dataloader = accelerator.prepare(model,\n",
    "                                                                optimizer,\n",
    "                                                                train_dataloader,\n",
    "                                                                eval_dataloader)\n",
    "    min_valid_metric = np.inf\n",
    "    # Training loop\n",
    "    for i in tqdm(range(nb_epochs), disable=not accelerator.is_local_main_process):\n",
    "        accelerator.print(f\"Epoch {i+1}\")\n",
    "        epoch_start = time()\n",
    "        for b, batch in enumerate(tqdm(train_dataloader, disable=not accelerator.is_local_main_process)):\n",
    "            inputs, targets, chip_id = batch\n",
    "            with accelerator.accumulate(model):\n",
    "                outputs = model(inputs)\n",
    "                loss = loss_function(outputs, targets)\n",
    "                accelerator.backward(loss)\n",
    "                optimizer.step()\n",
    "                optimizer.zero_grad()\n",
    "    \n",
    "        epoch_end = time()\n",
    "        accelerator.print(f\"  Training time: {epoch_end - epoch_start}\")\n",
    "        \n",
    "        # Save Model State Dict after each epoch in order to continue training later\n",
    "        unwrap_model = accelerator.unwrap_model(model)  # Unwrap the Accelerator model\n",
    "        train_model_path = save_path[:-3] + f\"_E{i+6}.pt\"\n",
    "        accelerator.save(unwrap_model.state_dict(), train_model_path)\n",
    "        accelerator.print(f\"  Model file path: {train_model_path}\")\n",
    "\n",
    "        # Validation Loop\n",
    "        val_loss = 0.0\n",
    "        num_elements = 0\n",
    "        for batch in tqdm(eval_dataloader, disable=not accelerator.is_local_main_process):\n",
    "            inputs, targets, _ = batch\n",
    "            with torch.no_grad():\n",
    "                predictions = model(inputs)\n",
    "            # Gather all predictions and targets\n",
    "            all_predictions, all_targets = accelerator.gather_for_metrics((predictions, targets))\n",
    "            num_elements += all_predictions.shape[0]\n",
    "            val_loss += loss_function(all_predictions, all_targets).item()\n",
    "\n",
    "        val_loss /= num_elements\n",
    "        val_rmse = np.round(np.sqrt(val_loss), 5)\n",
    "        accelerator.print(f\"  Validation RMSE: {val_rmse:>8f}\")\n",
    "        # check validation score, if improved then save model\n",
    "        if min_valid_metric > val_rmse:\n",
    "            accelerator.print(f\"  Validation RMSE Decreased({min_valid_metric:.6f}--->{val_rmse:.6f})\")\n",
    "            min_valid_metric = val_rmse\n",
    "\n",
    "            # Saving Model State Dict\n",
    "            unwrap_model = accelerator.unwrap_model(model)  # Unwrap the Accelerator model\n",
    "            accelerator.save(unwrap_model.state_dict(), best_model_path)\n",
    "            accelerator.print(f\"  Best Model file path: {best_model_path}\")"
   ]
  },
  {
   "cell_type": "code",
   "execution_count": null,
   "metadata": {
    "tags": []
   },
   "outputs": [
    {
     "name": "stdout",
     "output_type": "stream",
     "text": [
      "Launching training on one GPU.\n",
      "Args: fp16, 123, 8, 4, 15, resume\n",
      "Train samples: 6951 Val. samples: 1738\n",
      "Resuming training...\n",
      "Loading model from /notebooks/artifacts/20230118_UTAE_Sentinel-2all_B32_tune_E5.pt\n",
      "Model loaded successfully.\n"
     ]
    },
    {
     "data": {
      "application/vnd.jupyter.widget-view+json": {
       "model_id": "8113fb5d5e244fc4bf90cf55d1a7ceea",
       "version_major": 2,
       "version_minor": 0
      },
      "text/plain": [
       "  0%|          | 0/15 [00:00<?, ?it/s]"
      ]
     },
     "metadata": {},
     "output_type": "display_data"
    },
    {
     "name": "stdout",
     "output_type": "stream",
     "text": [
      "Epoch 1\n"
     ]
    },
    {
     "data": {
      "application/vnd.jupyter.widget-view+json": {
       "model_id": "1709ba18f8ed43c1b70a27202658dbc6",
       "version_major": 2,
       "version_minor": 0
      },
      "text/plain": [
       "  0%|          | 0/869 [00:00<?, ?it/s]"
      ]
     },
     "metadata": {},
     "output_type": "display_data"
    },
    {
     "name": "stdout",
     "output_type": "stream",
     "text": [
      "  Training time: 970.5138721466064\n",
      "  Model file path: /notebooks/artifacts/20230118_UTAE_Sentinel-2all_B32_resume_E6.pt\n"
     ]
    },
    {
     "data": {
      "application/vnd.jupyter.widget-view+json": {
       "model_id": "d4a38c7c6152476089e807f3f8f3c733",
       "version_major": 2,
       "version_minor": 0
      },
      "text/plain": [
       "  0%|          | 0/109 [00:00<?, ?it/s]"
      ]
     },
     "metadata": {},
     "output_type": "display_data"
    },
    {
     "name": "stdout",
     "output_type": "stream",
     "text": [
      "  Validation RMSE: 22.675860\n",
      "  Validation RMSE Decreased(inf--->22.675860)\n",
      "  Best Model file path: /notebooks/artifacts/20230118_UTAE_Sentinel-2all_B32_resume_BEST.pt\n",
      "Epoch 2\n"
     ]
    },
    {
     "data": {
      "application/vnd.jupyter.widget-view+json": {
       "model_id": "3b530cfaed644b1ea777dece9ceb61bf",
       "version_major": 2,
       "version_minor": 0
      },
      "text/plain": [
       "  0%|          | 0/869 [00:00<?, ?it/s]"
      ]
     },
     "metadata": {},
     "output_type": "display_data"
    },
    {
     "name": "stdout",
     "output_type": "stream",
     "text": [
      "  Training time: 850.9564437866211\n",
      "  Model file path: /notebooks/artifacts/20230118_UTAE_Sentinel-2all_B32_resume_E7.pt\n"
     ]
    },
    {
     "data": {
      "application/vnd.jupyter.widget-view+json": {
       "model_id": "131e95dcbdc54264b29aa15bb795637f",
       "version_major": 2,
       "version_minor": 0
      },
      "text/plain": [
       "  0%|          | 0/109 [00:00<?, ?it/s]"
      ]
     },
     "metadata": {},
     "output_type": "display_data"
    },
    {
     "name": "stdout",
     "output_type": "stream",
     "text": [
      "  Validation RMSE: 21.989560\n",
      "  Validation RMSE Decreased(22.675860--->21.989560)\n",
      "  Best Model file path: /notebooks/artifacts/20230118_UTAE_Sentinel-2all_B32_resume_BEST.pt\n",
      "Epoch 3\n"
     ]
    },
    {
     "data": {
      "application/vnd.jupyter.widget-view+json": {
       "model_id": "8713f8a1f819436488c7cb135f94988a",
       "version_major": 2,
       "version_minor": 0
      },
      "text/plain": [
       "  0%|          | 0/869 [00:00<?, ?it/s]"
      ]
     },
     "metadata": {},
     "output_type": "display_data"
    },
    {
     "name": "stdout",
     "output_type": "stream",
     "text": [
      "  Training time: 871.3295848369598\n",
      "  Model file path: /notebooks/artifacts/20230118_UTAE_Sentinel-2all_B32_resume_E8.pt\n"
     ]
    },
    {
     "data": {
      "application/vnd.jupyter.widget-view+json": {
       "model_id": "137a05d2332747c5b5317d1af9f1c106",
       "version_major": 2,
       "version_minor": 0
      },
      "text/plain": [
       "  0%|          | 0/109 [00:00<?, ?it/s]"
      ]
     },
     "metadata": {},
     "output_type": "display_data"
    },
    {
     "name": "stdout",
     "output_type": "stream",
     "text": [
      "  Validation RMSE: 21.342640\n",
      "  Validation RMSE Decreased(21.989560--->21.342640)\n",
      "  Best Model file path: /notebooks/artifacts/20230118_UTAE_Sentinel-2all_B32_resume_BEST.pt\n",
      "Epoch 4\n"
     ]
    },
    {
     "data": {
      "application/vnd.jupyter.widget-view+json": {
       "model_id": "37b96e9d67e44ca6ba3b3867d5cc8bfd",
       "version_major": 2,
       "version_minor": 0
      },
      "text/plain": [
       "  0%|          | 0/869 [00:00<?, ?it/s]"
      ]
     },
     "metadata": {},
     "output_type": "display_data"
    },
    {
     "name": "stdout",
     "output_type": "stream",
     "text": [
      "  Training time: 868.7869493961334\n",
      "  Model file path: /notebooks/artifacts/20230118_UTAE_Sentinel-2all_B32_resume_E9.pt\n"
     ]
    },
    {
     "data": {
      "application/vnd.jupyter.widget-view+json": {
       "model_id": "068a134ecc124936a8b48205db121be9",
       "version_major": 2,
       "version_minor": 0
      },
      "text/plain": [
       "  0%|          | 0/109 [00:00<?, ?it/s]"
      ]
     },
     "metadata": {},
     "output_type": "display_data"
    },
    {
     "name": "stdout",
     "output_type": "stream",
     "text": [
      "  Validation RMSE: 20.668860\n",
      "  Validation RMSE Decreased(21.342640--->20.668860)\n",
      "  Best Model file path: /notebooks/artifacts/20230118_UTAE_Sentinel-2all_B32_resume_BEST.pt\n",
      "Epoch 5\n"
     ]
    },
    {
     "data": {
      "application/vnd.jupyter.widget-view+json": {
       "model_id": "f62d64b9467d4883963056f416e3ae25",
       "version_major": 2,
       "version_minor": 0
      },
      "text/plain": [
       "  0%|          | 0/869 [00:00<?, ?it/s]"
      ]
     },
     "metadata": {},
     "output_type": "display_data"
    },
    {
     "name": "stdout",
     "output_type": "stream",
     "text": [
      "  Training time: 846.2696478366852\n",
      "  Model file path: /notebooks/artifacts/20230118_UTAE_Sentinel-2all_B32_resume_E10.pt\n"
     ]
    },
    {
     "data": {
      "application/vnd.jupyter.widget-view+json": {
       "model_id": "5b9d73b7c26147e09f03cd10a7a0cb9e",
       "version_major": 2,
       "version_minor": 0
      },
      "text/plain": [
       "  0%|          | 0/109 [00:00<?, ?it/s]"
      ]
     },
     "metadata": {},
     "output_type": "display_data"
    },
    {
     "name": "stdout",
     "output_type": "stream",
     "text": [
      "  Validation RMSE: 20.031980\n",
      "  Validation RMSE Decreased(20.668860--->20.031980)\n",
      "  Best Model file path: /notebooks/artifacts/20230118_UTAE_Sentinel-2all_B32_resume_BEST.pt\n",
      "Epoch 6\n"
     ]
    },
    {
     "data": {
      "application/vnd.jupyter.widget-view+json": {
       "model_id": "28074aa886dc4bf8b916871c4cb34863",
       "version_major": 2,
       "version_minor": 0
      },
      "text/plain": [
       "  0%|          | 0/869 [00:00<?, ?it/s]"
      ]
     },
     "metadata": {},
     "output_type": "display_data"
    },
    {
     "name": "stdout",
     "output_type": "stream",
     "text": [
      "  Training time: 875.7249212265015\n",
      "  Model file path: /notebooks/artifacts/20230118_UTAE_Sentinel-2all_B32_resume_E11.pt\n"
     ]
    },
    {
     "data": {
      "application/vnd.jupyter.widget-view+json": {
       "model_id": "1b532fc9dd5749fabb3d0131db850abd",
       "version_major": 2,
       "version_minor": 0
      },
      "text/plain": [
       "  0%|          | 0/109 [00:00<?, ?it/s]"
      ]
     },
     "metadata": {},
     "output_type": "display_data"
    },
    {
     "name": "stdout",
     "output_type": "stream",
     "text": [
      "  Validation RMSE: 19.420370\n",
      "  Validation RMSE Decreased(20.031980--->19.420370)\n",
      "  Best Model file path: /notebooks/artifacts/20230118_UTAE_Sentinel-2all_B32_resume_BEST.pt\n",
      "Epoch 7\n"
     ]
    },
    {
     "data": {
      "application/vnd.jupyter.widget-view+json": {
       "model_id": "329f96db86304e11a26bc0978f35284b",
       "version_major": 2,
       "version_minor": 0
      },
      "text/plain": [
       "  0%|          | 0/869 [00:00<?, ?it/s]"
      ]
     },
     "metadata": {},
     "output_type": "display_data"
    },
    {
     "name": "stdout",
     "output_type": "stream",
     "text": [
      "  Training time: 873.7554521560669\n",
      "  Model file path: /notebooks/artifacts/20230118_UTAE_Sentinel-2all_B32_resume_E12.pt\n"
     ]
    },
    {
     "data": {
      "application/vnd.jupyter.widget-view+json": {
       "model_id": "389d206849cc4908b18ada56ab67b82d",
       "version_major": 2,
       "version_minor": 0
      },
      "text/plain": [
       "  0%|          | 0/109 [00:00<?, ?it/s]"
      ]
     },
     "metadata": {},
     "output_type": "display_data"
    },
    {
     "name": "stdout",
     "output_type": "stream",
     "text": [
      "  Validation RMSE: 18.784620\n",
      "  Validation RMSE Decreased(19.420370--->18.784620)\n",
      "  Best Model file path: /notebooks/artifacts/20230118_UTAE_Sentinel-2all_B32_resume_BEST.pt\n",
      "Epoch 8\n"
     ]
    },
    {
     "data": {
      "application/vnd.jupyter.widget-view+json": {
       "model_id": "cec4089aa52148c2abc1c897c6582d98",
       "version_major": 2,
       "version_minor": 0
      },
      "text/plain": [
       "  0%|          | 0/869 [00:00<?, ?it/s]"
      ]
     },
     "metadata": {},
     "output_type": "display_data"
    },
    {
     "name": "stdout",
     "output_type": "stream",
     "text": [
      "  Training time: 850.6407158374786\n",
      "  Model file path: /notebooks/artifacts/20230118_UTAE_Sentinel-2all_B32_resume_E13.pt\n"
     ]
    },
    {
     "data": {
      "application/vnd.jupyter.widget-view+json": {
       "model_id": "223c61e6ceeb4cf0923e2766c23baeb1",
       "version_major": 2,
       "version_minor": 0
      },
      "text/plain": [
       "  0%|          | 0/109 [00:00<?, ?it/s]"
      ]
     },
     "metadata": {},
     "output_type": "display_data"
    },
    {
     "name": "stdout",
     "output_type": "stream",
     "text": [
      "  Validation RMSE: 18.220880\n",
      "  Validation RMSE Decreased(18.784620--->18.220880)\n",
      "  Best Model file path: /notebooks/artifacts/20230118_UTAE_Sentinel-2all_B32_resume_BEST.pt\n",
      "Epoch 9\n"
     ]
    },
    {
     "data": {
      "application/vnd.jupyter.widget-view+json": {
       "model_id": "246f15b971d44a4a873f28f90f7fa571",
       "version_major": 2,
       "version_minor": 0
      },
      "text/plain": [
       "  0%|          | 0/869 [00:00<?, ?it/s]"
      ]
     },
     "metadata": {},
     "output_type": "display_data"
    },
    {
     "name": "stdout",
     "output_type": "stream",
     "text": [
      "  Training time: 849.4932560920715\n",
      "  Model file path: /notebooks/artifacts/20230118_UTAE_Sentinel-2all_B32_resume_E14.pt\n"
     ]
    },
    {
     "data": {
      "application/vnd.jupyter.widget-view+json": {
       "model_id": "fc49aa7c20bd4430aabf998075d8e46e",
       "version_major": 2,
       "version_minor": 0
      },
      "text/plain": [
       "  0%|          | 0/109 [00:00<?, ?it/s]"
      ]
     },
     "metadata": {},
     "output_type": "display_data"
    },
    {
     "name": "stdout",
     "output_type": "stream",
     "text": [
      "  Validation RMSE: 17.630090\n",
      "  Validation RMSE Decreased(18.220880--->17.630090)\n",
      "  Best Model file path: /notebooks/artifacts/20230118_UTAE_Sentinel-2all_B32_resume_BEST.pt\n",
      "Epoch 10\n"
     ]
    },
    {
     "data": {
      "application/vnd.jupyter.widget-view+json": {
       "model_id": "63e28d05cf9a4436acdcb59996cd3e31",
       "version_major": 2,
       "version_minor": 0
      },
      "text/plain": [
       "  0%|          | 0/869 [00:00<?, ?it/s]"
      ]
     },
     "metadata": {},
     "output_type": "display_data"
    },
    {
     "name": "stdout",
     "output_type": "stream",
     "text": [
      "  Training time: 900.840512752533\n",
      "  Model file path: /notebooks/artifacts/20230118_UTAE_Sentinel-2all_B32_resume_E15.pt\n"
     ]
    },
    {
     "data": {
      "application/vnd.jupyter.widget-view+json": {
       "model_id": "7d38df09249b402c858b95edc3b72971",
       "version_major": 2,
       "version_minor": 0
      },
      "text/plain": [
       "  0%|          | 0/109 [00:00<?, ?it/s]"
      ]
     },
     "metadata": {},
     "output_type": "display_data"
    },
    {
     "name": "stdout",
     "output_type": "stream",
     "text": [
      "  Validation RMSE: 17.053880\n",
      "  Validation RMSE Decreased(17.630090--->17.053880)\n",
      "  Best Model file path: /notebooks/artifacts/20230118_UTAE_Sentinel-2all_B32_resume_BEST.pt\n",
      "Epoch 11\n"
     ]
    },
    {
     "data": {
      "application/vnd.jupyter.widget-view+json": {
       "model_id": "3dc8218ca2a447748554e694eeba8608",
       "version_major": 2,
       "version_minor": 0
      },
      "text/plain": [
       "  0%|          | 0/869 [00:00<?, ?it/s]"
      ]
     },
     "metadata": {},
     "output_type": "display_data"
    }
   ],
   "source": [
    "dataset = \"Sentinel-2all\"\n",
    "mixed_precision = \"fp16\"\n",
    "seed = 123\n",
    "batch_size = 8\n",
    "gradient_accumulation_steps = 4\n",
    "nb_epochs = 15\n",
    "train_mode = \"resume\"\n",
    "\n",
    "artifacts_dir = \"/notebooks/artifacts\"\n",
    "model_name = \"UTAE\"\n",
    "date = \"20230118\"\n",
    "pretrained_weights_path = artifacts_dir + \"/pretrained_utae/f1model.pth.tar\"  # for fine tuning\n",
    "saved_state_path = artifacts_dir + \"/20230118_UTAE_Sentinel-2all_B32_tune_E5.pt\"  # for resuming training\n",
    "\n",
    "save_path = artifacts_dir + (f\"/{date}_{model_name}_{dataset}_B\"\n",
    "        f\"{batch_size * gradient_accumulation_steps}_{train_mode}.pt\")\n",
    "best_model_path = save_path[:-3] + \"_BEST.pt\"\n",
    "\n",
    "# Notebook Launcher for distributed training\n",
    "train_args = (dataset, mixed_precision, seed, batch_size, gradient_accumulation_steps, nb_epochs, train_mode)\n",
    "notebook_launcher(training_loop, train_args, num_processes=1)"
   ]
  },
  {
   "cell_type": "raw",
   "metadata": {
    "tags": []
   },
   "source": [
    "##### Save the metrics to a file\n",
    "train_metrics_zipped = list(zip(np.arange(0, len(train_metrics)), train_metrics))\n",
    "metrics = {'training': train_metrics_zipped, 'validation': val_metrics}\n",
    "train_metrics_df = pd.DataFrame(metrics['training'], columns=[\"step\", \"score\"])\n",
    "val_metrics_df = pd.DataFrame(metrics[\"validation\"], columns=[\"step\", \"score\"])\n",
    "train_metrics_df.to_csv(artifacts_dir + \"/train_metrics.csv\")\n",
    "val_metrics_df.to_csv(artifacts_dir + \"/val_metrics.csv\")"
   ]
  }
 ],
 "metadata": {
  "kernelspec": {
   "display_name": "Python 3 (ipykernel)",
   "language": "python",
   "name": "python3"
  },
  "language_info": {
   "codemirror_mode": {
    "name": "ipython",
    "version": 3
   },
   "file_extension": ".py",
   "mimetype": "text/x-python",
   "name": "python",
   "nbconvert_exporter": "python",
   "pygments_lexer": "ipython3",
   "version": "3.9.13"
  },
  "vscode": {
   "interpreter": {
    "hash": "aee8b7b246df8f9039afb4144a1f6fd8d2ca17a180786b69acc140d282b71a49"
   }
  }
 },
 "nbformat": 4,
 "nbformat_minor": 4
}
