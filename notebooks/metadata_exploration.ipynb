{
 "cells": [
  {
   "cell_type": "markdown",
   "metadata": {},
   "source": [
    "# Feature and Target Metadata Exploration"
   ]
  },
  {
   "cell_type": "markdown",
   "metadata": {},
   "source": [
    "This notebook explores the metadata provided with the competition. There are two metadata files, 1. `features_metadata.csv` contains the metadata about the inputs (satellite images) and identifiers for training and testing images, along with other information and 2. `train_agbm_metadata.csv`, which contains the metadata for each target output image."
   ]
  },
  {
   "cell_type": "markdown",
   "metadata": {},
   "source": [
    "This notebook uses exploration to answer questions about the data, broadly, i.e., at a metadata level. For instance,\n",
    "\n",
    "- What is the train/test split?\n",
    "- How similar are the train/test images in terms of coverage, etc.?\n",
    "- Each `chip` contains multiple images that make up the input and one output AGBM image. What is the coverage of images for each `chip`?\n",
    "- What is the time range of data acquisition and prediction?\n",
    "\n",
    "At a per-image level, I'm interested in knowing things like,\n",
    "\n",
    "- What does each image look like? How are the different channels, bands represented in the image?\n",
    "- How does each input pixel map to the AGBM ground truth value?\n",
    "- How are the images split between the satellites (S1 and S2)?"
   ]
  },
  {
   "cell_type": "markdown",
   "metadata": {},
   "source": [
    "## Steps\n",
    "\n",
    "1. Features Metadata Exploration\n",
    "   - Load data with Pandas\n",
    "   - Groupby train/test\n",
    "   - Note shapes of train/test sets"
   ]
  },
  {
   "cell_type": "code",
   "execution_count": 1,
   "metadata": {},
   "outputs": [],
   "source": [
    "from pathlib import Path\n",
    "\n",
    "import pandas as pd"
   ]
  },
  {
   "cell_type": "code",
   "execution_count": 4,
   "metadata": {},
   "outputs": [
    {
     "name": "stdout",
     "output_type": "stream",
     "text": [
      "/notebooks/data/raw/features_metadata.csv /notebooks/data/raw/train_agbm_metadata.csv\n"
     ]
    }
   ],
   "source": [
    "DATA_DIR = Path(\".\").resolve().parent / \"data/raw\" \n",
    "feature_metadata_path = DATA_DIR / \"features_metadata.csv\"\n",
    "train_agbm_path = DATA_DIR / \"train_agbm_metadata.csv\"\n",
    "print(feature_metadata_path, train_agbm_path)"
   ]
  },
  {
   "cell_type": "code",
   "execution_count": 5,
   "metadata": {},
   "outputs": [],
   "source": [
    "feat_meta = pd.read_csv(feature_metadata_path)\n",
    "agbm_meta = pd.read_csv(train_agbm_path)"
   ]
  },
  {
   "cell_type": "code",
   "execution_count": 6,
   "metadata": {},
   "outputs": [
    {
     "name": "stdout",
     "output_type": "stream",
     "text": [
      "(252426, 11)\n",
      "Index(['filename', 'chip_id', 'satellite', 'split', 'month', 'size', 'cksum',\n",
      "       's3path_us', 's3path_eu', 's3path_as', 'corresponding_agbm'],\n",
      "      dtype='object')\n",
      "<class 'pandas.core.frame.DataFrame'>\n",
      "RangeIndex: 252426 entries, 0 to 252425\n",
      "Data columns (total 11 columns):\n",
      " #   Column              Non-Null Count   Dtype \n",
      "---  ------              --------------   ----- \n",
      " 0   filename            252426 non-null  object\n",
      " 1   chip_id             252426 non-null  object\n",
      " 2   satellite           252426 non-null  object\n",
      " 3   split               252426 non-null  object\n",
      " 4   month               252426 non-null  object\n",
      " 5   size                252426 non-null  int64 \n",
      " 6   cksum               252426 non-null  int64 \n",
      " 7   s3path_us           252426 non-null  object\n",
      " 8   s3path_eu           252426 non-null  object\n",
      " 9   s3path_as           252426 non-null  object\n",
      " 10  corresponding_agbm  252426 non-null  object\n",
      "dtypes: int64(2), object(9)\n",
      "memory usage: 21.2+ MB\n",
      "None\n"
     ]
    }
   ],
   "source": [
    "print(feat_meta.shape)\n",
    "print(feat_meta.columns)\n",
    "print(feat_meta.info())"
   ]
  },
  {
   "cell_type": "code",
   "execution_count": 7,
   "metadata": {},
   "outputs": [
    {
     "data": {
      "text/html": [
       "<div>\n",
       "<style scoped>\n",
       "    .dataframe tbody tr th:only-of-type {\n",
       "        vertical-align: middle;\n",
       "    }\n",
       "\n",
       "    .dataframe tbody tr th {\n",
       "        vertical-align: top;\n",
       "    }\n",
       "\n",
       "    .dataframe thead th {\n",
       "        text-align: right;\n",
       "    }\n",
       "</style>\n",
       "<table border=\"1\" class=\"dataframe\">\n",
       "  <thead>\n",
       "    <tr style=\"text-align: right;\">\n",
       "      <th></th>\n",
       "      <th>filename</th>\n",
       "      <th>chip_id</th>\n",
       "      <th>satellite</th>\n",
       "      <th>split</th>\n",
       "      <th>month</th>\n",
       "      <th>size</th>\n",
       "      <th>cksum</th>\n",
       "      <th>s3path_us</th>\n",
       "      <th>s3path_eu</th>\n",
       "      <th>s3path_as</th>\n",
       "      <th>corresponding_agbm</th>\n",
       "    </tr>\n",
       "  </thead>\n",
       "  <tbody>\n",
       "    <tr>\n",
       "      <th>0</th>\n",
       "      <td>0003d2eb_S1_00.tif</td>\n",
       "      <td>0003d2eb</td>\n",
       "      <td>S1</td>\n",
       "      <td>train</td>\n",
       "      <td>September</td>\n",
       "      <td>1049524</td>\n",
       "      <td>3953454613</td>\n",
       "      <td>s3://drivendata-competition-biomassters-public...</td>\n",
       "      <td>s3://drivendata-competition-biomassters-public...</td>\n",
       "      <td>s3://drivendata-competition-biomassters-public...</td>\n",
       "      <td>0003d2eb_agbm.tif</td>\n",
       "    </tr>\n",
       "    <tr>\n",
       "      <th>1</th>\n",
       "      <td>0003d2eb_S1_01.tif</td>\n",
       "      <td>0003d2eb</td>\n",
       "      <td>S1</td>\n",
       "      <td>train</td>\n",
       "      <td>October</td>\n",
       "      <td>1049524</td>\n",
       "      <td>3531005382</td>\n",
       "      <td>s3://drivendata-competition-biomassters-public...</td>\n",
       "      <td>s3://drivendata-competition-biomassters-public...</td>\n",
       "      <td>s3://drivendata-competition-biomassters-public...</td>\n",
       "      <td>0003d2eb_agbm.tif</td>\n",
       "    </tr>\n",
       "    <tr>\n",
       "      <th>2</th>\n",
       "      <td>0003d2eb_S1_02.tif</td>\n",
       "      <td>0003d2eb</td>\n",
       "      <td>S1</td>\n",
       "      <td>train</td>\n",
       "      <td>November</td>\n",
       "      <td>1049524</td>\n",
       "      <td>1401197002</td>\n",
       "      <td>s3://drivendata-competition-biomassters-public...</td>\n",
       "      <td>s3://drivendata-competition-biomassters-public...</td>\n",
       "      <td>s3://drivendata-competition-biomassters-public...</td>\n",
       "      <td>0003d2eb_agbm.tif</td>\n",
       "    </tr>\n",
       "    <tr>\n",
       "      <th>3</th>\n",
       "      <td>0003d2eb_S1_03.tif</td>\n",
       "      <td>0003d2eb</td>\n",
       "      <td>S1</td>\n",
       "      <td>train</td>\n",
       "      <td>December</td>\n",
       "      <td>1049524</td>\n",
       "      <td>3253084255</td>\n",
       "      <td>s3://drivendata-competition-biomassters-public...</td>\n",
       "      <td>s3://drivendata-competition-biomassters-public...</td>\n",
       "      <td>s3://drivendata-competition-biomassters-public...</td>\n",
       "      <td>0003d2eb_agbm.tif</td>\n",
       "    </tr>\n",
       "    <tr>\n",
       "      <th>4</th>\n",
       "      <td>0003d2eb_S1_04.tif</td>\n",
       "      <td>0003d2eb</td>\n",
       "      <td>S1</td>\n",
       "      <td>train</td>\n",
       "      <td>January</td>\n",
       "      <td>1049524</td>\n",
       "      <td>2467836265</td>\n",
       "      <td>s3://drivendata-competition-biomassters-public...</td>\n",
       "      <td>s3://drivendata-competition-biomassters-public...</td>\n",
       "      <td>s3://drivendata-competition-biomassters-public...</td>\n",
       "      <td>0003d2eb_agbm.tif</td>\n",
       "    </tr>\n",
       "  </tbody>\n",
       "</table>\n",
       "</div>"
      ],
      "text/plain": [
       "             filename   chip_id satellite  split      month     size  \\\n",
       "0  0003d2eb_S1_00.tif  0003d2eb        S1  train  September  1049524   \n",
       "1  0003d2eb_S1_01.tif  0003d2eb        S1  train    October  1049524   \n",
       "2  0003d2eb_S1_02.tif  0003d2eb        S1  train   November  1049524   \n",
       "3  0003d2eb_S1_03.tif  0003d2eb        S1  train   December  1049524   \n",
       "4  0003d2eb_S1_04.tif  0003d2eb        S1  train    January  1049524   \n",
       "\n",
       "        cksum                                          s3path_us  \\\n",
       "0  3953454613  s3://drivendata-competition-biomassters-public...   \n",
       "1  3531005382  s3://drivendata-competition-biomassters-public...   \n",
       "2  1401197002  s3://drivendata-competition-biomassters-public...   \n",
       "3  3253084255  s3://drivendata-competition-biomassters-public...   \n",
       "4  2467836265  s3://drivendata-competition-biomassters-public...   \n",
       "\n",
       "                                           s3path_eu  \\\n",
       "0  s3://drivendata-competition-biomassters-public...   \n",
       "1  s3://drivendata-competition-biomassters-public...   \n",
       "2  s3://drivendata-competition-biomassters-public...   \n",
       "3  s3://drivendata-competition-biomassters-public...   \n",
       "4  s3://drivendata-competition-biomassters-public...   \n",
       "\n",
       "                                           s3path_as corresponding_agbm  \n",
       "0  s3://drivendata-competition-biomassters-public...  0003d2eb_agbm.tif  \n",
       "1  s3://drivendata-competition-biomassters-public...  0003d2eb_agbm.tif  \n",
       "2  s3://drivendata-competition-biomassters-public...  0003d2eb_agbm.tif  \n",
       "3  s3://drivendata-competition-biomassters-public...  0003d2eb_agbm.tif  \n",
       "4  s3://drivendata-competition-biomassters-public...  0003d2eb_agbm.tif  "
      ]
     },
     "execution_count": 7,
     "metadata": {},
     "output_type": "execute_result"
    }
   ],
   "source": [
    "feat_meta.head()"
   ]
  },
  {
   "cell_type": "code",
   "execution_count": 8,
   "metadata": {},
   "outputs": [
    {
     "data": {
      "text/plain": [
       "dict_keys(['test', 'train'])"
      ]
     },
     "execution_count": 8,
     "metadata": {},
     "output_type": "execute_result"
    }
   ],
   "source": [
    "groups = feat_meta.groupby(\"split\")\n",
    "groups.groups.keys()"
   ]
  },
  {
   "cell_type": "code",
   "execution_count": 9,
   "metadata": {},
   "outputs": [],
   "source": [
    "train_set = groups.get_group(\"train\")\n",
    "test_set = groups.get_group(\"test\")"
   ]
  },
  {
   "cell_type": "code",
   "execution_count": 10,
   "metadata": {},
   "outputs": [
    {
     "name": "stdout",
     "output_type": "stream",
     "text": [
      "Train set: (189078, 11)\n",
      "Test set: (63348, 11)\n"
     ]
    }
   ],
   "source": [
    "print(f\"Train set: {train_set.shape}\")\n",
    "print(f\"Test set: {test_set.shape}\")"
   ]
  },
  {
   "cell_type": "code",
   "execution_count": 11,
   "metadata": {},
   "outputs": [],
   "source": [
    "test_chips = test_set.groupby(\"chip_id\")\n",
    "train_chips = train_set.groupby(\"chip_id\")"
   ]
  },
  {
   "cell_type": "code",
   "execution_count": 12,
   "metadata": {},
   "outputs": [],
   "source": [
    "test_file_counts = test_chips.count().filename\n",
    "train_file_counts = train_chips.count().filename"
   ]
  },
  {
   "cell_type": "code",
   "execution_count": 13,
   "metadata": {},
   "outputs": [
    {
     "name": "stdout",
     "output_type": "stream",
     "text": [
      "Unique chip_ids in training: (8689,)\n",
      "Unique chip_ids in testing: (2773,)\n",
      "Train Images Min and Max Samples per image:\n",
      "17\n",
      "24\n",
      "Test Images Min and Max Samples per image:\n",
      "21\n",
      "24\n"
     ]
    }
   ],
   "source": [
    "print(f\"Unique chip_ids in training: {train_file_counts.shape}\")\n",
    "print(f\"Unique chip_ids in testing: {test_file_counts.shape}\")\n",
    "print(\"Train Images Min and Max Samples per image:\")\n",
    "print(train_file_counts.min())\n",
    "print(train_file_counts.max())\n",
    "print(\"Test Images Min and Max Samples per image:\")\n",
    "print(test_file_counts.min())\n",
    "print(test_file_counts.max())"
   ]
  },
  {
   "cell_type": "code",
   "execution_count": 14,
   "metadata": {},
   "outputs": [],
   "source": [
    "# Satellite images for each chip\n",
    "train_chip_sat = train_set.groupby([\"chip_id\", \"satellite\"])"
   ]
  },
  {
   "cell_type": "code",
   "execution_count": 15,
   "metadata": {},
   "outputs": [
    {
     "data": {
      "text/plain": [
       "chip_id   satellite\n",
       "0003d2eb  S1           12\n",
       "          S2            9\n",
       "000aa810  S1           12\n",
       "          S2            6\n",
       "000d7e33  S1           12\n",
       "                       ..\n",
       "ffc7d4f2  S2           11\n",
       "ffd8db7a  S1           12\n",
       "          S2           11\n",
       "fff05995  S1           12\n",
       "          S2           11\n",
       "Name: filename, Length: 17378, dtype: int64"
      ]
     },
     "execution_count": 15,
     "metadata": {},
     "output_type": "execute_result"
    }
   ],
   "source": [
    "train_chip_sat.count().filename"
   ]
  },
  {
   "cell_type": "code",
   "execution_count": 16,
   "metadata": {},
   "outputs": [
    {
     "name": "stdout",
     "output_type": "stream",
     "text": [
      "(8689, 7)\n",
      "Index(['filename', 'chip_id', 'size', 'cksum', 's3path_us', 's3path_eu',\n",
      "       's3path_as'],\n",
      "      dtype='object')\n",
      "<class 'pandas.core.frame.DataFrame'>\n",
      "RangeIndex: 8689 entries, 0 to 8688\n",
      "Data columns (total 7 columns):\n",
      " #   Column     Non-Null Count  Dtype \n",
      "---  ------     --------------  ----- \n",
      " 0   filename   8689 non-null   object\n",
      " 1   chip_id    8689 non-null   object\n",
      " 2   size       8689 non-null   int64 \n",
      " 3   cksum      8689 non-null   int64 \n",
      " 4   s3path_us  8689 non-null   object\n",
      " 5   s3path_eu  8689 non-null   object\n",
      " 6   s3path_as  8689 non-null   object\n",
      "dtypes: int64(2), object(5)\n",
      "memory usage: 475.3+ KB\n",
      "None\n"
     ]
    }
   ],
   "source": [
    "print(agbm_meta.shape)\n",
    "print(agbm_meta.columns)\n",
    "print(agbm_meta.info())"
   ]
  },
  {
   "cell_type": "code",
   "execution_count": 17,
   "metadata": {},
   "outputs": [
    {
     "data": {
      "text/html": [
       "<div>\n",
       "<style scoped>\n",
       "    .dataframe tbody tr th:only-of-type {\n",
       "        vertical-align: middle;\n",
       "    }\n",
       "\n",
       "    .dataframe tbody tr th {\n",
       "        vertical-align: top;\n",
       "    }\n",
       "\n",
       "    .dataframe thead th {\n",
       "        text-align: right;\n",
       "    }\n",
       "</style>\n",
       "<table border=\"1\" class=\"dataframe\">\n",
       "  <thead>\n",
       "    <tr style=\"text-align: right;\">\n",
       "      <th></th>\n",
       "      <th>filename</th>\n",
       "      <th>chip_id</th>\n",
       "      <th>size</th>\n",
       "      <th>cksum</th>\n",
       "      <th>s3path_us</th>\n",
       "      <th>s3path_eu</th>\n",
       "      <th>s3path_as</th>\n",
       "    </tr>\n",
       "  </thead>\n",
       "  <tbody>\n",
       "    <tr>\n",
       "      <th>0</th>\n",
       "      <td>0003d2eb_agbm.tif</td>\n",
       "      <td>0003d2eb</td>\n",
       "      <td>262482</td>\n",
       "      <td>2036246549</td>\n",
       "      <td>s3://drivendata-competition-biomassters-public...</td>\n",
       "      <td>s3://drivendata-competition-biomassters-public...</td>\n",
       "      <td>s3://drivendata-competition-biomassters-public...</td>\n",
       "    </tr>\n",
       "    <tr>\n",
       "      <th>1</th>\n",
       "      <td>000aa810_agbm.tif</td>\n",
       "      <td>000aa810</td>\n",
       "      <td>262482</td>\n",
       "      <td>2858468457</td>\n",
       "      <td>s3://drivendata-competition-biomassters-public...</td>\n",
       "      <td>s3://drivendata-competition-biomassters-public...</td>\n",
       "      <td>s3://drivendata-competition-biomassters-public...</td>\n",
       "    </tr>\n",
       "    <tr>\n",
       "      <th>2</th>\n",
       "      <td>000d7e33_agbm.tif</td>\n",
       "      <td>000d7e33</td>\n",
       "      <td>262482</td>\n",
       "      <td>277850822</td>\n",
       "      <td>s3://drivendata-competition-biomassters-public...</td>\n",
       "      <td>s3://drivendata-competition-biomassters-public...</td>\n",
       "      <td>s3://drivendata-competition-biomassters-public...</td>\n",
       "    </tr>\n",
       "    <tr>\n",
       "      <th>3</th>\n",
       "      <td>00184691_agbm.tif</td>\n",
       "      <td>00184691</td>\n",
       "      <td>262482</td>\n",
       "      <td>3502312579</td>\n",
       "      <td>s3://drivendata-competition-biomassters-public...</td>\n",
       "      <td>s3://drivendata-competition-biomassters-public...</td>\n",
       "      <td>s3://drivendata-competition-biomassters-public...</td>\n",
       "    </tr>\n",
       "    <tr>\n",
       "      <th>4</th>\n",
       "      <td>001b0634_agbm.tif</td>\n",
       "      <td>001b0634</td>\n",
       "      <td>262482</td>\n",
       "      <td>2397957274</td>\n",
       "      <td>s3://drivendata-competition-biomassters-public...</td>\n",
       "      <td>s3://drivendata-competition-biomassters-public...</td>\n",
       "      <td>s3://drivendata-competition-biomassters-public...</td>\n",
       "    </tr>\n",
       "  </tbody>\n",
       "</table>\n",
       "</div>"
      ],
      "text/plain": [
       "            filename   chip_id    size       cksum  \\\n",
       "0  0003d2eb_agbm.tif  0003d2eb  262482  2036246549   \n",
       "1  000aa810_agbm.tif  000aa810  262482  2858468457   \n",
       "2  000d7e33_agbm.tif  000d7e33  262482   277850822   \n",
       "3  00184691_agbm.tif  00184691  262482  3502312579   \n",
       "4  001b0634_agbm.tif  001b0634  262482  2397957274   \n",
       "\n",
       "                                           s3path_us  \\\n",
       "0  s3://drivendata-competition-biomassters-public...   \n",
       "1  s3://drivendata-competition-biomassters-public...   \n",
       "2  s3://drivendata-competition-biomassters-public...   \n",
       "3  s3://drivendata-competition-biomassters-public...   \n",
       "4  s3://drivendata-competition-biomassters-public...   \n",
       "\n",
       "                                           s3path_eu  \\\n",
       "0  s3://drivendata-competition-biomassters-public...   \n",
       "1  s3://drivendata-competition-biomassters-public...   \n",
       "2  s3://drivendata-competition-biomassters-public...   \n",
       "3  s3://drivendata-competition-biomassters-public...   \n",
       "4  s3://drivendata-competition-biomassters-public...   \n",
       "\n",
       "                                           s3path_as  \n",
       "0  s3://drivendata-competition-biomassters-public...  \n",
       "1  s3://drivendata-competition-biomassters-public...  \n",
       "2  s3://drivendata-competition-biomassters-public...  \n",
       "3  s3://drivendata-competition-biomassters-public...  \n",
       "4  s3://drivendata-competition-biomassters-public...  "
      ]
     },
     "execution_count": 17,
     "metadata": {},
     "output_type": "execute_result"
    }
   ],
   "source": [
    "agbm_meta.head()"
   ]
  },
  {
   "cell_type": "code",
   "execution_count": 18,
   "metadata": {},
   "outputs": [
    {
     "data": {
      "text/plain": [
       "satellite  month    \n",
       "S1         April        8689\n",
       "           August       8689\n",
       "           December     8689\n",
       "           February     8689\n",
       "           January      8689\n",
       "           July         8689\n",
       "           June         8689\n",
       "           March        8689\n",
       "           May          8689\n",
       "           November     8689\n",
       "           October      8689\n",
       "           September    8689\n",
       "S2         April        8689\n",
       "           August       8689\n",
       "           December     1251\n",
       "           February     6860\n",
       "           January      5242\n",
       "           July         8689\n",
       "           June         8689\n",
       "           March        8171\n",
       "           May          8689\n",
       "           November     6121\n",
       "           October      6860\n",
       "           September    6860\n",
       "Name: filename, dtype: int64"
      ]
     },
     "execution_count": 18,
     "metadata": {},
     "output_type": "execute_result"
    }
   ],
   "source": [
    "# Data Grouped by satellite and months to identify coverage for each month\n",
    "train_sat_month = train_set.groupby([\"satellite\", \"month\"])\n",
    "train_sat_month.count().filename"
   ]
  },
  {
   "cell_type": "markdown",
   "metadata": {},
   "source": [
    "## Data Preperation\n",
    "\n",
    "The file `features_metadata.csv` contains both the training and the testing samples. So, one thing to do is to split the file into two or create a custom `dataset` class for iterating through the data and handling the trainig and testing splits.\n",
    "\n",
    "Each input image, regardless of it being a train or test set, have an associated entry in the column `corresponding_agbm` column, which contains the target output for that sample. Even though testing samples have an entry for `corresponding_agbm` column, they are not available."
   ]
  },
  {
   "cell_type": "code",
   "execution_count": null,
   "metadata": {},
   "outputs": [],
   "source": []
  },
  {
   "cell_type": "markdown",
   "metadata": {},
   "source": [
    "## Sample Images"
   ]
  },
  {
   "cell_type": "code",
   "execution_count": 17,
   "metadata": {},
   "outputs": [],
   "source": [
    "import rasterio\n",
    "from PIL import Image\n",
    "import numpy as np"
   ]
  },
  {
   "cell_type": "code",
   "execution_count": 6,
   "metadata": {},
   "outputs": [],
   "source": [
    "sat1_img = \"../data/samples/001b0634_S1_00.tif\"\n",
    "sat2_img = \"../data/samples/001b0634_S2_00.tif\"\n",
    "agbm_img = \"../data/samples/001b0634_agbm.tif\""
   ]
  },
  {
   "cell_type": "code",
   "execution_count": 8,
   "metadata": {},
   "outputs": [
    {
     "name": "stderr",
     "output_type": "stream",
     "text": [
      "/usr/local/lib/python3.9/dist-packages/rasterio/__init__.py:304: NotGeoreferencedWarning: Dataset has no geotransform, gcps, or rpcs. The identity matrix will be returned.\n",
      "  dataset = DatasetReader(path, driver=driver, sharing=sharing, **kwargs)\n"
     ]
    }
   ],
   "source": [
    "s1img = rasterio.open(sat1_img)"
   ]
  },
  {
   "cell_type": "code",
   "execution_count": 9,
   "metadata": {},
   "outputs": [
    {
     "name": "stdout",
     "output_type": "stream",
     "text": [
      "Bands: 4\n",
      "Band Shape: (256, 256)\n",
      "Band Data Types: [(1, 'float32'), (2, 'float32'), (3, 'float32'), (4, 'float32')]\n"
     ]
    }
   ],
   "source": [
    "print(f\"Bands: {s1img.count}\")\n",
    "print(f\"Band Shape: {s1img.shape}\") # also accessible via .height and .width attributes\n",
    "print(f\"Band Data Types: {list(zip(s1img.indexes, s1img.dtypes))}\")"
   ]
  },
  {
   "cell_type": "code",
   "execution_count": 11,
   "metadata": {},
   "outputs": [
    {
     "data": {
      "text/plain": [
       "[(2, 256), (2, 256), (2, 256), (2, 256)]"
      ]
     },
     "execution_count": 11,
     "metadata": {},
     "output_type": "execute_result"
    }
   ],
   "source": [
    "s1img.block_shapes"
   ]
  },
  {
   "cell_type": "code",
   "execution_count": 14,
   "metadata": {},
   "outputs": [
    {
     "data": {
      "text/plain": [
       "(256.0, 256.0)"
      ]
     },
     "execution_count": 14,
     "metadata": {},
     "output_type": "execute_result"
    }
   ],
   "source": [
    "s1img.transform * (s1img.width, s1img.height)"
   ]
  },
  {
   "cell_type": "code",
   "execution_count": 18,
   "metadata": {},
   "outputs": [],
   "source": [
    "b1 = s1img.read(1)"
   ]
  },
  {
   "cell_type": "code",
   "execution_count": 25,
   "metadata": {},
   "outputs": [
    {
     "name": "stdout",
     "output_type": "stream",
     "text": [
      "-21.424826\n",
      "0.7024942\n"
     ]
    }
   ],
   "source": [
    "print(b1.min())\n",
    "print(b1.max())"
   ]
  },
  {
   "cell_type": "code",
   "execution_count": 21,
   "metadata": {},
   "outputs": [],
   "source": [
    "img = Image.fromarray(b1)"
   ]
  },
  {
   "cell_type": "code",
   "execution_count": 39,
   "metadata": {},
   "outputs": [
    {
     "name": "stdout",
     "output_type": "stream",
     "text": [
      "Bands: 1\n",
      "Band Shape: (256, 256)\n",
      "Band Data Types: [(1, 'float32')]\n"
     ]
    },
    {
     "name": "stderr",
     "output_type": "stream",
     "text": [
      "/usr/local/lib/python3.9/dist-packages/rasterio/__init__.py:304: NotGeoreferencedWarning: Dataset has no geotransform, gcps, or rpcs. The identity matrix will be returned.\n",
      "  dataset = DatasetReader(path, driver=driver, sharing=sharing, **kwargs)\n"
     ]
    }
   ],
   "source": [
    "agbm = rasterio.open(agbm_img)\n",
    "print(f\"Bands: {agbm.count}\")\n",
    "print(f\"Band Shape: {agbm.shape}\") # also accessible via .height and .width attributes\n",
    "print(f\"Band Data Types: {list(zip(agbm.indexes, agbm.dtypes))}\")"
   ]
  },
  {
   "cell_type": "code",
   "execution_count": 40,
   "metadata": {},
   "outputs": [
    {
     "data": {
      "text/plain": [
       "[1]"
      ]
     },
     "execution_count": 40,
     "metadata": {},
     "output_type": "execute_result"
    }
   ],
   "source": [
    "list(range(1, agbm.count+1))"
   ]
  },
  {
   "cell_type": "markdown",
   "metadata": {},
   "source": [
    "### MemoryIO"
   ]
  },
  {
   "cell_type": "code",
   "execution_count": 26,
   "metadata": {},
   "outputs": [],
   "source": [
    "from rasterio import MemoryFile"
   ]
  },
  {
   "cell_type": "code",
   "execution_count": 29,
   "metadata": {},
   "outputs": [],
   "source": [
    "raw_data = open(sat2_img, \"rb\").read()"
   ]
  },
  {
   "cell_type": "code",
   "execution_count": 31,
   "metadata": {},
   "outputs": [
    {
     "data": {
      "text/plain": [
       "1443550"
      ]
     },
     "execution_count": 31,
     "metadata": {},
     "output_type": "execute_result"
    }
   ],
   "source": [
    "len(raw_data)"
   ]
  },
  {
   "cell_type": "code",
   "execution_count": 32,
   "metadata": {},
   "outputs": [
    {
     "data": {
      "text/plain": [
       "b'II*\\x00\\x08\\x00\\x00\\x00\\x0c\\x00\\x00\\x01\\x03\\x00\\x01\\x00\\x00\\x00\\x00\\x01\\x00\\x00\\x01\\x01\\x03\\x00\\x01\\x00\\x00\\x00\\x00\\x01\\x00\\x00\\x02\\x01\\x03\\x00\\x0b\\x00\\x00\\x00\\x9e\\x00\\x00\\x00\\x03\\x01\\x03\\x00\\x01\\x00\\x00\\x00\\x01\\x00\\x00\\x00\\x06\\x01\\x03\\x00\\x01\\x00\\x00\\x00\\x01\\x00\\x00\\x00\\x11\\x01\\x04\\x00\\x00\\x01\\x00\\x00\\xb4\\x02\\x00\\x00\\x15\\x01\\x03\\x00\\x01\\x00\\x00\\x00\\x0b\\x00\\x00\\x00\\x16\\x01\\x03\\x00\\x01\\x00'"
      ]
     },
     "execution_count": 32,
     "metadata": {},
     "output_type": "execute_result"
    }
   ],
   "source": [
    "raw_data[:100]"
   ]
  },
  {
   "cell_type": "code",
   "execution_count": 34,
   "metadata": {},
   "outputs": [
    {
     "name": "stdout",
     "output_type": "stream",
     "text": [
      "Bands: 11\n",
      "Band Shape: (256, 256)\n",
      "Band Data Types: [(1, 'uint16'), (2, 'uint16'), (3, 'uint16'), (4, 'uint16'), (5, 'uint16'), (6, 'uint16'), (7, 'uint16'), (8, 'uint16'), (9, 'uint16'), (10, 'uint16'), (11, 'uint16')]\n"
     ]
    }
   ],
   "source": [
    "with MemoryFile(raw_data) as memfile:\n",
    "    with memfile.open() as dataset:\n",
    "        print(f\"Bands: {dataset.count}\")\n",
    "        print(f\"Band Shape: {dataset.shape}\") # also accessible via .height and .width attributes\n",
    "        print(f\"Band Data Types: {list(zip(dataset.indexes, dataset.dtypes))}\")\n",
    "        s2array = dataset.read(list(range(1, dataset.count+1)))"
   ]
  },
  {
   "cell_type": "code",
   "execution_count": 36,
   "metadata": {},
   "outputs": [
    {
     "data": {
      "text/plain": [
       "(256, 256)"
      ]
     },
     "execution_count": 36,
     "metadata": {},
     "output_type": "execute_result"
    }
   ],
   "source": [
    "s2array[0].shape"
   ]
  },
  {
   "cell_type": "code",
   "execution_count": 38,
   "metadata": {},
   "outputs": [
    {
     "data": {
      "image/png": "[encoded data removed]",
      "text/plain": [
       "<PIL.Image.Image image mode=L size=256x256>"
      ]
     },
     "metadata": {},
     "output_type": "display_data"
    }
   ],
   "source": [
    "Image.fromarray(s2array[1]).show()"
   ]
  }
 ],
 "metadata": {
  "kernelspec": {
   "display_name": "Python 3 (ipykernel)",
   "language": "python",
   "name": "python3"
  },
  "language_info": {
   "codemirror_mode": {
    "name": "ipython",
    "version": 3
   },
   "file_extension": ".py",
   "mimetype": "text/x-python",
   "name": "python",
   "nbconvert_exporter": "python",
   "pygments_lexer": "ipython3",
   "version": "3.9.15"
  }
 },
 "nbformat": 4,
 "nbformat_minor": 4
}
