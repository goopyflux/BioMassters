{
 "cells": [
  {
   "cell_type": "markdown",
   "metadata": {},
   "source": [
    "# Feature and Target Metadata Exploration"
   ]
  },
  {
   "cell_type": "markdown",
   "metadata": {},
   "source": [
    "This notebook explores the metadata provided with the competition. There are two metadata files, 1. `features_metadata.csv` contains the metadata about the inputs (satellite images) and identifiers for training and testing images, along with other information and 2. `train_agbm_metadata.csv`, which contains the metadata for each target output image."
   ]
  },
  {
   "cell_type": "markdown",
   "metadata": {},
   "source": [
    "This notebook uses exploration to answer questions about the data, broadly, i.e., at a metadata level. For instance,\n",
    "\n",
    "- What is the train/test split?\n",
    "- How similar are the train/test images in terms of coverage, etc.?\n",
    "- Each `chip` contains multiple images that make up the input and one output AGBM image. What is the coverage of images for each `chip`?\n",
    "- What is the time range of data acquisition and prediction?\n",
    "\n",
    "At a per-image level, I'm interested in knowing things like,\n",
    "\n",
    "- What does each image look like? How are the different channels, bands represented in the image?\n",
    "- How does each input pixel map to the AGBM ground truth value?\n",
    "- How are the images split between the satellites (S1 and S2)?"
   ]
  },
  {
   "cell_type": "markdown",
   "metadata": {},
   "source": [
    "## Steps\n",
    "\n",
    "1. Features Metadata Exploration\n",
    "   - Load data with Pandas\n",
    "   - Groupby train/test\n",
    "   - Note shapes of train/test sets"
   ]
  },
  {
   "cell_type": "markdown",
   "metadata": {},
   "source": [
    "## Setup"
   ]
  },
  {
   "cell_type": "code",
   "execution_count": 3,
   "metadata": {},
   "outputs": [],
   "source": [
    "from pathlib import Path\n",
    "\n",
    "import pandas as pd"
   ]
  },
  {
   "cell_type": "code",
   "execution_count": 4,
   "metadata": {},
   "outputs": [
    {
     "name": "stdout",
     "output_type": "stream",
     "text": [
      "/datasets/biomassters/features_metadata.csv /datasets/biomassters/train_agbm_metadata.csv\n"
     ]
    }
   ],
   "source": [
    "# DATA_DIR = Path(\".\").resolve().parent / \"data/raw\"  # old\n",
    "DATA_DIR = Path(\"/datasets/biomassters\")  # new with S3 as data source\n",
    "feature_metadata_path = DATA_DIR / \"features_metadata.csv\"\n",
    "train_agbm_path = DATA_DIR / \"train_agbm_metadata.csv\"\n",
    "print(feature_metadata_path, train_agbm_path)"
   ]
  },
  {
   "cell_type": "markdown",
   "metadata": {},
   "source": [
    "## Input Features Metadata Exploration"
   ]
  },
  {
   "cell_type": "code",
   "execution_count": 5,
   "metadata": {},
   "outputs": [],
   "source": [
    "# Load metadata into a Pandas DataFrame\n",
    "feat_meta_df = pd.read_csv(feature_metadata_path)"
   ]
  },
  {
   "cell_type": "code",
   "execution_count": 6,
   "metadata": {},
   "outputs": [],
   "source": [
    "def show_df_stats(df):\n",
    "    rows, cols = df.shape\n",
    "    print(f\"Rows: {rows}\\nColumns: {cols}\")\n",
    "    print(f\"Column Names: {list(df.columns)}\")\n",
    "    print(df.info())"
   ]
  },
  {
   "cell_type": "code",
   "execution_count": 7,
   "metadata": {},
   "outputs": [
    {
     "name": "stdout",
     "output_type": "stream",
     "text": [
      "Rows: 252426\n",
      "Columns: 11\n",
      "Column Names: ['filename', 'chip_id', 'satellite', 'split', 'month', 'size', 'cksum', 's3path_us', 's3path_eu', 's3path_as', 'corresponding_agbm']\n",
      "<class 'pandas.core.frame.DataFrame'>\n",
      "RangeIndex: 252426 entries, 0 to 252425\n",
      "Data columns (total 11 columns):\n",
      " #   Column              Non-Null Count   Dtype \n",
      "---  ------              --------------   ----- \n",
      " 0   filename            252426 non-null  object\n",
      " 1   chip_id             252426 non-null  object\n",
      " 2   satellite           252426 non-null  object\n",
      " 3   split               252426 non-null  object\n",
      " 4   month               252426 non-null  object\n",
      " 5   size                252426 non-null  int64 \n",
      " 6   cksum               252426 non-null  int64 \n",
      " 7   s3path_us           252426 non-null  object\n",
      " 8   s3path_eu           252426 non-null  object\n",
      " 9   s3path_as           252426 non-null  object\n",
      " 10  corresponding_agbm  252426 non-null  object\n",
      "dtypes: int64(2), object(9)\n",
      "memory usage: 21.2+ MB\n",
      "None\n"
     ]
    }
   ],
   "source": [
    "show_df_stats(feat_meta_df)"
   ]
  },
  {
   "cell_type": "code",
   "execution_count": 8,
   "metadata": {},
   "outputs": [],
   "source": [
    "# Drop unnecessary columns\n",
    "drop_cols = [\"size\", \"cksum\", \"s3path_eu\", \"s3path_as\"]\n",
    "feat_meta_df.drop(columns=drop_cols, inplace=True)"
   ]
  },
  {
   "cell_type": "code",
   "execution_count": 9,
   "metadata": {},
   "outputs": [],
   "source": [
    "# Save in Parquet/Arrow format -- skip\n",
    "# feat_meta_df.to_parquet(\"../data/features_metadata_slim.parquet\")"
   ]
  },
  {
   "cell_type": "code",
   "execution_count": 10,
   "metadata": {
    "tags": []
   },
   "outputs": [
    {
     "data": {
      "text/html": [
       "<div>\n",
       "<style scoped>\n",
       "    .dataframe tbody tr th:only-of-type {\n",
       "        vertical-align: middle;\n",
       "    }\n",
       "\n",
       "    .dataframe tbody tr th {\n",
       "        vertical-align: top;\n",
       "    }\n",
       "\n",
       "    .dataframe thead th {\n",
       "        text-align: right;\n",
       "    }\n",
       "</style>\n",
       "<table border=\"1\" class=\"dataframe\">\n",
       "  <thead>\n",
       "    <tr style=\"text-align: right;\">\n",
       "      <th></th>\n",
       "      <th>filename</th>\n",
       "      <th>chip_id</th>\n",
       "      <th>satellite</th>\n",
       "      <th>split</th>\n",
       "      <th>month</th>\n",
       "      <th>s3path_us</th>\n",
       "      <th>corresponding_agbm</th>\n",
       "    </tr>\n",
       "  </thead>\n",
       "  <tbody>\n",
       "    <tr>\n",
       "      <th>0</th>\n",
       "      <td>0003d2eb_S1_00.tif</td>\n",
       "      <td>0003d2eb</td>\n",
       "      <td>S1</td>\n",
       "      <td>train</td>\n",
       "      <td>September</td>\n",
       "      <td>s3://drivendata-competition-biomassters-public...</td>\n",
       "      <td>0003d2eb_agbm.tif</td>\n",
       "    </tr>\n",
       "    <tr>\n",
       "      <th>1</th>\n",
       "      <td>0003d2eb_S1_01.tif</td>\n",
       "      <td>0003d2eb</td>\n",
       "      <td>S1</td>\n",
       "      <td>train</td>\n",
       "      <td>October</td>\n",
       "      <td>s3://drivendata-competition-biomassters-public...</td>\n",
       "      <td>0003d2eb_agbm.tif</td>\n",
       "    </tr>\n",
       "    <tr>\n",
       "      <th>2</th>\n",
       "      <td>0003d2eb_S1_02.tif</td>\n",
       "      <td>0003d2eb</td>\n",
       "      <td>S1</td>\n",
       "      <td>train</td>\n",
       "      <td>November</td>\n",
       "      <td>s3://drivendata-competition-biomassters-public...</td>\n",
       "      <td>0003d2eb_agbm.tif</td>\n",
       "    </tr>\n",
       "    <tr>\n",
       "      <th>3</th>\n",
       "      <td>0003d2eb_S1_03.tif</td>\n",
       "      <td>0003d2eb</td>\n",
       "      <td>S1</td>\n",
       "      <td>train</td>\n",
       "      <td>December</td>\n",
       "      <td>s3://drivendata-competition-biomassters-public...</td>\n",
       "      <td>0003d2eb_agbm.tif</td>\n",
       "    </tr>\n",
       "    <tr>\n",
       "      <th>4</th>\n",
       "      <td>0003d2eb_S1_04.tif</td>\n",
       "      <td>0003d2eb</td>\n",
       "      <td>S1</td>\n",
       "      <td>train</td>\n",
       "      <td>January</td>\n",
       "      <td>s3://drivendata-competition-biomassters-public...</td>\n",
       "      <td>0003d2eb_agbm.tif</td>\n",
       "    </tr>\n",
       "  </tbody>\n",
       "</table>\n",
       "</div>"
      ],
      "text/plain": [
       "             filename   chip_id satellite  split      month  \\\n",
       "0  0003d2eb_S1_00.tif  0003d2eb        S1  train  September   \n",
       "1  0003d2eb_S1_01.tif  0003d2eb        S1  train    October   \n",
       "2  0003d2eb_S1_02.tif  0003d2eb        S1  train   November   \n",
       "3  0003d2eb_S1_03.tif  0003d2eb        S1  train   December   \n",
       "4  0003d2eb_S1_04.tif  0003d2eb        S1  train    January   \n",
       "\n",
       "                                           s3path_us corresponding_agbm  \n",
       "0  s3://drivendata-competition-biomassters-public...  0003d2eb_agbm.tif  \n",
       "1  s3://drivendata-competition-biomassters-public...  0003d2eb_agbm.tif  \n",
       "2  s3://drivendata-competition-biomassters-public...  0003d2eb_agbm.tif  \n",
       "3  s3://drivendata-competition-biomassters-public...  0003d2eb_agbm.tif  \n",
       "4  s3://drivendata-competition-biomassters-public...  0003d2eb_agbm.tif  "
      ]
     },
     "execution_count": 10,
     "metadata": {},
     "output_type": "execute_result"
    }
   ],
   "source": [
    "feat_meta_df.head()"
   ]
  },
  {
   "cell_type": "markdown",
   "metadata": {},
   "source": [
    "### Train and Test Split Details"
   ]
  },
  {
   "cell_type": "code",
   "execution_count": 11,
   "metadata": {},
   "outputs": [],
   "source": [
    "# First get rows marked as `train`, then get the shape of unique `chip_id`\n",
    "unique_train_chips = feat_meta_df[feat_meta_df.split == \"train\"].chip_id.unique().shape[0]\n",
    "# Next get rows marked as `test`, then get the shape of unique `chip_id`\n",
    "unique_test_chips = feat_meta_df[feat_meta_df.split == \"test\"].chip_id.unique().shape[0]"
   ]
  },
  {
   "cell_type": "code",
   "execution_count": 12,
   "metadata": {},
   "outputs": [
    {
     "name": "stdout",
     "output_type": "stream",
     "text": [
      "There are 8689 unique chip IDs in the training set\n",
      "There are 2773 unique chip IDs in the testing set\n"
     ]
    }
   ],
   "source": [
    "print(f\"There are {unique_train_chips} unique chip IDs in the training set\")\n",
    "print(f\"There are {unique_test_chips} unique chip IDs in the testing set\")"
   ]
  },
  {
   "cell_type": "code",
   "execution_count": 13,
   "metadata": {},
   "outputs": [],
   "source": [
    "nb_train_images = feat_meta_df[feat_meta_df.split == \"train\"].shape[0]\n",
    "nb_test_images = feat_meta_df[feat_meta_df.split == \"test\"].shape[0]"
   ]
  },
  {
   "cell_type": "code",
   "execution_count": 14,
   "metadata": {},
   "outputs": [
    {
     "name": "stdout",
     "output_type": "stream",
     "text": [
      "Number of training images = 189078\n",
      "Number of testing images = 63348\n"
     ]
    }
   ],
   "source": [
    "print(f\"Number of training images = {nb_train_images}\")\n",
    "print(f\"Number of testing images = {nb_test_images}\")"
   ]
  },
  {
   "cell_type": "markdown",
   "metadata": {},
   "source": [
    "Q: How many unique patches (chips) are in the training and testing set?\n",
    "\n",
    "A: 8689 unique patches in the training set and 2773 unique patches in the testing set."
   ]
  },
  {
   "cell_type": "markdown",
   "metadata": {},
   "source": [
    "Q: How many training and testing images are there overall?\n",
    "\n",
    "A: There are 189078 images in the training set and 63348 images in the test set. \n",
    "\n",
    "*Note that a single patch (chip) contains multiple images associated with it.*"
   ]
  },
  {
   "cell_type": "markdown",
   "metadata": {},
   "source": [
    "The training set contains 189078 images while the test set contains 63348 images."
   ]
  },
  {
   "cell_type": "markdown",
   "metadata": {},
   "source": [
    "Next, let's find out how many images are available per satellite per month. If there are no missing images, then the total for each month for each satellite must be the same as the total number of unique chip IDs in the corresponding split (i.e., train or test)."
   ]
  },
  {
   "cell_type": "code",
   "execution_count": 15,
   "metadata": {},
   "outputs": [],
   "source": [
    "train_sat_mo = feat_meta_df[feat_meta_df.split ==\"train\"].groupby([\"satellite\", \"month\"])\n",
    "test_sat_mo = feat_meta_df[feat_meta_df.split ==\"test\"].groupby([\"satellite\", \"month\"])"
   ]
  },
  {
   "cell_type": "code",
   "execution_count": 16,
   "metadata": {},
   "outputs": [
    {
     "name": "stdout",
     "output_type": "stream",
     "text": [
      "satellite  month    \n",
      "S1         April        8689\n",
      "           August       8689\n",
      "           December     8689\n",
      "           February     8689\n",
      "           January      8689\n",
      "           July         8689\n",
      "           June         8689\n",
      "           March        8689\n",
      "           May          8689\n",
      "           November     8689\n",
      "           October      8689\n",
      "           September    8689\n",
      "S2         April        8689\n",
      "           August       8689\n",
      "           December     1251\n",
      "           February     6860\n",
      "           January      5242\n",
      "           July         8689\n",
      "           June         8689\n",
      "           March        8171\n",
      "           May          8689\n",
      "           November     6121\n",
      "           October      6860\n",
      "           September    6860\n",
      "Name: chip_id, dtype: int64\n"
     ]
    }
   ],
   "source": [
    "print(train_sat_mo.count().chip_id)"
   ]
  },
  {
   "cell_type": "code",
   "execution_count": 17,
   "metadata": {},
   "outputs": [
    {
     "name": "stdout",
     "output_type": "stream",
     "text": [
      "                     filename  chip_id  split  s3path_us  corresponding_agbm\n",
      "satellite month                                                             \n",
      "S1        April          2773     2773   2773       2773                2773\n",
      "          August         2773     2773   2773       2773                2773\n",
      "          December       2773     2773   2773       2773                2773\n",
      "          February       2773     2773   2773       2773                2773\n",
      "          January        2773     2773   2773       2773                2773\n",
      "          July           2773     2773   2773       2773                2773\n",
      "          June           2773     2773   2773       2773                2773\n",
      "          March          2773     2773   2773       2773                2773\n",
      "          May            2773     2773   2773       2773                2773\n",
      "          November       2773     2773   2773       2773                2773\n",
      "          October        2773     2773   2773       2773                2773\n",
      "          September      2773     2773   2773       2773                2773\n",
      "S2        April          2773     2773   2773       2773                2773\n",
      "          August         2773     2773   2773       2773                2773\n",
      "          December        539      539    539        539                 539\n",
      "          February       2773     2773   2773       2773                2773\n",
      "          January        2116     2116   2116       2116                2116\n",
      "          July           2773     2773   2773       2773                2773\n",
      "          June           2773     2773   2773       2773                2773\n",
      "          March          2773     2773   2773       2773                2773\n",
      "          May            2773     2773   2773       2773                2773\n",
      "          November       2460     2460   2460       2460                2460\n",
      "          October        2773     2773   2773       2773                2773\n",
      "          September      2773     2773   2773       2773                2773\n"
     ]
    }
   ],
   "source": [
    "print(test_sat_mo.count())"
   ]
  },
  {
   "cell_type": "markdown",
   "metadata": {},
   "source": [
    "Let's visualize this distribution with `seaborn`."
   ]
  },
  {
   "cell_type": "code",
   "execution_count": 19,
   "metadata": {},
   "outputs": [
    {
     "data": {
      "text/plain": [
       "<matplotlib.pyplot._IonContext at 0x7f35365a1460>"
      ]
     },
     "execution_count": 19,
     "metadata": {},
     "output_type": "execute_result"
    }
   ],
   "source": [
    "import matplotlib\n",
    "import matplotlib.pyplot as plt\n",
    "matplotlib.pyplot.ion()"
   ]
  },
  {
   "cell_type": "code",
   "execution_count": 20,
   "metadata": {},
   "outputs": [],
   "source": [
    "import seaborn as sns\n",
    "sns.set()"
   ]
  },
  {
   "cell_type": "code",
   "execution_count": 21,
   "metadata": {},
   "outputs": [
    {
     "data": {
      "text/plain": [
       "<seaborn.axisgrid.FacetGrid at 0x7f352d657580>"
      ]
     },
     "execution_count": 21,
     "metadata": {},
     "output_type": "execute_result"
    },
    {
     "data": {
      "image/png": "[encoded data removed]",
      "text/plain": [
       "<Figure size 777.05x360 with 2 Axes>"
      ]
     },
     "metadata": {
      "needs_background": "light"
     },
     "output_type": "display_data"
    }
   ],
   "source": [
    "sns.catplot(data=feat_meta_df, y=\"month\", kind=\"count\", hue=\"satellite\", col=\"split\")"
   ]
  },
  {
   "cell_type": "code",
   "execution_count": 22,
   "metadata": {},
   "outputs": [
    {
     "data": {
      "text/plain": [
       "<Figure size 640x480 with 0 Axes>"
      ]
     },
     "metadata": {},
     "output_type": "display_data"
    }
   ],
   "source": [
    "plt.savefig(\"../docs/count_satellite_month.png\", dpi=300)"
   ]
  },
  {
   "cell_type": "markdown",
   "metadata": {},
   "source": [
    "Satellite images per each patch."
   ]
  },
  {
   "cell_type": "code",
   "execution_count": 24,
   "metadata": {},
   "outputs": [],
   "source": [
    "# Satellite images for each chip\n",
    "train_chip_sat = feat_meta_df[feat_meta_df.split == \"train\"].groupby([\"chip_id\", \"satellite\"])"
   ]
  },
  {
   "cell_type": "code",
   "execution_count": 25,
   "metadata": {},
   "outputs": [
    {
     "data": {
      "text/plain": [
       "chip_id   satellite\n",
       "0003d2eb  S1           12\n",
       "          S2            9\n",
       "000aa810  S1           12\n",
       "          S2            6\n",
       "000d7e33  S1           12\n",
       "                       ..\n",
       "ffc7d4f2  S2           11\n",
       "ffd8db7a  S1           12\n",
       "          S2           11\n",
       "fff05995  S1           12\n",
       "          S2           11\n",
       "Name: filename, Length: 17378, dtype: int64"
      ]
     },
     "execution_count": 25,
     "metadata": {},
     "output_type": "execute_result"
    }
   ],
   "source": [
    "train_chip_sat.count().filename"
   ]
  },
  {
   "cell_type": "markdown",
   "metadata": {},
   "source": [
    "## Output Metadata Exploration"
   ]
  },
  {
   "cell_type": "code",
   "execution_count": 26,
   "metadata": {},
   "outputs": [],
   "source": [
    "agbm_meta_df = pd.read_csv(train_agbm_path)"
   ]
  },
  {
   "cell_type": "code",
   "execution_count": 27,
   "metadata": {},
   "outputs": [
    {
     "name": "stdout",
     "output_type": "stream",
     "text": [
      "Rows: 8689\n",
      "Columns: 7\n",
      "Column Names: ['filename', 'chip_id', 'size', 'cksum', 's3path_us', 's3path_eu', 's3path_as']\n",
      "<class 'pandas.core.frame.DataFrame'>\n",
      "RangeIndex: 8689 entries, 0 to 8688\n",
      "Data columns (total 7 columns):\n",
      " #   Column     Non-Null Count  Dtype \n",
      "---  ------     --------------  ----- \n",
      " 0   filename   8689 non-null   object\n",
      " 1   chip_id    8689 non-null   object\n",
      " 2   size       8689 non-null   int64 \n",
      " 3   cksum      8689 non-null   int64 \n",
      " 4   s3path_us  8689 non-null   object\n",
      " 5   s3path_eu  8689 non-null   object\n",
      " 6   s3path_as  8689 non-null   object\n",
      "dtypes: int64(2), object(5)\n",
      "memory usage: 475.3+ KB\n",
      "None\n"
     ]
    }
   ],
   "source": [
    "show_df_stats(agbm_meta_df)"
   ]
  },
  {
   "cell_type": "code",
   "execution_count": 28,
   "metadata": {},
   "outputs": [],
   "source": [
    "agbm_meta_df.drop(columns=drop_cols, inplace=True)"
   ]
  },
  {
   "cell_type": "code",
   "execution_count": 29,
   "metadata": {},
   "outputs": [
    {
     "data": {
      "text/html": [
       "<div>\n",
       "<style scoped>\n",
       "    .dataframe tbody tr th:only-of-type {\n",
       "        vertical-align: middle;\n",
       "    }\n",
       "\n",
       "    .dataframe tbody tr th {\n",
       "        vertical-align: top;\n",
       "    }\n",
       "\n",
       "    .dataframe thead th {\n",
       "        text-align: right;\n",
       "    }\n",
       "</style>\n",
       "<table border=\"1\" class=\"dataframe\">\n",
       "  <thead>\n",
       "    <tr style=\"text-align: right;\">\n",
       "      <th></th>\n",
       "      <th>filename</th>\n",
       "      <th>chip_id</th>\n",
       "      <th>s3path_us</th>\n",
       "    </tr>\n",
       "  </thead>\n",
       "  <tbody>\n",
       "    <tr>\n",
       "      <th>0</th>\n",
       "      <td>0003d2eb_agbm.tif</td>\n",
       "      <td>0003d2eb</td>\n",
       "      <td>s3://drivendata-competition-biomassters-public...</td>\n",
       "    </tr>\n",
       "    <tr>\n",
       "      <th>1</th>\n",
       "      <td>000aa810_agbm.tif</td>\n",
       "      <td>000aa810</td>\n",
       "      <td>s3://drivendata-competition-biomassters-public...</td>\n",
       "    </tr>\n",
       "    <tr>\n",
       "      <th>2</th>\n",
       "      <td>000d7e33_agbm.tif</td>\n",
       "      <td>000d7e33</td>\n",
       "      <td>s3://drivendata-competition-biomassters-public...</td>\n",
       "    </tr>\n",
       "    <tr>\n",
       "      <th>3</th>\n",
       "      <td>00184691_agbm.tif</td>\n",
       "      <td>00184691</td>\n",
       "      <td>s3://drivendata-competition-biomassters-public...</td>\n",
       "    </tr>\n",
       "    <tr>\n",
       "      <th>4</th>\n",
       "      <td>001b0634_agbm.tif</td>\n",
       "      <td>001b0634</td>\n",
       "      <td>s3://drivendata-competition-biomassters-public...</td>\n",
       "    </tr>\n",
       "  </tbody>\n",
       "</table>\n",
       "</div>"
      ],
      "text/plain": [
       "            filename   chip_id  \\\n",
       "0  0003d2eb_agbm.tif  0003d2eb   \n",
       "1  000aa810_agbm.tif  000aa810   \n",
       "2  000d7e33_agbm.tif  000d7e33   \n",
       "3  00184691_agbm.tif  00184691   \n",
       "4  001b0634_agbm.tif  001b0634   \n",
       "\n",
       "                                           s3path_us  \n",
       "0  s3://drivendata-competition-biomassters-public...  \n",
       "1  s3://drivendata-competition-biomassters-public...  \n",
       "2  s3://drivendata-competition-biomassters-public...  \n",
       "3  s3://drivendata-competition-biomassters-public...  \n",
       "4  s3://drivendata-competition-biomassters-public...  "
      ]
     },
     "execution_count": 29,
     "metadata": {},
     "output_type": "execute_result"
    }
   ],
   "source": [
    "agbm_meta_df.head()"
   ]
  },
  {
   "cell_type": "code",
   "execution_count": null,
   "metadata": {},
   "outputs": [],
   "source": [
    "# skip for now\n",
    "# agbm_meta_df.to_parquet(\"../data/train_agbm_metadata_slim.parquet\")"
   ]
  }
 ],
 "metadata": {
  "kernelspec": {
   "display_name": "Python 3 (ipykernel)",
   "language": "python",
   "name": "python3"
  },
  "language_info": {
   "codemirror_mode": {
    "name": "ipython",
    "version": 3
   },
   "file_extension": ".py",
   "mimetype": "text/x-python",
   "name": "python",
   "nbconvert_exporter": "python",
   "pygments_lexer": "ipython3",
   "version": "3.9.13"
  }
 },
 "nbformat": 4,
 "nbformat_minor": 4
}
