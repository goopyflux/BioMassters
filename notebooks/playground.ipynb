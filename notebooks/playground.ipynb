{
 "cells": [
  {
   "cell_type": "code",
   "execution_count": 1,
   "id": "9903a280-3c61-4fbb-a91b-ac053ff7d67c",
   "metadata": {},
   "outputs": [],
   "source": [
    "from biomasstry.datasets import TemporalSentinel2Dataset"
   ]
  },
  {
   "cell_type": "code",
   "execution_count": 2,
   "id": "ac5d89a5-782c-4a24-9776-e91b588e019a",
   "metadata": {},
   "outputs": [],
   "source": [
    "import pandas as pd"
   ]
  },
  {
   "cell_type": "code",
   "execution_count": 15,
   "id": "a75f897b-ed86-4c7e-81b0-5b038e45c7d8",
   "metadata": {},
   "outputs": [],
   "source": [
    "import numpy as np"
   ]
  },
  {
   "cell_type": "code",
   "execution_count": 3,
   "id": "2ebf0693-cc7f-4ff1-a559-fff6bc46eb70",
   "metadata": {},
   "outputs": [],
   "source": [
    "metadata_file = \"/notebooks/data/metadata_parquet/features_metadata_slim.parquet\"\n",
    "metadata_df = pd.read_parquet(metadata_file)\n",
    "chip_ids = metadata_df[metadata_df.split == \"train\"].chip_id.unique().tolist()"
   ]
  },
  {
   "cell_type": "code",
   "execution_count": 4,
   "id": "22c69a1f-fce8-4882-9446-799d55be69b4",
   "metadata": {},
   "outputs": [],
   "source": [
    "ds = TemporalSentinel2Dataset(chip_ids)"
   ]
  },
  {
   "cell_type": "code",
   "execution_count": 5,
   "id": "94f50e9f-3a6d-4813-aa88-3e96c07913b0",
   "metadata": {},
   "outputs": [
    {
     "name": "stderr",
     "output_type": "stream",
     "text": [
      "/usr/local/lib/python3.9/dist-packages/rasterio/io.py:138: NotGeoreferencedWarning: Dataset has no geotransform, gcps, or rpcs. The identity matrix will be returned.\n",
      "  return DatasetReader(mempath, driver=driver, sharing=sharing, **kwargs)\n"
     ]
    }
   ],
   "source": [
    "sample = ds[0]"
   ]
  },
  {
   "cell_type": "code",
   "execution_count": 12,
   "id": "f310686c-ac10-402e-835d-ef7a422e9204",
   "metadata": {},
   "outputs": [],
   "source": [
    "x, y, id = sample"
   ]
  },
  {
   "cell_type": "code",
   "execution_count": 13,
   "id": "f3581b44-9288-42c1-b4f4-0c970e92cc4a",
   "metadata": {},
   "outputs": [
    {
     "data": {
      "text/plain": [
       "torch.Size([5, 10, 256, 256])"
      ]
     },
     "execution_count": 13,
     "metadata": {},
     "output_type": "execute_result"
    }
   ],
   "source": [
    "x.shape"
   ]
  },
  {
   "cell_type": "code",
   "execution_count": 18,
   "id": "80daa56d-83f3-40d0-ace6-b2698c05aacf",
   "metadata": {},
   "outputs": [],
   "source": [
    "arr = np.arange(1, 11)"
   ]
  },
  {
   "cell_type": "code",
   "execution_count": 20,
   "id": "d3dfea32-3191-438f-94dc-082568d40b47",
   "metadata": {},
   "outputs": [
    {
     "data": {
      "text/plain": [
       "[1, 2, 3, 4, 5, 6, 7, 8, 9, 10]"
      ]
     },
     "execution_count": 20,
     "metadata": {},
     "output_type": "execute_result"
    }
   ],
   "source": [
    "arr.tolist()"
   ]
  },
  {
   "cell_type": "code",
   "execution_count": 1,
   "id": "7ee4f438-a9fe-4fb4-ac1f-15d2fbebae93",
   "metadata": {},
   "outputs": [],
   "source": [
    "from biomasstry.models import UTAE"
   ]
  },
  {
   "cell_type": "code",
   "execution_count": 1,
   "id": "45feaa95-7920-48e8-b132-c6090bf59355",
   "metadata": {},
   "outputs": [],
   "source": [
    "import numpy as np"
   ]
  },
  {
   "cell_type": "code",
   "execution_count": 7,
   "id": "ac718490-982c-4a00-98d9-77c419e22e98",
   "metadata": {},
   "outputs": [],
   "source": [
    "from PIL import Image\n",
    "import rasterio"
   ]
  },
  {
   "cell_type": "code",
   "execution_count": 11,
   "id": "36811f05-2ff7-4ff0-b17f-e8c1bdcc6a20",
   "metadata": {},
   "outputs": [],
   "source": [
    "import torch.nn as nn\n",
    "from torchvision import models"
   ]
  },
  {
   "cell_type": "code",
   "execution_count": 2,
   "id": "084304d1-40fc-4a8e-af7a-787598abb8fb",
   "metadata": {},
   "outputs": [],
   "source": [
    "x = []\n",
    "for _ in range(3):\n",
    "    x.append(np.random.random((100, 100)))"
   ]
  },
  {
   "cell_type": "code",
   "execution_count": 4,
   "id": "269d8126-f919-49e4-964a-638e7657f290",
   "metadata": {},
   "outputs": [],
   "source": [
    "xa = np.asarray(x)\n",
    "xa.shape"
   ]
  },
  {
   "cell_type": "code",
   "execution_count": 5,
   "id": "3d2b8143-4540-43d8-bb81-ee83689be7b0",
   "metadata": {},
   "outputs": [],
   "source": [
    "xm = xa.mean(axis=0)"
   ]
  },
  {
   "cell_type": "code",
   "execution_count": 8,
   "id": "c931749a-96b4-4054-affd-5660efff558f",
   "metadata": {},
   "outputs": [],
   "source": [
    "img_file = \"/notebooks/data/sample_images/001b0634_agbm.tif\""
   ]
  },
  {
   "cell_type": "code",
   "execution_count": 9,
   "id": "ccb9ed48-e05a-4ca2-89d3-b0b3120f31dd",
   "metadata": {},
   "outputs": [
    {
     "name": "stderr",
     "output_type": "stream",
     "text": [
      "/usr/local/lib/python3.9/dist-packages/rasterio/__init__.py:304: NotGeoreferencedWarning: Dataset has no geotransform, gcps, or rpcs. The identity matrix will be returned.\n",
      "  dataset = DatasetReader(path, driver=driver, sharing=sharing, **kwargs)\n"
     ]
    }
   ],
   "source": [
    "img = rasterio.open(img_file)"
   ]
  },
  {
   "cell_type": "code",
   "execution_count": 11,
   "id": "7d5da7b0-a85e-489c-89b8-c5bc30ddecd3",
   "metadata": {},
   "outputs": [],
   "source": [
    "img_data = img.read()\n",
    "img_data.shape"
   ]
  },
  {
   "cell_type": "code",
   "execution_count": 16,
   "id": "cab674d3-a56f-4a6c-a6b5-a5a989d5871d",
   "metadata": {},
   "outputs": [],
   "source": [
    "uniq = np.unique(img_data)"
   ]
  },
  {
   "cell_type": "code",
   "execution_count": 22,
   "id": "d1494787-bf53-4805-a182-4259406e8341",
   "metadata": {},
   "outputs": [
    {
     "name": "stdout",
     "output_type": "stream",
     "text": [
      "4.289285948033248\n"
     ]
    }
   ],
   "source": [
    "print(256*256/uniq.shape[0])"
   ]
  },
  {
   "cell_type": "code",
   "execution_count": 2,
   "id": "cdd00064-ca47-4594-a846-a7e3cd5da6b4",
   "metadata": {},
   "outputs": [],
   "source": [
    "model = UTAE(10)"
   ]
  },
  {
   "cell_type": "code",
   "execution_count": 3,
   "id": "ea0b7c08-a1f4-4d4d-ad17-7b35a86c8b40",
   "metadata": {
    "collapsed": true,
    "jupyter": {
     "outputs_hidden": true
    },
    "tags": []
   },
   "outputs": [
    {
     "data": {
      "text/plain": [
       "UTAE(\n",
       "  (in_conv): ConvBlock(\n",
       "    (conv): ConvLayer(\n",
       "      (conv): Sequential(\n",
       "        (0): Conv2d(10, 64, kernel_size=(3, 3), stride=(1, 1), padding=(1, 1), padding_mode=reflect)\n",
       "        (1): GroupNorm(4, 64, eps=1e-05, affine=True)\n",
       "        (2): ReLU()\n",
       "        (3): Conv2d(64, 64, kernel_size=(3, 3), stride=(1, 1), padding=(1, 1), padding_mode=reflect)\n",
       "        (4): GroupNorm(4, 64, eps=1e-05, affine=True)\n",
       "        (5): ReLU()\n",
       "      )\n",
       "    )\n",
       "  )\n",
       "  (down_blocks): ModuleList(\n",
       "    (0): DownConvBlock(\n",
       "      (down): ConvLayer(\n",
       "        (conv): Sequential(\n",
       "          (0): Conv2d(64, 64, kernel_size=(4, 4), stride=(2, 2), padding=(1, 1), padding_mode=reflect)\n",
       "          (1): GroupNorm(4, 64, eps=1e-05, affine=True)\n",
       "          (2): ReLU()\n",
       "        )\n",
       "      )\n",
       "      (conv1): ConvLayer(\n",
       "        (conv): Sequential(\n",
       "          (0): Conv2d(64, 64, kernel_size=(3, 3), stride=(1, 1), padding=(1, 1), padding_mode=reflect)\n",
       "          (1): GroupNorm(4, 64, eps=1e-05, affine=True)\n",
       "          (2): ReLU()\n",
       "        )\n",
       "      )\n",
       "      (conv2): ConvLayer(\n",
       "        (conv): Sequential(\n",
       "          (0): Conv2d(64, 64, kernel_size=(3, 3), stride=(1, 1), padding=(1, 1), padding_mode=reflect)\n",
       "          (1): GroupNorm(4, 64, eps=1e-05, affine=True)\n",
       "          (2): ReLU()\n",
       "        )\n",
       "      )\n",
       "    )\n",
       "    (1): DownConvBlock(\n",
       "      (down): ConvLayer(\n",
       "        (conv): Sequential(\n",
       "          (0): Conv2d(64, 64, kernel_size=(4, 4), stride=(2, 2), padding=(1, 1), padding_mode=reflect)\n",
       "          (1): GroupNorm(4, 64, eps=1e-05, affine=True)\n",
       "          (2): ReLU()\n",
       "        )\n",
       "      )\n",
       "      (conv1): ConvLayer(\n",
       "        (conv): Sequential(\n",
       "          (0): Conv2d(64, 64, kernel_size=(3, 3), stride=(1, 1), padding=(1, 1), padding_mode=reflect)\n",
       "          (1): GroupNorm(4, 64, eps=1e-05, affine=True)\n",
       "          (2): ReLU()\n",
       "        )\n",
       "      )\n",
       "      (conv2): ConvLayer(\n",
       "        (conv): Sequential(\n",
       "          (0): Conv2d(64, 64, kernel_size=(3, 3), stride=(1, 1), padding=(1, 1), padding_mode=reflect)\n",
       "          (1): GroupNorm(4, 64, eps=1e-05, affine=True)\n",
       "          (2): ReLU()\n",
       "        )\n",
       "      )\n",
       "    )\n",
       "    (2): DownConvBlock(\n",
       "      (down): ConvLayer(\n",
       "        (conv): Sequential(\n",
       "          (0): Conv2d(64, 64, kernel_size=(4, 4), stride=(2, 2), padding=(1, 1), padding_mode=reflect)\n",
       "          (1): GroupNorm(4, 64, eps=1e-05, affine=True)\n",
       "          (2): ReLU()\n",
       "        )\n",
       "      )\n",
       "      (conv1): ConvLayer(\n",
       "        (conv): Sequential(\n",
       "          (0): Conv2d(64, 128, kernel_size=(3, 3), stride=(1, 1), padding=(1, 1), padding_mode=reflect)\n",
       "          (1): GroupNorm(4, 128, eps=1e-05, affine=True)\n",
       "          (2): ReLU()\n",
       "        )\n",
       "      )\n",
       "      (conv2): ConvLayer(\n",
       "        (conv): Sequential(\n",
       "          (0): Conv2d(128, 128, kernel_size=(3, 3), stride=(1, 1), padding=(1, 1), padding_mode=reflect)\n",
       "          (1): GroupNorm(4, 128, eps=1e-05, affine=True)\n",
       "          (2): ReLU()\n",
       "        )\n",
       "      )\n",
       "    )\n",
       "  )\n",
       "  (up_blocks): ModuleList(\n",
       "    (0): UpConvBlock(\n",
       "      (skip_conv): Sequential(\n",
       "        (0): Conv2d(64, 64, kernel_size=(1, 1), stride=(1, 1))\n",
       "        (1): BatchNorm2d(64, eps=1e-05, momentum=0.1, affine=True, track_running_stats=True)\n",
       "        (2): ReLU()\n",
       "      )\n",
       "      (up): Sequential(\n",
       "        (0): ConvTranspose2d(128, 64, kernel_size=(4, 4), stride=(2, 2), padding=(1, 1))\n",
       "        (1): BatchNorm2d(64, eps=1e-05, momentum=0.1, affine=True, track_running_stats=True)\n",
       "        (2): ReLU()\n",
       "      )\n",
       "      (conv1): ConvLayer(\n",
       "        (conv): Sequential(\n",
       "          (0): Conv2d(128, 64, kernel_size=(3, 3), stride=(1, 1), padding=(1, 1), padding_mode=reflect)\n",
       "          (1): BatchNorm2d(64, eps=1e-05, momentum=0.1, affine=True, track_running_stats=True)\n",
       "          (2): ReLU()\n",
       "        )\n",
       "      )\n",
       "      (conv2): ConvLayer(\n",
       "        (conv): Sequential(\n",
       "          (0): Conv2d(64, 64, kernel_size=(3, 3), stride=(1, 1), padding=(1, 1), padding_mode=reflect)\n",
       "          (1): BatchNorm2d(64, eps=1e-05, momentum=0.1, affine=True, track_running_stats=True)\n",
       "          (2): ReLU()\n",
       "        )\n",
       "      )\n",
       "    )\n",
       "    (1): UpConvBlock(\n",
       "      (skip_conv): Sequential(\n",
       "        (0): Conv2d(64, 64, kernel_size=(1, 1), stride=(1, 1))\n",
       "        (1): BatchNorm2d(64, eps=1e-05, momentum=0.1, affine=True, track_running_stats=True)\n",
       "        (2): ReLU()\n",
       "      )\n",
       "      (up): Sequential(\n",
       "        (0): ConvTranspose2d(64, 32, kernel_size=(4, 4), stride=(2, 2), padding=(1, 1))\n",
       "        (1): BatchNorm2d(32, eps=1e-05, momentum=0.1, affine=True, track_running_stats=True)\n",
       "        (2): ReLU()\n",
       "      )\n",
       "      (conv1): ConvLayer(\n",
       "        (conv): Sequential(\n",
       "          (0): Conv2d(96, 32, kernel_size=(3, 3), stride=(1, 1), padding=(1, 1), padding_mode=reflect)\n",
       "          (1): BatchNorm2d(32, eps=1e-05, momentum=0.1, affine=True, track_running_stats=True)\n",
       "          (2): ReLU()\n",
       "        )\n",
       "      )\n",
       "      (conv2): ConvLayer(\n",
       "        (conv): Sequential(\n",
       "          (0): Conv2d(32, 32, kernel_size=(3, 3), stride=(1, 1), padding=(1, 1), padding_mode=reflect)\n",
       "          (1): BatchNorm2d(32, eps=1e-05, momentum=0.1, affine=True, track_running_stats=True)\n",
       "          (2): ReLU()\n",
       "        )\n",
       "      )\n",
       "    )\n",
       "    (2): UpConvBlock(\n",
       "      (skip_conv): Sequential(\n",
       "        (0): Conv2d(64, 64, kernel_size=(1, 1), stride=(1, 1))\n",
       "        (1): BatchNorm2d(64, eps=1e-05, momentum=0.1, affine=True, track_running_stats=True)\n",
       "        (2): ReLU()\n",
       "      )\n",
       "      (up): Sequential(\n",
       "        (0): ConvTranspose2d(32, 32, kernel_size=(4, 4), stride=(2, 2), padding=(1, 1))\n",
       "        (1): BatchNorm2d(32, eps=1e-05, momentum=0.1, affine=True, track_running_stats=True)\n",
       "        (2): ReLU()\n",
       "      )\n",
       "      (conv1): ConvLayer(\n",
       "        (conv): Sequential(\n",
       "          (0): Conv2d(96, 32, kernel_size=(3, 3), stride=(1, 1), padding=(1, 1), padding_mode=reflect)\n",
       "          (1): BatchNorm2d(32, eps=1e-05, momentum=0.1, affine=True, track_running_stats=True)\n",
       "          (2): ReLU()\n",
       "        )\n",
       "      )\n",
       "      (conv2): ConvLayer(\n",
       "        (conv): Sequential(\n",
       "          (0): Conv2d(32, 32, kernel_size=(3, 3), stride=(1, 1), padding=(1, 1), padding_mode=reflect)\n",
       "          (1): BatchNorm2d(32, eps=1e-05, momentum=0.1, affine=True, track_running_stats=True)\n",
       "          (2): ReLU()\n",
       "        )\n",
       "      )\n",
       "    )\n",
       "  )\n",
       "  (temporal_encoder): LTAE2d(\n",
       "    (inconv): Conv1d(128, 256, kernel_size=(1,), stride=(1,))\n",
       "    (attention_heads): MultiHeadAttention(\n",
       "      (fc1_k): Linear(in_features=256, out_features=64, bias=True)\n",
       "      (attention): ScaledDotProductAttention(\n",
       "        (dropout): Dropout(p=0.1, inplace=False)\n",
       "        (softmax): Softmax(dim=2)\n",
       "      )\n",
       "    )\n",
       "    (in_norm): GroupNorm(16, 128, eps=1e-05, affine=True)\n",
       "    (out_norm): GroupNorm(16, 128, eps=1e-05, affine=True)\n",
       "    (mlp): Sequential(\n",
       "      (0): Linear(in_features=256, out_features=128, bias=True)\n",
       "      (1): BatchNorm1d(128, eps=1e-05, momentum=0.1, affine=True, track_running_stats=True)\n",
       "      (2): ReLU()\n",
       "    )\n",
       "    (dropout): Dropout(p=0.2, inplace=False)\n",
       "  )\n",
       "  (temporal_aggregator): Temporal_Aggregator()\n",
       "  (out_conv): ConvBlock(\n",
       "    (conv): ConvLayer(\n",
       "      (conv): Sequential(\n",
       "        (0): Conv2d(32, 32, kernel_size=(3, 3), stride=(1, 1), padding=(1, 1), padding_mode=reflect)\n",
       "        (1): BatchNorm2d(32, eps=1e-05, momentum=0.1, affine=True, track_running_stats=True)\n",
       "        (2): ReLU()\n",
       "        (3): Conv2d(32, 1, kernel_size=(3, 3), stride=(1, 1), padding=(1, 1), padding_mode=reflect)\n",
       "        (4): BatchNorm2d(1, eps=1e-05, momentum=0.1, affine=True, track_running_stats=True)\n",
       "        (5): ReLU()\n",
       "      )\n",
       "    )\n",
       "  )\n",
       ")"
      ]
     },
     "execution_count": 3,
     "metadata": {},
     "output_type": "execute_result"
    }
   ],
   "source": [
    "model"
   ]
  },
  {
   "cell_type": "code",
   "execution_count": 6,
   "id": "868f8d1e-3e5c-4314-bbb1-84c80605a84e",
   "metadata": {},
   "outputs": [
    {
     "ename": "NameError",
     "evalue": "name 'ResNet18_Weigts' is not defined",
     "output_type": "error",
     "traceback": [
      "\u001b[0;31m---------------------------------------------------------------------------\u001b[0m",
      "\u001b[0;31mNameError\u001b[0m                                 Traceback (most recent call last)",
      "Cell \u001b[0;32mIn [6], line 1\u001b[0m\n\u001b[0;32m----> 1\u001b[0m model_pt \u001b[38;5;241m=\u001b[39m models\u001b[38;5;241m.\u001b[39mresnet18(weights\u001b[38;5;241m=\u001b[39m\u001b[43mResNet18_Weigts\u001b[49m\u001b[38;5;241m.\u001b[39mDEFAULT)\n",
      "\u001b[0;31mNameError\u001b[0m: name 'ResNet18_Weigts' is not defined"
     ]
    }
   ],
   "source": [
    "model_pt = models.resnet18(weights=ResNet18_Weigts.DEFAULT)"
   ]
  },
  {
   "cell_type": "code",
   "execution_count": 10,
   "id": "8db04d09-0d7a-4f08-941b-afbba6e67dea",
   "metadata": {},
   "outputs": [
    {
     "data": {
      "text/plain": [
       "Linear(in_features=512, out_features=1000, bias=True)"
      ]
     },
     "execution_count": 10,
     "metadata": {},
     "output_type": "execute_result"
    }
   ],
   "source": [
    "model_pt.fc"
   ]
  },
  {
   "cell_type": "code",
   "execution_count": 12,
   "id": "38dd5d32-2b43-475e-aa66-7407c8211538",
   "metadata": {},
   "outputs": [
    {
     "data": {
      "text/plain": [
       "Linear(in_features=512, out_features=2, bias=True)"
      ]
     },
     "execution_count": 12,
     "metadata": {},
     "output_type": "execute_result"
    }
   ],
   "source": [
    "nn.Linear(512, 2)"
   ]
  },
  {
   "cell_type": "code",
   "execution_count": 13,
   "id": "8a84a907-c4c2-4596-9f88-5f1d7a9ea69f",
   "metadata": {},
   "outputs": [
    {
     "data": {
      "text/plain": [
       "ConvBlock(\n",
       "  (conv): ConvLayer(\n",
       "    (conv): Sequential(\n",
       "      (0): Conv2d(32, 32, kernel_size=(3, 3), stride=(1, 1), padding=(1, 1), padding_mode=reflect)\n",
       "      (1): BatchNorm2d(32, eps=1e-05, momentum=0.1, affine=True, track_running_stats=True)\n",
       "      (2): ReLU()\n",
       "      (3): Conv2d(32, 1, kernel_size=(3, 3), stride=(1, 1), padding=(1, 1), padding_mode=reflect)\n",
       "      (4): BatchNorm2d(1, eps=1e-05, momentum=0.1, affine=True, track_running_stats=True)\n",
       "      (5): ReLU()\n",
       "    )\n",
       "  )\n",
       ")"
      ]
     },
     "execution_count": 13,
     "metadata": {},
     "output_type": "execute_result"
    }
   ],
   "source": [
    "model.out_conv"
   ]
  },
  {
   "cell_type": "code",
   "execution_count": 14,
   "id": "3cdc0e9c-372d-46c3-9061-91f719c82d90",
   "metadata": {},
   "outputs": [],
   "source": [
    "from biomasstry.models.unet_tae import ConvBlock"
   ]
  },
  {
   "cell_type": "code",
   "execution_count": 15,
   "id": "4d18eea4-1477-45e8-b712-168c7b2d6ca7",
   "metadata": {},
   "outputs": [],
   "source": [
    "out_conv_block = ConvBlock([32, 32, 1], padding_mode=\"reflect\")"
   ]
  },
  {
   "cell_type": "code",
   "execution_count": 16,
   "id": "3fa0bfef-3487-403b-8011-a725e7966d4f",
   "metadata": {},
   "outputs": [
    {
     "data": {
      "text/plain": [
       "ConvBlock(\n",
       "  (conv): ConvLayer(\n",
       "    (conv): Sequential(\n",
       "      (0): Conv2d(32, 32, kernel_size=(3, 3), stride=(1, 1), padding=(1, 1), padding_mode=reflect)\n",
       "      (1): BatchNorm2d(32, eps=1e-05, momentum=0.1, affine=True, track_running_stats=True)\n",
       "      (2): ReLU()\n",
       "      (3): Conv2d(32, 1, kernel_size=(3, 3), stride=(1, 1), padding=(1, 1), padding_mode=reflect)\n",
       "      (4): BatchNorm2d(1, eps=1e-05, momentum=0.1, affine=True, track_running_stats=True)\n",
       "      (5): ReLU()\n",
       "    )\n",
       "  )\n",
       ")"
      ]
     },
     "execution_count": 16,
     "metadata": {},
     "output_type": "execute_result"
    }
   ],
   "source": [
    "out_conv_block"
   ]
  }
 ],
 "metadata": {
  "kernelspec": {
   "display_name": "Python 3 (ipykernel)",
   "language": "python",
   "name": "python3"
  },
  "language_info": {
   "codemirror_mode": {
    "name": "ipython",
    "version": 3
   },
   "file_extension": ".py",
   "mimetype": "text/x-python",
   "name": "python",
   "nbconvert_exporter": "python",
   "pygments_lexer": "ipython3",
   "version": "3.9.13"
  },
  "vscode": {
   "interpreter": {
    "hash": "aee8b7b246df8f9039afb4144a1f6fd8d2ca17a180786b69acc140d282b71a49"
   }
  }
 },
 "nbformat": 4,
 "nbformat_minor": 5
}
