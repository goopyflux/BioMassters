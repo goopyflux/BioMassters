{
 "cells": [
  {
   "cell_type": "markdown",
   "metadata": {},
   "source": [
    "# Use HuggingFace Accelerate to Train Model on Temporal (monthly) Sentinel Data"
   ]
  },
  {
   "cell_type": "markdown",
   "metadata": {},
   "source": [
    "## Imports"
   ]
  },
  {
   "cell_type": "code",
   "execution_count": 7,
   "metadata": {},
   "outputs": [],
   "source": [
    "from time import time"
   ]
  },
  {
   "cell_type": "code",
   "execution_count": 8,
   "metadata": {},
   "outputs": [],
   "source": [
    "from accelerate import Accelerator\n",
    "from biomasstry.datasets import TemporalSentinel2Dataset, TemporalSentinel1Dataset\n",
    "from biomasstry.models import TemporalSentinelModel, UTAE\n",
    "# from biomasstry.models.utils import run_training\n",
    "import numpy as np\n",
    "import pandas as pd\n",
    "from pynvml import *\n",
    "import torch\n",
    "import torch.nn as nn\n",
    "from torch.utils.data import random_split, DataLoader\n",
    "from transformers import TrainingArguments, Trainer, logging\n",
    "from tqdm.notebook import tqdm"
   ]
  },
  {
   "cell_type": "code",
   "execution_count": 9,
   "metadata": {},
   "outputs": [],
   "source": [
    "logging.set_verbosity_error()"
   ]
  },
  {
   "cell_type": "markdown",
   "metadata": {},
   "source": [
    "## Utility Functions"
   ]
  },
  {
   "cell_type": "code",
   "execution_count": 10,
   "metadata": {},
   "outputs": [],
   "source": [
    "# Utility functions for printing GPU utilization\n",
    "def print_gpu_utilization():\n",
    "    nvmlInit()\n",
    "    handle = nvmlDeviceGetHandleByIndex(0)\n",
    "    info = nvmlDeviceGetMemoryInfo(handle)\n",
    "    print(f\"GPU memory occupied: {info.used//1024**2} MB.\")\n",
    "\n",
    "\n",
    "def print_summary(result):\n",
    "    print(f\"Time: {result.metrics['train_runtime']:.2f}\")\n",
    "    print(f\"Samples/second: {result.metrics['train_samples_per_second']:.2f}\")\n",
    "    print_gpu_utilization()"
   ]
  },
  {
   "cell_type": "code",
   "execution_count": 11,
   "metadata": {},
   "outputs": [
    {
     "name": "stdout",
     "output_type": "stream",
     "text": [
      "GPU memory occupied: 107 MB.\n"
     ]
    }
   ],
   "source": [
    "print_gpu_utilization()"
   ]
  },
  {
   "cell_type": "markdown",
   "metadata": {},
   "source": [
    "## Dataset"
   ]
  },
  {
   "cell_type": "code",
   "execution_count": 12,
   "metadata": {},
   "outputs": [],
   "source": [
    "S3_DIRECT = False  # Access S3 directly or as a mounted data source\n",
    "USE_SENTINEL1 = False\n",
    "if S3_DIRECT:\n",
    "    data_url=\"s3://drivendata-competition-biomassters-public-us\"\n",
    "else:\n",
    "    data_url = \"\"\n",
    "if USE_SENTINEL1:\n",
    "    ds = TemporalSentinel1Dataset(data_url=data_url)\n",
    "    input_nc = 4\n",
    "    n_tsamples = 6\n",
    "else:\n",
    "    ds = TemporalSentinel2Dataset(data_url=data_url)\n",
    "    input_nc = 10\n",
    "    n_tsamples = 5"
   ]
  },
  {
   "cell_type": "code",
   "execution_count": 13,
   "metadata": {},
   "outputs": [
    {
     "name": "stdout",
     "output_type": "stream",
     "text": [
      "Train samples: 6951 Val. samples: 1738\n"
     ]
    }
   ],
   "source": [
    "torch.manual_seed(0)\n",
    "train_size = int(0.8*len(ds))\n",
    "valid_size = len(ds) - train_size\n",
    "train_set, val_set = random_split(ds, [train_size, valid_size])\n",
    "print(f\"Train samples: {len(train_set)} \"\n",
    "      f\"Val. samples: {len(val_set)}\")"
   ]
  },
  {
   "cell_type": "markdown",
   "metadata": {},
   "source": [
    "## Model"
   ]
  },
  {
   "cell_type": "code",
   "execution_count": 14,
   "metadata": {},
   "outputs": [],
   "source": [
    "# model = TemporalSentinelModel(\n",
    "#     n_tsamples=n_tsamples, \n",
    "#     input_nc=input_nc,\n",
    "#     output_nc=1,\n",
    "# )  # .to(device)"
   ]
  },
  {
   "cell_type": "code",
   "execution_count": 15,
   "metadata": {},
   "outputs": [],
   "source": [
    "model = UTAE(input_nc)"
   ]
  },
  {
   "cell_type": "code",
   "execution_count": 16,
   "metadata": {},
   "outputs": [],
   "source": [
    "loss_function = nn.MSELoss(reduction='mean')  # .to(device)\n",
    "optimizer = torch.optim.Adam(model.parameters(), lr=0.02)"
   ]
  },
  {
   "cell_type": "markdown",
   "metadata": {},
   "source": [
    "## Training Arguments"
   ]
  },
  {
   "cell_type": "code",
   "execution_count": 17,
   "metadata": {},
   "outputs": [],
   "source": [
    "default_args = {\n",
    "    \"output_dir\": \"/notebooks/artifacts\",\n",
    "    \"overwrite_output_dir\": \"True\",\n",
    "    \"evaluation_strategy\": \"steps\",\n",
    "    \"num_train_epochs\": 10,\n",
    "    \"log_level\": \"error\",\n",
    "    \"report_to\": \"none\",\n",
    "}"
   ]
  },
  {
   "cell_type": "code",
   "execution_count": 18,
   "metadata": {},
   "outputs": [],
   "source": [
    "training_args = TrainingArguments(\n",
    "    per_device_train_batch_size=8,\n",
    "    gradient_accumulation_steps=4,\n",
    "    gradient_checkpointing=True,\n",
    "    **default_args,\n",
    ")"
   ]
  },
  {
   "cell_type": "markdown",
   "metadata": {},
   "source": [
    "## DataLoaders"
   ]
  },
  {
   "cell_type": "code",
   "execution_count": 19,
   "metadata": {},
   "outputs": [],
   "source": [
    "# DataLoaders\n",
    "num_workers = 6\n",
    "train_dataloader = DataLoader(train_set,\n",
    "                      batch_size=training_args.per_device_train_batch_size,\n",
    "                      shuffle=True,\n",
    "                      pin_memory=True,\n",
    "                      num_workers=num_workers)\n",
    "eval_dataloader = DataLoader(val_set,\n",
    "                    batch_size=training_args.per_device_train_batch_size,\n",
    "                    shuffle=False,\n",
    "                    pin_memory=True,\n",
    "                    num_workers=num_workers)"
   ]
  },
  {
   "cell_type": "markdown",
   "metadata": {},
   "source": [
    "## Prepare"
   ]
  },
  {
   "cell_type": "code",
   "execution_count": 20,
   "metadata": {},
   "outputs": [],
   "source": [
    "accel_model = Trainer(model, args=training_args, train_dataset=train_set)\n",
    "\n",
    "# HuggingFace Accelerator with Gradient Accumulation\n",
    "accelerator = Accelerator(gradient_accumulation_steps=4, mixed_precision='fp16')\n",
    "\n",
    "accel_model, optimizer, train_dataloader, eval_dataloader = accelerator.prepare(accel_model,\n",
    "                                                                optimizer,\n",
    "                                                                train_dataloader,\n",
    "                                                                eval_dataloader)"
   ]
  },
  {
   "cell_type": "code",
   "execution_count": 21,
   "metadata": {},
   "outputs": [
    {
     "name": "stdout",
     "output_type": "stream",
     "text": [
      "Model file path: /notebooks/artifacts/20230112_UTAE_S2_B32_E20.pt\n"
     ]
    }
   ],
   "source": [
    "artifacts_dir = \"/notebooks/artifacts\"\n",
    "if USE_SENTINEL1:\n",
    "    model_name = \"UTAE_S1\"\n",
    "else:\n",
    "    model_name = \"UTAE_S2\"\n",
    "nb_epochs = 20\n",
    "date = \"20230112\"\n",
    "save_path = artifacts_dir + (f\"/{date}_{model_name}_B\"\n",
    "    f\"{training_args.per_device_train_batch_size * training_args.gradient_accumulation_steps}\"\n",
    "    f\"_E{nb_epochs}.pt\")\n",
    "print(f\"Model file path: {save_path}\")"
   ]
  },
  {
   "cell_type": "markdown",
   "metadata": {},
   "source": [
    "## Training and Evaluation Loop"
   ]
  },
  {
   "cell_type": "code",
   "execution_count": 22,
   "metadata": {},
   "outputs": [
    {
     "data": {
      "application/vnd.jupyter.widget-view+json": {
       "model_id": "d34e0c5de0464190b245cc5b1bf546da",
       "version_major": 2,
       "version_minor": 0
      },
      "text/plain": [
       "  0%|          | 0/5 [00:00<?, ?it/s]"
      ]
     },
     "metadata": {},
     "output_type": "display_data"
    },
    {
     "data": {
      "application/vnd.jupyter.widget-view+json": {
       "model_id": "ec135658bdd2412ea5bce80c9e92b94b",
       "version_major": 2,
       "version_minor": 0
      },
      "text/plain": [
       "  0%|          | 0/869 [00:00<?, ?it/s]"
      ]
     },
     "metadata": {},
     "output_type": "display_data"
    },
    {
     "name": "stdout",
     "output_type": "stream",
     "text": [
      "Epoch training time: 1099.4130687713623\n"
     ]
    },
    {
     "data": {
      "application/vnd.jupyter.widget-view+json": {
       "model_id": "e4294a6529614941be89baea3f467953",
       "version_major": 2,
       "version_minor": 0
      },
      "text/plain": [
       "  0%|          | 0/218 [00:00<?, ?it/s]"
      ]
     },
     "metadata": {},
     "output_type": "display_data"
    },
    {
     "name": "stdout",
     "output_type": "stream",
     "text": [
      "Validation Error: \n",
      " RMSE: 39.668890 \n",
      "\n",
      "Validation RMSE Decreased(inf--->39.668890) \t Saving The Model\n"
     ]
    },
    {
     "data": {
      "application/vnd.jupyter.widget-view+json": {
       "model_id": "3b4e154677544a6e9dc730e91a605259",
       "version_major": 2,
       "version_minor": 0
      },
      "text/plain": [
       "  0%|          | 0/869 [00:00<?, ?it/s]"
      ]
     },
     "metadata": {},
     "output_type": "display_data"
    },
    {
     "name": "stdout",
     "output_type": "stream",
     "text": [
      "Epoch training time: 1103.3286228179932\n"
     ]
    },
    {
     "data": {
      "application/vnd.jupyter.widget-view+json": {
       "model_id": "a8b242f46c4340dabc0fae0a3b8da0cf",
       "version_major": 2,
       "version_minor": 0
      },
      "text/plain": [
       "  0%|          | 0/218 [00:00<?, ?it/s]"
      ]
     },
     "metadata": {},
     "output_type": "display_data"
    },
    {
     "name": "stdout",
     "output_type": "stream",
     "text": [
      "Validation Error: \n",
      " RMSE: 39.752190 \n",
      "\n"
     ]
    },
    {
     "data": {
      "application/vnd.jupyter.widget-view+json": {
       "model_id": "dadb40e3e43949bc9c1c7dacede74eac",
       "version_major": 2,
       "version_minor": 0
      },
      "text/plain": [
       "  0%|          | 0/869 [00:00<?, ?it/s]"
      ]
     },
     "metadata": {},
     "output_type": "display_data"
    },
    {
     "name": "stdout",
     "output_type": "stream",
     "text": [
      "Epoch training time: 1120.6576714515686\n"
     ]
    },
    {
     "data": {
      "application/vnd.jupyter.widget-view+json": {
       "model_id": "cbc03d097b2a4674994bf2670da39c25",
       "version_major": 2,
       "version_minor": 0
      },
      "text/plain": [
       "  0%|          | 0/218 [00:00<?, ?it/s]"
      ]
     },
     "metadata": {},
     "output_type": "display_data"
    },
    {
     "name": "stdout",
     "output_type": "stream",
     "text": [
      "Validation Error: \n",
      " RMSE: 39.365510 \n",
      "\n",
      "Validation RMSE Decreased(39.668890--->39.365510) \t Saving The Model\n"
     ]
    },
    {
     "data": {
      "application/vnd.jupyter.widget-view+json": {
       "model_id": "98e1a535af4d4c99aaae2fef96a13f5c",
       "version_major": 2,
       "version_minor": 0
      },
      "text/plain": [
       "  0%|          | 0/869 [00:00<?, ?it/s]"
      ]
     },
     "metadata": {},
     "output_type": "display_data"
    },
    {
     "name": "stdout",
     "output_type": "stream",
     "text": [
      "Epoch training time: 1076.3884422779083\n"
     ]
    },
    {
     "data": {
      "application/vnd.jupyter.widget-view+json": {
       "model_id": "bcb0ec2f09c64b12af950fef7a226673",
       "version_major": 2,
       "version_minor": 0
      },
      "text/plain": [
       "  0%|          | 0/218 [00:00<?, ?it/s]"
      ]
     },
     "metadata": {},
     "output_type": "display_data"
    },
    {
     "name": "stdout",
     "output_type": "stream",
     "text": [
      "Validation Error: \n",
      " RMSE: 39.276230 \n",
      "\n",
      "Validation RMSE Decreased(39.365510--->39.276230) \t Saving The Model\n"
     ]
    },
    {
     "data": {
      "application/vnd.jupyter.widget-view+json": {
       "model_id": "8323df968025496b9a87218cf1242ff5",
       "version_major": 2,
       "version_minor": 0
      },
      "text/plain": [
       "  0%|          | 0/869 [00:00<?, ?it/s]"
      ]
     },
     "metadata": {},
     "output_type": "display_data"
    },
    {
     "name": "stdout",
     "output_type": "stream",
     "text": [
      "Epoch training time: 1126.961495399475\n"
     ]
    },
    {
     "data": {
      "application/vnd.jupyter.widget-view+json": {
       "model_id": "c7d8f7272ddc42209606b6279e7ad6cd",
       "version_major": 2,
       "version_minor": 0
      },
      "text/plain": [
       "  0%|          | 0/218 [00:00<?, ?it/s]"
      ]
     },
     "metadata": {},
     "output_type": "display_data"
    },
    {
     "name": "stdout",
     "output_type": "stream",
     "text": [
      "Validation Error: \n",
      " RMSE: 39.210520 \n",
      "\n",
      "Validation RMSE Decreased(39.276230--->39.210520) \t Saving The Model\n"
     ]
    }
   ],
   "source": [
    "num_batches = len(eval_dataloader)\n",
    "train_metrics = []\n",
    "val_metrics = []\n",
    "min_valid_metric = np.inf\n",
    "CONTINUE_TRAINING = True\n",
    "if CONTINUE_TRAINING:\n",
    "    saved_state_path = artifacts_dir + \"/20230112_UTAE_S2_B32_E15.pt\"\n",
    "    state_dict = torch.load(saved_state_path)\n",
    "    model.load_state_dict(state_dict)\n",
    "    # accelerator.load_state(artifacts_dir)\n",
    "    nb_epochs = 5\n",
    "else:\n",
    "    accelerator.save_state(artifacts_dir)\n",
    "\n",
    "for i in tqdm(range(nb_epochs)):\n",
    "    train_metrics_epoch = []\n",
    "    epoch_start = time()\n",
    "    for batch in tqdm(train_dataloader):\n",
    "        optimizer.zero_grad()\n",
    "        inputs = batch[\"image\"]\n",
    "        targets = batch[\"target\"]\n",
    "        inputs = torch.stack(inputs, dim=1)\n",
    "        outputs = model(inputs)\n",
    "        loss = loss_function(outputs, targets)\n",
    "        accelerator.backward(loss)\n",
    "        optimizer.step()\n",
    "        train_metrics_epoch.append(np.round(np.sqrt(loss.item()), 5))\n",
    "\n",
    "    epoch_end = time()\n",
    "    print(f\"Epoch training time: {epoch_end - epoch_start}\")\n",
    "    \n",
    "    # Save after each epoch\n",
    "    accelerator.save_state(artifacts_dir)\n",
    "    \n",
    "    # Validation Loop\n",
    "    val_loss = 0.0\n",
    "    with torch.no_grad():\n",
    "        for batch in tqdm(eval_dataloader):\n",
    "            inputs = batch[\"image\"]\n",
    "            targets = batch[\"target\"]\n",
    "            inputs = torch.stack(inputs, dim=1)\n",
    "            predictions = model(inputs)\n",
    "            # Gather all predictions and targets\n",
    "            all_predictions, all_targets = accelerator.gather_for_metrics((predictions, targets))\n",
    "            val_loss += loss_function(predictions, targets).item()\n",
    "\n",
    "    val_loss /= num_batches\n",
    "    val_rmse = np.round(np.sqrt(val_loss), 5)\n",
    "    print(f\"Validation Error: \\n RMSE: {val_rmse:>8f} \\n\")\n",
    "    train_metrics.extend(train_metrics_epoch)\n",
    "    val_metrics.append((len(train_metrics), val_rmse))\n",
    "    # check validation score, if improved then save model\n",
    "    if min_valid_metric > val_rmse:\n",
    "        print(f'Validation RMSE Decreased({min_valid_metric:.6f}--->{val_rmse:.6f}) \\t Saving The Model')\n",
    "        min_valid_metric = val_rmse\n",
    "\n",
    "        # Saving State Dict\n",
    "        torch.save(model.state_dict(), save_path)\n"
   ]
  },
  {
   "cell_type": "code",
   "execution_count": 23,
   "metadata": {
    "tags": []
   },
   "outputs": [],
   "source": [
    "##### Save the metrics to a file\n",
    "train_metrics_zipped = list(zip(np.arange(0, len(train_metrics)), train_metrics))\n",
    "metrics = {'training': train_metrics_zipped, 'validation': val_metrics}\n",
    "train_metrics_df = pd.DataFrame(metrics['training'], columns=[\"step\", \"score\"])\n",
    "val_metrics_df = pd.DataFrame(metrics[\"validation\"], columns=[\"step\", \"score\"])\n",
    "train_metrics_df.to_csv(artifacts_dir + \"/train_metrics.csv\")\n",
    "val_metrics_df.to_csv(artifacts_dir + \"/val_metrics.csv\")"
   ]
  }
 ],
 "metadata": {
  "kernelspec": {
   "display_name": "Python 3 (ipykernel)",
   "language": "python",
   "name": "python3"
  },
  "language_info": {
   "codemirror_mode": {
    "name": "ipython",
    "version": 3
   },
   "file_extension": ".py",
   "mimetype": "text/x-python",
   "name": "python",
   "nbconvert_exporter": "python",
   "pygments_lexer": "ipython3",
   "version": "3.9.13"
  },
  "vscode": {
   "interpreter": {
    "hash": "aee8b7b246df8f9039afb4144a1f6fd8d2ca17a180786b69acc140d282b71a49"
   }
  }
 },
 "nbformat": 4,
 "nbformat_minor": 4
}
